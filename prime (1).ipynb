{
 "cells": [
  {
   "cell_type": "code",
   "execution_count": 1,
   "source": [
    "def PC(a):\r\n",
    "    if a>1:\r\n",
    "        for j in range (2,int(a/2)+1):\r\n",
    "            if (a%j)==0:\r\n",
    "                print(a,\"is not a prime number\")\r\n",
    "                break\r\n",
    "            else:\r\n",
    "                print(\"is a prime number\")\r\n",
    "        else:\r\n",
    "            print('is not a prime number')\r\n",
    "a=int(input('enter a number'))\r\n",
    "PC(a)   "
   ],
   "outputs": [
    {
     "output_type": "stream",
     "name": "stdout",
     "text": [
      "enter a number10\n",
      "10 is not a prime number\n"
     ]
    }
   ],
   "metadata": {}
  },
  {
   "cell_type": "code",
   "execution_count": null,
   "source": [],
   "outputs": [],
   "metadata": {}
  }
 ],
 "metadata": {
  "kernelspec": {
   "display_name": "Python 3",
   "language": "python",
   "name": "python3"
  },
  "language_info": {
   "codemirror_mode": {
    "name": "ipython",
    "version": 3
   },
   "file_extension": ".py",
   "mimetype": "text/x-python",
   "name": "python",
   "nbconvert_exporter": "python",
   "pygments_lexer": "ipython3",
   "version": "3.8.5"
  }
 },
 "nbformat": 4,
 "nbformat_minor": 4
}