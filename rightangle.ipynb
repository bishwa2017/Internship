{
 "cells": [
  {
   "cell_type": "code",
   "execution_count": 1,
   "source": [
    "def pythagoras(opposite_side,adjacent_side,hypotenuse):\r\n",
    "    if opposite_side=='x':\r\n",
    "        return ('opposite='+str(((hypotenuse**2)-(adjacent_side**2))**0.5))\r\n",
    "    elif adjacent_side=='x':\r\n",
    "         return ('adjacent='+str(((hypotenuse**2)-(opposite_side**2))**0.5))\r\n",
    "    elif hypotenuse=='x':\r\n",
    "        return ('hypotenuse='+str(((opposite_side**2)+(adjacent_side**2))**0.5))\r\n",
    "    else:\r\n",
    "        print('you Know the answer!')\r\n",
    "print(pythagoras(3,4,'x'))\r\n",
    "print(pythagoras(3,'x',5))\r\n",
    "print(pythagoras('x',4,5))"
   ],
   "outputs": [
    {
     "output_type": "stream",
     "name": "stdout",
     "text": [
      "hypotenuse=5.0\n",
      "adjacent=4.0\n",
      "opposite=3.0\n"
     ]
    }
   ],
   "metadata": {}
  },
  {
   "cell_type": "code",
   "execution_count": null,
   "source": [],
   "outputs": [],
   "metadata": {}
  }
 ],
 "metadata": {
  "kernelspec": {
   "display_name": "Python 3",
   "language": "python",
   "name": "python3"
  },
  "language_info": {
   "codemirror_mode": {
    "name": "ipython",
    "version": 3
   },
   "file_extension": ".py",
   "mimetype": "text/x-python",
   "name": "python",
   "nbconvert_exporter": "python",
   "pygments_lexer": "ipython3",
   "version": "3.8.5"
  }
 },
 "nbformat": 4,
 "nbformat_minor": 4
}