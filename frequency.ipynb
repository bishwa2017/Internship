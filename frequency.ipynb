{
 "cells": [
  {
   "cell_type": "code",
   "execution_count": 3,
   "source": [
    "test_str = 'bishwajit'\r\n",
    "res = {}\r\n",
    "for keys in test_str:\r\n",
    "    res[keys]=res.get(keys, 0) + 1\r\n",
    "print(\"Count all characters in bishwajit is : \\n\" + str(res))"
   ],
   "outputs": [
    {
     "output_type": "stream",
     "name": "stdout",
     "text": [
      "Count all characters in bishwajit is : \n",
      "{'b': 1, 'i': 2, 's': 1, 'h': 1, 'w': 1, 'a': 1, 'j': 1, 't': 1}\n"
     ]
    }
   ],
   "metadata": {}
  },
  {
   "cell_type": "code",
   "execution_count": null,
   "source": [],
   "outputs": [],
   "metadata": {}
  }
 ],
 "metadata": {
  "kernelspec": {
   "display_name": "Python 3",
   "language": "python",
   "name": "python3"
  },
  "language_info": {
   "codemirror_mode": {
    "name": "ipython",
    "version": 3
   },
   "file_extension": ".py",
   "mimetype": "text/x-python",
   "name": "python",
   "nbconvert_exporter": "python",
   "pygments_lexer": "ipython3",
   "version": "3.8.5"
  }
 },
 "nbformat": 4,
 "nbformat_minor": 4
}