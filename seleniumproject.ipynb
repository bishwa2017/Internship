{
 "cells": [
  {
   "cell_type": "code",
   "execution_count": null,
   "metadata": {},
   "outputs": [],
   "source": [
    "!pip install selenium"
   ]
  },
  {
   "cell_type": "code",
   "execution_count": null,
   "metadata": {},
   "outputs": [],
   "source": [
    "import selenium\n",
    "import pandas as pd\n",
    "from selenium import webdriver\n",
    "from selenium.webdriver.common.keys import Keys\n",
    "import time\n",
    "from selenium.common.exceptions import NoSuchElementException"
   ]
  },
  {
   "cell_type": "markdown",
   "metadata": {},
   "source": [
    "# Question 1 and Question 2"
   ]
  },
  {
   "cell_type": "code",
   "execution_count": null,
   "metadata": {},
   "outputs": [],
   "source": [
    "driver = webdriver.Chrome(r'C:\\Users\\bisue\\Downloads\\chromedriver_win32\\chromedriver.exe')"
   ]
  },
  {
   "cell_type": "code",
   "execution_count": null,
   "metadata": {},
   "outputs": [],
   "source": [
    "driver.get('https://www.amazon.in')"
   ]
  },
  {
   "cell_type": "code",
   "execution_count": null,
   "metadata": {},
   "outputs": [],
   "source": [
    "search_item=driver.find_element_by_id('twotabsearchtextbox')\n",
    "search_item.send_keys('TV')"
   ]
  },
  {
   "cell_type": "code",
   "execution_count": null,
   "metadata": {},
   "outputs": [],
   "source": [
    "search_item.click()"
   ]
  },
  {
   "cell_type": "markdown",
   "metadata": {},
   "source": [
    "# Page 1"
   ]
  },
  {
   "cell_type": "code",
   "execution_count": null,
   "metadata": {},
   "outputs": [],
   "source": [
    "brand_details_list = driver.find_elements_by_xpath(\"//span[@class='a-truncate-full a-offscreen']\")\n",
    "brand_details = []\n",
    "for i in brand_details_list:\n",
    "    a = i.get_attribute('innerText')\n",
    "    print(a)\n",
    "    brand_details.append(a)\n",
    "print(brand_details)"
   ]
  },
  {
   "cell_type": "code",
   "execution_count": null,
   "metadata": {},
   "outputs": [],
   "source": [
    "product_details_list = driver.find_elements_by_xpath(\"//a[@class='a-link-normal a-text-normal']\")\n",
    "product_details = []\n",
    "for i in product_details_list:\n",
    "    a = i.get_attribute('innerText')\n",
    "    print(a)\n",
    "    product_details.append(a)\n",
    "print(product_details)"
   ]
  },
  {
   "cell_type": "code",
   "execution_count": null,
   "metadata": {},
   "outputs": [],
   "source": [
    "rating_details_list = driver.find_elements_by_xpath(\"//div[@class='a-row a-size-small']\")\n",
    "rating_details = []\n",
    "for i in rating_details_list:\n",
    "    a = i.get_attribute('innerText')\n",
    "    print(a)\n",
    "    rating_details.append(a)\n",
    "print(rating_details)"
   ]
  },
  {
   "cell_type": "code",
   "execution_count": null,
   "metadata": {},
   "outputs": [],
   "source": [
    "price_details_list = driver.find_elements_by_xpath(\"//a[@class='a-size-mini a-link-normal a-text-normal']\")\n",
    "price_details = []\n",
    "for i in price_details_list:\n",
    "    a = i.get_attribute('innerText')\n",
    "    print(a)\n",
    "    price_details.append(a)\n",
    "print(price_details)"
   ]
  },
  {
   "cell_type": "code",
   "execution_count": null,
   "metadata": {},
   "outputs": [],
   "source": [
    "delivary_details_list = driver.find_elements_by_xpath(\"//div[@class='a-row a-size-base a-color-secondary s-align-children-center']\")\n",
    "delivary_details = []\n",
    "for i in delivary_details_list:\n",
    "    a = i.get_attribute('innerText')\n",
    "    print(a)\n",
    "    delivary_details.append(a)\n",
    "print(delivary_details)"
   ]
  },
  {
   "cell_type": "code",
   "execution_count": null,
   "metadata": {},
   "outputs": [],
   "source": [
    "other_details_list = driver.find_elements_by_xpath(\"//span[@class='a-truncate']\")\n",
    "other_details = []\n",
    "for i in other_details_list:\n",
    "    a = i.get_attribute('innerText')\n",
    "    print(a)\n",
    "    other_details.append(a)\n",
    "print(other_details)"
   ]
  },
  {
   "cell_type": "code",
   "execution_count": null,
   "metadata": {},
   "outputs": [],
   "source": [
    "print(\"Brand Details=\",brand_details)\n",
    "Data=pd.DataFrame({})\n",
    "Data['Product']=product_details[0:5]\n",
    "Data['Rating']=rating_details[0:5]\n",
    "Data['Price']=price_details[0:5]\n",
    "Data['Delivary']=delivary_details[0:5]\n",
    "Data['Other']=other_details[0:5]\n",
    "Data.head(5)"
   ]
  },
  {
   "cell_type": "markdown",
   "metadata": {},
   "source": [
    "# Page:2"
   ]
  },
  {
   "cell_type": "code",
   "execution_count": null,
   "metadata": {},
   "outputs": [],
   "source": [
    "page2_button=driver.find_element_by_xpath('//li[@class=\"a-selected\"]')\n",
    "page2_button.click()"
   ]
  },
  {
   "cell_type": "code",
   "execution_count": null,
   "metadata": {},
   "outputs": [],
   "source": [
    "brand_details_list = driver.find_elements_by_xpath(\"//span[@class='a-truncate-full a-offscreen']\")\n",
    "brand_details = []\n",
    "for i in brand_details_list:\n",
    "    a = i.get_attribute('innerText')\n",
    "    print(a)\n",
    "    brand_details.append(a)\n",
    "print(brand_details)"
   ]
  },
  {
   "cell_type": "code",
   "execution_count": null,
   "metadata": {},
   "outputs": [],
   "source": [
    "product_details_list = driver.find_elements_by_xpath(\"//span[@class='a-size-medium a-color-base a-text-normal']\")\n",
    "product_details = []\n",
    "for i in product_details_list:\n",
    "    a = i.get_attribute('innerText')\n",
    "    print(a)\n",
    "    product_details.append(a)\n",
    "print(product_details)"
   ]
  },
  {
   "cell_type": "code",
   "execution_count": null,
   "metadata": {},
   "outputs": [],
   "source": [
    "rating_details_list = driver.find_elements_by_xpath(\"//i[@class='a-icon a-icon-star-small a-star-small-4 aok-align-bottom']\")\n",
    "rating_details = []\n",
    "for i in rating_details_list:\n",
    "    a = i.get_attribute('innerText')\n",
    "    print(a)\n",
    "    rating_details.append(a)\n",
    "print(rating_details)"
   ]
  },
  {
   "cell_type": "code",
   "execution_count": null,
   "metadata": {},
   "outputs": [],
   "source": [
    "price_details_list = driver.find_elements_by_xpath(\"//span[@class='a-price-whole']\")\n",
    "price_details = []\n",
    "for i in price_details_list:\n",
    "    a = i.get_attribute('innerText')\n",
    "    print(a)\n",
    "    price_details.append(a)\n",
    "print(price_details)"
   ]
  },
  {
   "cell_type": "code",
   "execution_count": null,
   "metadata": {},
   "outputs": [],
   "source": [
    "delivary_details_list = driver.find_elements_by_xpath(\"//div[@class='a-row a-size-base a-color-secondary s-align-children-center']\")\n",
    "delivary_details = []\n",
    "for i in delivary_details_list:\n",
    "    a = i.get_attribute('innerText')\n",
    "    print(a)\n",
    "    delivary_details.append(a)\n",
    "print(delivary_details)"
   ]
  },
  {
   "cell_type": "code",
   "execution_count": null,
   "metadata": {},
   "outputs": [],
   "source": [
    "other_details_list = driver.find_elements_by_xpath(\"//span[@class='a-truncate-cut']\")\n",
    "other_details = []\n",
    "for i in other_details_list:\n",
    "    a = i.get_attribute('innerText')\n",
    "    print(a)\n",
    "    other_details.append(a)\n",
    "print(other_details)"
   ]
  },
  {
   "cell_type": "code",
   "execution_count": null,
   "metadata": {},
   "outputs": [],
   "source": [
    "print(\"Brand Details=\",brand_details)\n",
    "Data=pd.DataFrame({})\n",
    "Data['Product']=product_details[0:5]\n",
    "Data['Rating']=rating_details[0:5]\n",
    "Data['Price']=price_details[0:5]\n",
    "Data['Delivary']=delivary_details[0:5]\n",
    "Data['Other']=other_details[0:5]\n",
    "Data.head(5)"
   ]
  },
  {
   "cell_type": "markdown",
   "metadata": {},
   "source": [
    "# Page 3"
   ]
  },
  {
   "cell_type": "code",
   "execution_count": null,
   "metadata": {},
   "outputs": [],
   "source": [
    "page3_button=driver.find_element_by_xpath('//li[@class=\"a-normal\"]')\n",
    "page3_button.click()"
   ]
  },
  {
   "cell_type": "code",
   "execution_count": null,
   "metadata": {},
   "outputs": [],
   "source": [
    "product_details_list = driver.find_elements_by_xpath(\"//span[@class='a-size-medium a-color-base a-text-normal']\")\n",
    "product_details = []\n",
    "for i in product_details_list:\n",
    "    a = i.get_attribute('innerText')\n",
    "    print(a)\n",
    "    product_details.append(a)\n",
    "print(product_details)"
   ]
  },
  {
   "cell_type": "code",
   "execution_count": null,
   "metadata": {},
   "outputs": [],
   "source": [
    "rating_details_list = driver.find_elements_by_xpath(\"//i[@class='a-icon a-icon-star-small a-star-small-4 aok-align-bottom']\")\n",
    "rating_details = []\n",
    "for i in rating_details_list:\n",
    "    a = i.get_attribute('innerText')\n",
    "    print(a)\n",
    "    rating_details.append(a)\n",
    "print(rating_details)"
   ]
  },
  {
   "cell_type": "code",
   "execution_count": null,
   "metadata": {},
   "outputs": [],
   "source": [
    "price_details_list = driver.find_elements_by_xpath(\"//span[@class='a-price']\")\n",
    "price_details = []\n",
    "for i in price_details_list:\n",
    "    a = i.get_attribute('innerText')\n",
    "    print(a)\n",
    "    price_details.append(a)\n",
    "print(price_details)"
   ]
  },
  {
   "cell_type": "code",
   "execution_count": null,
   "metadata": {},
   "outputs": [],
   "source": [
    "delivary_details_list = driver.find_elements_by_xpath(\"//div[@class='a-row a-size-base a-color-secondary s-align-children-center']\")\n",
    "delivary_details = []\n",
    "for i in delivary_details_list:\n",
    "    a = i.get_attribute('innerText')\n",
    "    print(a)\n",
    "    delivary_details.append(a)\n",
    "print(delivary_details)"
   ]
  },
  {
   "cell_type": "code",
   "execution_count": null,
   "metadata": {},
   "outputs": [],
   "source": [
    "other_details_list = driver.find_elements_by_xpath(\"//span[@class='a-truncate-cut']\")\n",
    "other_details = []\n",
    "for i in other_details_list:\n",
    "    a = i.get_attribute('innerText')\n",
    "    print(a)\n",
    "    other_details.append(a)\n",
    "print(other_details)"
   ]
  },
  {
   "cell_type": "code",
   "execution_count": null,
   "metadata": {},
   "outputs": [],
   "source": [
    "Data3=pd.DataFrame({})\n",
    "Data3['Product']=product_details[0:5]\n",
    "Data3['Rating']=rating_details[0:5]\n",
    "Data3['Price']=price_details[0:5]\n",
    "Data3['Delivary']=delivary_details[0:5]\n",
    "Data3['Other']=other_details[0:5]\n",
    "Data3.head(5)"
   ]
  },
  {
   "cell_type": "code",
   "execution_count": null,
   "metadata": {},
   "outputs": [],
   "source": [
    "driver.close()"
   ]
  },
  {
   "cell_type": "markdown",
   "metadata": {},
   "source": [
    "# Question 3"
   ]
  },
  {
   "cell_type": "code",
   "execution_count": 18,
   "metadata": {},
   "outputs": [],
   "source": [
    "driver = webdriver.Chrome(r'C:\\Users\\bisue\\Downloads\\chromedriver_win32\\chromedriver.exe')"
   ]
  },
  {
   "cell_type": "code",
   "execution_count": 19,
   "metadata": {},
   "outputs": [],
   "source": [
    "driver.get(\"https://images.google.com/\")"
   ]
  },
  {
   "cell_type": "code",
   "execution_count": 20,
   "metadata": {},
   "outputs": [],
   "source": [
    "search_item=driver.find_element_by_xpath('//input[@class=\"gLFyf gsfi\"]')\n",
    "search_item.send_keys('Fruits images')\n",
    "search_item.click()"
   ]
  },
  {
   "cell_type": "code",
   "execution_count": 21,
   "metadata": {},
   "outputs": [],
   "source": [
    "search_button=driver.find_element_by_xpath('//span[@class=\"z1asCe MZy1Rb\"]')\n",
    "search_button.click()"
   ]
  },
  {
   "cell_type": "code",
   "execution_count": 22,
   "metadata": {},
   "outputs": [
    {
     "name": "stdout",
     "output_type": "stream",
     "text": [
      "Educational Wall Chart For Kids ...\n",
      "amazon.in\n",
      "Jumbo All in One Fruits Chart for Kids ...\n",
      "amazon.in\n",
      "Fruits - Thick Laminated Primary Chart ...\n",
      "amazon.in\n",
      "25 Healthiest Fruits You Can Eat - Best ...\n",
      "goodhousekeeping.com\n",
      "Fruits\n",
      "healthyeating.org\n",
      "Fruit names ...\n",
      "in.pinterest.com\n",
      "Fruit Recognition using the ...\n",
      "analyticsindiamag.com\n",
      "How to Store Fruit to Keep them Fresh ...\n",
      "unlockfood.ca\n",
      "Fruits\n",
      "dole.com\n",
      "Fruits and vegetables images ...\n",
      "pinterest.com\n",
      "Mixed Fruit Stock Photos and Images ...\n",
      "123rf.com\n",
      "Vegetables Have the Most Pesticides ...\n",
      "time.com\n",
      "15 strange fruits and vegetables - CBS News\n",
      "cbsnews.com\n",
      "100+ Fruits Pictures | Download Free ...\n",
      "unsplash.com\n",
      "20 Exotic Fruits You Never Knew Existed ...\n",
      "sodelicious.recipes\n",
      "Fruits and vegetables names ...\n",
      "pinterest.com\n",
      "Do We Need Fruit Antioxidants ...\n",
      "diagnosisdiet.com\n",
      "fruits realistic Royalty Free Vector Image\n",
      "vectorstock.com\n",
      "Paper Fruits Name Poster, Multicolor ...\n",
      "amazon.in\n",
      "Thai Fruit: The 12 Best Thai Fruits You ...\n",
      "thekohsamuiguide.com\n",
      "Is Fruit Good or Bad for Your Health ...\n",
      "healthline.com\n",
      "20,000+ Best Fruit Photos · 100% Free ...\n",
      "pexels.com\n",
      "Learn Names ...\n",
      "youtube.com\n",
      "Most Popular Fruits In The World ...\n",
      "worldatlas.com\n",
      "lower risk of type 2 diabetes ...\n",
      "indianexpress.com\n",
      "High Protein Fruits to Add to Your Diet ...\n",
      "purewow.com\n",
      "diabetic care: 10 fruits diabetics ...\n",
      "economictimes.indiatimes.com\n",
      "All Fruits Images, Stock Photos ...\n",
      "shutterstock.com\n",
      "Fruits With Amazing Health Benefits ...\n",
      "everydayhealth.com\n",
      "100+ Fruits Pictures | Download Free ...\n",
      "unsplash.com\n",
      "Wikipedia:Featured pictures/Plants ...\n",
      "en.wikipedia.org\n",
      "Fruit Images | Free Vectors, Stock ...\n",
      "freepik.com\n",
      "10 best winter fruits you should eat to ...\n",
      "accuweather.com\n",
      "Buy Navneet Happy Wall Chart - Fruits ...\n",
      "amazon.in\n",
      "8 Best Power Fruits for Better Health\n",
      "mensjournal.com\n",
      "Exotic dragon fruits from Gujarat, West ...\n",
      "livemint.com\n",
      "20 Tasty Fruits with Health Benefits\n",
      "healthline.com\n",
      "Fruits for Weight Loss ...\n",
      "eatthis.com\n",
      "fruit | Definition, Description, Types ...\n",
      "britannica.com\n",
      "11 Best Fruits For Weight Loss ...\n",
      "womenshealthmag.com\n",
      "English and Hindi Paper Fruits Chart ...\n",
      "indiamart.com\n",
      "Fruits Name Chart- Hindi for Kids ...\n",
      "in.pinterest.com\n",
      "Is wax coating on fruits and veggies ...\n",
      "hindustantimes.com\n",
      "slowest perishable vegetables & fruits ...\n",
      "hospitalityinsights.ehl.edu\n",
      "21 Winter Fruits to Grow in Every Climate\n",
      "mydomaine.com\n",
      "Seasonal Fruits in India and its ...\n",
      "healthifyme.com\n",
      "39 Fruits That Start With A - Clean ...\n",
      "cleangreensimple.com\n",
      "11 Rare and Unusual Fruits You Can't ...\n",
      "cntraveler.com\n",
      "['Educational Wall Chart For Kids ...\\namazon.in', 'Jumbo All in One Fruits Chart for Kids ...\\namazon.in', 'Fruits - Thick Laminated Primary Chart ...\\namazon.in', '25 Healthiest Fruits You Can Eat - Best ...\\ngoodhousekeeping.com', 'Fruits\\nhealthyeating.org', 'Fruit names ...\\nin.pinterest.com', 'Fruit Recognition using the ...\\nanalyticsindiamag.com', 'How to Store Fruit to Keep them Fresh ...\\nunlockfood.ca', 'Fruits\\ndole.com', 'Fruits and vegetables images ...\\npinterest.com', 'Mixed Fruit Stock Photos and Images ...\\n123rf.com', 'Vegetables Have the Most Pesticides ...\\ntime.com', '15 strange fruits and vegetables - CBS News\\ncbsnews.com', '100+ Fruits Pictures | Download Free ...\\nunsplash.com', '20 Exotic Fruits You Never Knew Existed ...\\nsodelicious.recipes', 'Fruits and vegetables names ...\\npinterest.com', 'Do We Need Fruit Antioxidants ...\\ndiagnosisdiet.com', 'fruits realistic Royalty Free Vector Image\\nvectorstock.com', 'Paper Fruits Name Poster, Multicolor ...\\namazon.in', 'Thai Fruit: The 12 Best Thai Fruits You ...\\nthekohsamuiguide.com', 'Is Fruit Good or Bad for Your Health ...\\nhealthline.com', '20,000+ Best Fruit Photos · 100% Free ...\\npexels.com', 'Learn Names ...\\nyoutube.com', 'Most Popular Fruits In The World ...\\nworldatlas.com', 'lower risk of type 2 diabetes ...\\nindianexpress.com', 'High Protein Fruits to Add to Your Diet ...\\npurewow.com', 'diabetic care: 10 fruits diabetics ...\\neconomictimes.indiatimes.com', 'All Fruits Images, Stock Photos ...\\nshutterstock.com', 'Fruits With Amazing Health Benefits ...\\neverydayhealth.com', '100+ Fruits Pictures | Download Free ...\\nunsplash.com', 'Wikipedia:Featured pictures/Plants ...\\nen.wikipedia.org', 'Fruit Images | Free Vectors, Stock ...\\nfreepik.com', '10 best winter fruits you should eat to ...\\naccuweather.com', 'Buy Navneet Happy Wall Chart - Fruits ...\\namazon.in', '8 Best Power Fruits for Better Health\\nmensjournal.com', 'Exotic dragon fruits from Gujarat, West ...\\nlivemint.com', '20 Tasty Fruits with Health Benefits\\nhealthline.com', 'Fruits for Weight Loss ...\\neatthis.com', 'fruit | Definition, Description, Types ...\\nbritannica.com', '11 Best Fruits For Weight Loss ...\\nwomenshealthmag.com', 'English and Hindi Paper Fruits Chart ...\\nindiamart.com', 'Fruits Name Chart- Hindi for Kids ...\\nin.pinterest.com', 'Is wax coating on fruits and veggies ...\\nhindustantimes.com', 'slowest perishable vegetables & fruits ...\\nhospitalityinsights.ehl.edu', '21 Winter Fruits to Grow in Every Climate\\nmydomaine.com', 'Seasonal Fruits in India and its ...\\nhealthifyme.com', '39 Fruits That Start With A - Clean ...\\ncleangreensimple.com', \"11 Rare and Unusual Fruits You Can't ...\\ncntraveler.com\"]\n"
     ]
    }
   ],
   "source": [
    "fruits_name_list=driver.find_elements_by_xpath('//a[@class=\"VFACy kGQAp sMi44c lNHeqe WGvvNb\"]')\n",
    "fruits_name = []\n",
    "for i in fruits_name_list:\n",
    "    a = i.get_attribute('innerText')\n",
    "    print(a)\n",
    "    fruits_name.append(a)\n",
    "print(fruits_name)\n"
   ]
  },
  {
   "cell_type": "code",
   "execution_count": null,
   "metadata": {},
   "outputs": [],
   "source": [
    "driver.close()"
   ]
  },
  {
   "cell_type": "code",
   "execution_count": null,
   "metadata": {},
   "outputs": [],
   "source": [
    "driver = webdriver.Chrome(r'C:\\Users\\bisue\\Downloads\\chromedriver_win32\\chromedriver.exe')"
   ]
  },
  {
   "cell_type": "code",
   "execution_count": null,
   "metadata": {},
   "outputs": [],
   "source": [
    "driver.get(\"https://images.google.com/\")"
   ]
  },
  {
   "cell_type": "code",
   "execution_count": null,
   "metadata": {},
   "outputs": [],
   "source": [
    "search_item=driver.find_element_by_xpath('//input[@class=\"gLFyf gsfi\"]')\n",
    "search_item.send_keys('Car images')\n",
    "search_item.click()\n",
    "search_button=driver.find_element_by_xpath('//span[@class=\"z1asCe MZy1Rb\"]')\n",
    "search_button.click()"
   ]
  },
  {
   "cell_type": "code",
   "execution_count": null,
   "metadata": {},
   "outputs": [],
   "source": [
    "car_name_list=driver.find_elements_by_xpath('//a[@class=\"VFACy kGQAp sMi44c lNHeqe WGvvNb\"]')\n",
    "car_name = []\n",
    "for i in car_name_list:\n",
    "    a = i.get_attribute('innerText')\n",
    "    print(a)\n",
    "    car_name.append(a)\n",
    "print(car_name)"
   ]
  },
  {
   "cell_type": "code",
   "execution_count": null,
   "metadata": {},
   "outputs": [],
   "source": [
    "search_item=driver.find_element_by_xpath('//input[@class=\"gLFyf gsfi\"]')\n",
    "search_item.send_keys('Machine Learning’')\n",
    "search_item.click()\n",
    "search_button=driver.find_element_by_xpath('//span[@class=\"z1asCe MZy1Rb\"]')\n",
    "search_button.click()"
   ]
  },
  {
   "cell_type": "code",
   "execution_count": null,
   "metadata": {},
   "outputs": [],
   "source": [
    "Machinelarning_details_list=driver.find_elements_by_xpath('//a[@class=\"VFACy kGQAp sMi44c lNHeqe WGvvNb\"]')\n",
    "Machinelarning_details = []\n",
    "for i in Machinelarning_details_list:\n",
    "    a = i.get_attribute('innerText')\n",
    "    print(a)\n",
    "    Machinelarning_details.append(a)\n",
    "print(Machinelarning_details)"
   ]
  },
  {
   "cell_type": "code",
   "execution_count": 30,
   "metadata": {},
   "outputs": [],
   "source": [
    "driver.close()"
   ]
  },
  {
   "cell_type": "markdown",
   "metadata": {},
   "source": [
    "# Question 4"
   ]
  },
  {
   "cell_type": "code",
   "execution_count": null,
   "metadata": {},
   "outputs": [],
   "source": [
    "driver = webdriver.Chrome(r'C:\\Users\\bisue\\Downloads\\chromedriver_win32\\chromedriver.exe')"
   ]
  },
  {
   "cell_type": "code",
   "execution_count": null,
   "metadata": {},
   "outputs": [],
   "source": [
    "driver.get(\"https://www.flipkart.com/\")"
   ]
  },
  {
   "cell_type": "code",
   "execution_count": null,
   "metadata": {},
   "outputs": [],
   "source": [
    "search_item=driver.find_element_by_xpath('//input[@class=\"_3704LK\"]')\n",
    "search_item.send_keys('smartphone’')\n",
    "search_item.click()"
   ]
  },
  {
   "cell_type": "code",
   "execution_count": null,
   "metadata": {},
   "outputs": [],
   "source": [
    "search_button=driver.find_element_by_xpath('//button[@class=\"L0Z3Pu\"]')\n",
    "search_button.click()"
   ]
  },
  {
   "cell_type": "code",
   "execution_count": null,
   "metadata": {},
   "outputs": [],
   "source": [
    "driver.get(\"https://www.flipkart.com/kall-z5-green-16-gb/p/itmd861401a8b939?pid=MOBG7FGHHHHZFHZ9&lid=LSTMOBG7FGHHHHZFHZ9BQANIH&marketplace=FLIPKART&q=smartphone%E2%80%99&store=tyy%2F4io&srno=s_1_1&otracker=search&otracker1=search&fm=SEARCH&iid=683b9442-2e6c-4838-aad3-afe991534b96.MOBG7FGHHHHZFHZ9.SEARCH&ppt=hp&ppn=homepage&ssid=8w1x5xq5280000001634970428047&qH=347d0881ccd1fc09\")"
   ]
  },
  {
   "cell_type": "code",
   "execution_count": null,
   "metadata": {},
   "outputs": [],
   "source": [
    "Headings=driver.find_elements_by_xpath('//span[@class=\"B_NuCI\"]')\n",
    "Brand_name=[]\n",
    "for i in Headings:\n",
    "    a = i.get_attribute('innerText')\n",
    "    print(a)\n",
    "    Brand_name.append(a)\n",
    "print(Brand_name)"
   ]
  },
  {
   "cell_type": "code",
   "execution_count": null,
   "metadata": {},
   "outputs": [],
   "source": [
    "Ratings=driver.find_elements_by_xpath('//div[@class=\"_3LWZlK\"]')\n",
    "ratings_details=[]\n",
    "for i in Ratings:\n",
    "    a = i.get_attribute('innerText')\n",
    "    print(a)\n",
    "    ratings_details.append(a)\n",
    "print(ratings_details)"
   ]
  },
  {
   "cell_type": "code",
   "execution_count": null,
   "metadata": {},
   "outputs": [],
   "source": [
    "Price=driver.find_elements_by_xpath('//div[@class=\"_30jeq3 _16Jk6d\"]')\n",
    "price_details=[]\n",
    "for i in Price:\n",
    "    a = i.get_attribute('innerText')\n",
    "    print(a)\n",
    "    price_details.append(a)\n",
    "print(price_details)"
   ]
  },
  {
   "cell_type": "code",
   "execution_count": null,
   "metadata": {},
   "outputs": [],
   "source": [
    "Details=driver.find_elements_by_xpath('//div[@class=\"_2418kt\"]')\n",
    "highlights=[]\n",
    "for i in Details:\n",
    "    a = i.get_attribute('innerText')\n",
    "    print(a)\n",
    "    highlights.append(a)\n",
    "print(highlights)"
   ]
  },
  {
   "cell_type": "code",
   "execution_count": null,
   "metadata": {},
   "outputs": [],
   "source": [
    "General=driver.find_elements_by_xpath('//div[@class=\"_1UhVsV _3AsE0T\"]')\n",
    "Specification=[]\n",
    "for i in General:\n",
    "    a = i.get_attribute('innerText')\n",
    "    print(a)\n",
    "    Specification.append(a)\n",
    "print(Specification)"
   ]
  },
  {
   "cell_type": "markdown",
   "metadata": {},
   "source": [
    "# DataFrame Creation"
   ]
  },
  {
   "cell_type": "code",
   "execution_count": null,
   "metadata": {},
   "outputs": [],
   "source": [
    "data=pd.DataFrame({})\n",
    "data[\"Brand Name\"]=Brand_name\n",
    "data[\"Rating\"]=ratings_details\n",
    "data[\"Price\"]=price_details\n",
    "data[\"Details\"]=highlights\n",
    "data[\"Specification\"]=Specification\n",
    "data.head()"
   ]
  },
  {
   "cell_type": "markdown",
   "metadata": {},
   "source": [
    "# Creating Csv File"
   ]
  },
  {
   "cell_type": "code",
   "execution_count": null,
   "metadata": {},
   "outputs": [],
   "source": [
    "df=data\n",
    "df.index = df.index+1\n",
    "df.to_csv('Ikallz5.csv', index=False)"
   ]
  },
  {
   "cell_type": "code",
   "execution_count": null,
   "metadata": {},
   "outputs": [],
   "source": [
    "driver.close()"
   ]
  },
  {
   "cell_type": "markdown",
   "metadata": {},
   "source": [
    "# Question 5"
   ]
  },
  {
   "cell_type": "code",
   "execution_count": 26,
   "metadata": {},
   "outputs": [
    {
     "name": "stdout",
     "output_type": "stream",
     "text": [
      "Requirement already satisfied: bs4 in c:\\users\\bisue\\anaconda2\\lib\\site-packages (0.0.1)\n",
      "Requirement already satisfied: beautifulsoup4 in c:\\users\\bisue\\anaconda2\\lib\\site-packages (from bs4) (4.9.3)\n",
      "Requirement already satisfied: soupsieve>1.2; python_version >= \"3.0\" in c:\\users\\bisue\\anaconda2\\lib\\site-packages (from beautifulsoup4->bs4) (2.0.1)\n",
      "Note: you may need to restart the kernel to use updated packages.\n"
     ]
    }
   ],
   "source": [
    "pip install bs4"
   ]
  },
  {
   "cell_type": "code",
   "execution_count": 27,
   "metadata": {},
   "outputs": [
    {
     "name": "stdout",
     "output_type": "stream",
     "text": [
      "Collecting folium\n",
      "  Downloading folium-0.12.1-py2.py3-none-any.whl (94 kB)\n",
      "Collecting branca>=0.3.0\n",
      "  Downloading branca-0.4.2-py3-none-any.whl (24 kB)\n",
      "Requirement already satisfied: requests in c:\\users\\bisue\\anaconda2\\lib\\site-packages (from folium) (2.24.0)\n",
      "Requirement already satisfied: jinja2>=2.9 in c:\\users\\bisue\\anaconda2\\lib\\site-packages (from folium) (2.11.2)\n",
      "Requirement already satisfied: numpy in c:\\users\\bisue\\anaconda2\\lib\\site-packages (from folium) (1.19.2)\n",
      "Requirement already satisfied: idna<3,>=2.5 in c:\\users\\bisue\\anaconda2\\lib\\site-packages (from requests->folium) (2.10)\n",
      "Requirement already satisfied: urllib3!=1.25.0,!=1.25.1,<1.26,>=1.21.1 in c:\\users\\bisue\\anaconda2\\lib\\site-packages (from requests->folium) (1.25.11)\n",
      "Requirement already satisfied: chardet<4,>=3.0.2 in c:\\users\\bisue\\anaconda2\\lib\\site-packages (from requests->folium) (3.0.4)\n",
      "Requirement already satisfied: certifi>=2017.4.17 in c:\\users\\bisue\\anaconda2\\lib\\site-packages (from requests->folium) (2020.6.20)\n",
      "Requirement already satisfied: MarkupSafe>=0.23 in c:\\users\\bisue\\anaconda2\\lib\\site-packages (from jinja2>=2.9->folium) (1.1.1)\n",
      "Installing collected packages: branca, folium\n",
      "Successfully installed branca-0.4.2 folium-0.12.1\n"
     ]
    }
   ],
   "source": [
    "!pip install folium"
   ]
  },
  {
   "cell_type": "code",
   "execution_count": 28,
   "metadata": {},
   "outputs": [],
   "source": [
    "from selenium import webdriver\n",
    "from tqdm import tqdm_notebook as tqdmn\n",
    "import pandas as pd\n",
    "\n",
    "import folium"
   ]
  },
  {
   "cell_type": "code",
   "execution_count": 29,
   "metadata": {},
   "outputs": [
    {
     "data": {
      "text/html": [
       "<style>.dataframe th{background: rgb(63,87,124);background: linear-gradient(180deg, rgba(63,87,124,1) 0%, rgba(101,124,161,1) 100%, rgba(0,212,255,1) 100%);;\n",
       "padding: 10px;font-family: monospace;font-size: 110%;color: white;border:1px dashed white;text-align:left !important;\n",
       "-moz-border-radius: 3x;-webkit-border-radius: 3px;}.dataframe thead{border:none; !important;}</style>\n"
      ],
      "text/plain": [
       "<IPython.core.display.HTML object>"
      ]
     },
     "metadata": {},
     "output_type": "display_data"
    }
   ],
   "source": [
    "\n",
    "%%HTML\n",
    "<style>.dataframe th{background: rgb(63,87,124);background: linear-gradient(180deg, rgba(63,87,124,1) 0%, rgba(101,124,161,1) 100%, rgba(0,212,255,1) 100%);;\n",
    "padding: 10px;font-family: monospace;font-size: 110%;color: white;border:1px dashed white;text-align:left !important;\n",
    "-moz-border-radius: 3x;-webkit-border-radius: 3px;}.dataframe thead{border:none; !important;}</style>"
   ]
  },
  {
   "cell_type": "code",
   "execution_count": 35,
   "metadata": {},
   "outputs": [],
   "source": [
    "Url='https://www.google.com/maps/search/G Se 11 431 St Kilda Rd Melbourne'\n",
    "driver = webdriver.Chrome(r'C:\\Users\\bisue\\Downloads\\chromedriver_win32\\chromedriver.exe')\n",
    "driver.get(Url)"
   ]
  },
  {
   "cell_type": "code",
   "execution_count": 38,
   "metadata": {},
   "outputs": [
    {
     "name": "stderr",
     "output_type": "stream",
     "text": [
      "<ipython-input-38-d0fbc1bb8aea>:2: TqdmDeprecationWarning: This function will be removed in tqdm==5.0.0\n",
      "Please use `tqdm.notebook.tqdm` instead of `tqdm.tqdm_notebook`\n",
      "  for url in tqdmn(Url, leave=False):\n"
     ]
    },
    {
     "data": {
      "application/vnd.jupyter.widget-view+json": {
       "model_id": "",
       "version_major": 2,
       "version_minor": 0
      },
      "text/plain": [
       "HBox(children=(HTML(value=''), FloatProgress(value=0.0, max=68.0), HTML(value='')))"
      ]
     },
     "metadata": {},
     "output_type": "display_data"
    }
   ],
   "source": [
    "Url_With_Coordinates = []\n",
    "for url in tqdmn(Url, leave=False):\n",
    "    driver.get(Url)\n",
    "    Url_With_Coordinates.append(driver.find_element_by_css_selector('meta[itemprop=image]').get_attribute('content'))\n",
    "\n",
    "driver.close()\n",
    "\n",
    "import csv\n",
    "\n",
    "with open('Url_With_Coordinates.csv', 'w') as file:\n",
    "    wr = csv.writer(file)\n",
    "    wr.writerow(Url_With_Coordinates)"
   ]
  },
  {
   "cell_type": "code",
   "execution_count": 39,
   "metadata": {},
   "outputs": [],
   "source": [
    "import csv\n",
    "\n",
    "with open('Url_With_Coordinates.csv', 'r') as f:\n",
    "    reader = csv.reader(f, delimiter=',')\n",
    "    for i in reader:\n",
    "        Url_With_Coordinates = i\n",
    "        break"
   ]
  },
  {
   "cell_type": "code",
   "execution_count": 40,
   "metadata": {},
   "outputs": [
    {
     "data": {
      "text/plain": [
       "['https://maps.google.com/maps/api/staticmap?center=-37.8386737%2C144.97706&zoom=17&size=256x256&language=en&sensor=false&client=google-maps-frontend&signature=uFBzLNXh4_xAkoqxe9tXB97_zFk',\n",
       " 'https://maps.google.com/maps/api/staticmap?center=-37.8386737%2C144.97706&zoom=17&size=256x256&language=en&sensor=false&client=google-maps-frontend&signature=uFBzLNXh4_xAkoqxe9tXB97_zFk',\n",
       " 'https://maps.google.com/maps/api/staticmap?center=-37.8386737%2C144.97706&zoom=17&size=256x256&language=en&sensor=false&client=google-maps-frontend&signature=uFBzLNXh4_xAkoqxe9tXB97_zFk',\n",
       " 'https://maps.google.com/maps/api/staticmap?center=-37.8386737%2C144.97706&zoom=17&size=256x256&language=en&sensor=false&client=google-maps-frontend&signature=uFBzLNXh4_xAkoqxe9tXB97_zFk',\n",
       " 'https://maps.google.com/maps/api/staticmap?center=-37.8386737%2C144.97706&zoom=17&size=256x256&language=en&sensor=false&client=google-maps-frontend&signature=uFBzLNXh4_xAkoqxe9tXB97_zFk']"
      ]
     },
     "execution_count": 40,
     "metadata": {},
     "output_type": "execute_result"
    }
   ],
   "source": [
    "Url_With_Coordinates[:5]"
   ]
  },
  {
   "cell_type": "code",
   "execution_count": null,
   "metadata": {},
   "outputs": [],
   "source": []
  },
  {
   "cell_type": "markdown",
   "metadata": {},
   "source": [
    "# Question 8"
   ]
  },
  {
   "cell_type": "code",
   "execution_count": null,
   "metadata": {},
   "outputs": [],
   "source": [
    "import numpy as np\n",
    "import pandas as pd\n",
    "import pandas.util"
   ]
  },
  {
   "cell_type": "code",
   "execution_count": null,
   "metadata": {},
   "outputs": [],
   "source": []
  },
  {
   "cell_type": "code",
   "execution_count": null,
   "metadata": {},
   "outputs": [],
   "source": []
  },
  {
   "cell_type": "code",
   "execution_count": null,
   "metadata": {},
   "outputs": [],
   "source": []
  },
  {
   "cell_type": "code",
   "execution_count": null,
   "metadata": {},
   "outputs": [],
   "source": []
  },
  {
   "cell_type": "code",
   "execution_count": null,
   "metadata": {},
   "outputs": [],
   "source": []
  },
  {
   "cell_type": "markdown",
   "metadata": {},
   "source": [
    "# Question 9"
   ]
  },
  {
   "cell_type": "code",
   "execution_count": null,
   "metadata": {},
   "outputs": [],
   "source": [
    "from selenium import webdriver\n",
    "import time\n",
    "import os\n",
    "import csv\n",
    "import pandas as pd\n",
    "from math import ceil"
   ]
  },
  {
   "cell_type": "code",
   "execution_count": null,
   "metadata": {},
   "outputs": [],
   "source": [
    "csv_file = open('output_scraping.csv', 'w', encoding=\"UTF-8\", newline=\"\")\n",
    "writer = csv.writer(csv_file)"
   ]
  },
  {
   "cell_type": "code",
   "execution_count": null,
   "metadata": {},
   "outputs": [],
   "source": [
    "writer.writerow(\n",
    "    ['url', 'link_title', 'channel', 'no_of_views', 'time_uploaded', 'comment', 'author', 'comment_posted', \n",
    "     'no_of_replies','upvotes','downvotes'])"
   ]
  },
  {
   "cell_type": "code",
   "execution_count": null,
   "metadata": {},
   "outputs": [],
   "source": [
    "youtube_pages = \"https://www.youtube.com/\"\n",
    "driver = webdriver.Chrome(r'C:\\Users\\bisue\\Downloads\\chromedriver_win32\\chromedriver.exe')"
   ]
  },
  {
   "cell_type": "code",
   "execution_count": null,
   "metadata": {},
   "outputs": [],
   "source": [
    "driver.get(youtube_pages)\n",
    "time.sleep(10)"
   ]
  },
  {
   "cell_type": "code",
   "execution_count": null,
   "metadata": {},
   "outputs": [],
   "source": [
    "try:\n",
    "    print(\"=\" * 40)  # Shows in terminal when youtube summary page with search keyword is being scraped\n",
    "    print(\"Scraping \" + youtube_pages)\n",
    "    search = driver.find_element_by_id('search')\n",
    "    search.send_keys(\"Kishore Kumar\")    \n",
    "    driver.find_element_by_id('search-icon-legacy').click()\n",
    "    time.sleep(20)    \n",
    "    vtitle = driver.find_elements_by_id('video-title')\n",
    "    subscription = driver.find_elements_by_id('byline')\n",
    "    views = driver.find_elements_by_xpath('//div[@id=\"metadata-line\"]/span[1]')\n",
    "    posted = driver.find_elements_by_xpath('//div[@id=\"metadata-line\"]/span[2]')\n",
    "    \n",
    "    tcount = 0\n",
    "    href = []\n",
    "    title = []\n",
    "    channel = []\n",
    "    numview = []\n",
    "    postdate = []\n",
    "        \n",
    "    while tcount < 10:\n",
    "        href.append(vtitle[tcount].get_attribute('href'))\n",
    "        channel.append(subscription[tcount].get_attribute('title'))\n",
    "        title.append(vtitle[tcount].text)\n",
    "        numview.append(views[tcount].text)\n",
    "        postdate.append(posted[tcount].text)  \n",
    "        tcount = tcount +1\n",
    "    \n",
    "    # launch top ten extracted links and extract comment details\n",
    "    tcount = 0    \n",
    "    while tcount < 10:  \n",
    "        youtube_dict ={}\n",
    "        # extract comment section of top ten links\n",
    "        url = href[tcount]\n",
    "        print (url)\n",
    "        driver.get(url)\n",
    "        time.sleep(5)\n",
    "        \n",
    "        try:\n",
    "            print(\"+\" * 40)  # Shows in terminal when details of a new video is being scraped\n",
    "            print(\"Scraping child links \")\n",
    "            #scroll down to load comments\n",
    "            driver.execute_script('window.scrollTo(0,390);')\n",
    "            time.sleep(15)\n",
    "            #sort by top comments\n",
    "            sort= driver.find_element_by_xpath(\"\"\"//*[@id=\"icon-label\"]\"\"\")\n",
    "            sort.click()\n",
    "            time.sleep(10)\n",
    "            topcomments =driver.find_element_by_xpath(\"\"\"//*[@id=\"menu\"]/a[1]/paper-item/paper-item-body/div[1]\"\"\")\n",
    "            topcomments.click()\n",
    "            time.sleep(10)\n",
    "            # Loads 20 comments , scroll two times to load next set of 40 comments. \n",
    "            for i in range(0,2):\n",
    "                driver.execute_script(\"window.scrollTo(0,Math.max(document.documentElement.scrollHeight,document.body.scrollHeight,document.documentElement.clientHeight))\")\n",
    "                time.sleep(10)\n",
    "            \n",
    "            #count total number of comments and set index to number of comments if less than 50 otherwise set as 50. \n",
    "            totalcomments= len(driver.find_elements_by_xpath(\"\"\"//*[@id=\"content-text\"]\"\"\"))\n",
    "         \n",
    "            if totalcomments < 50:\n",
    "                index= totalcomments\n",
    "            else:\n",
    "                index= 50 \n",
    "                \n",
    "            ccount = 0\n",
    "            while ccount < index: \n",
    "                try:\n",
    "                    comment = driver.find_elements_by_xpath('//*[@id=\"content-text\"]')[ccount].text\n",
    "                except:\n",
    "                    comment = \"\"\n",
    "                try:\n",
    "                    authors = driver.find_elements_by_xpath('//a[@id=\"author-text\"]/span')[ccount].text\n",
    "                except:\n",
    "                    authors = \"\"\n",
    "                try:\n",
    "                    comment_posted = driver.find_elements_by_xpath('//*[@id=\"published-time-text\"]/a')[ccount].text\n",
    "                except:\n",
    "                    comment_posted = \"\"\n",
    "                try:\n",
    "                    replies = driver.find_elements_by_xpath('//*[@id=\"more-text\"]')[ccount].text                    \n",
    "                    if replies ==\"View reply\":\n",
    "                        replies= 1\n",
    "                    else:\n",
    "                        replies =replies.replace(\"View \",\"\")\n",
    "                        replies =replies.replace(\" replies\",\"\")\n",
    "                except:\n",
    "                    replies = \"\"\n",
    "                try:\n",
    "                    upvotes = driver.find_elements_by_xpath('//*[@id=\"vote-count-middle\"]')[ccount].text\n",
    "                except:\n",
    "                    upvotes = \"\"\n",
    "                        \n",
    "                youtube_dict['url'] = href[tcount]\n",
    "                youtube_dict['link_title'] = title[tcount]\n",
    "                youtube_dict['channel'] = channel[tcount]\n",
    "                youtube_dict['no_of_views'] = numview[tcount]\n",
    "                youtube_dict['time_uploaded'] =  postdate[tcount]\n",
    "                youtube_dict['comment'] = comment\n",
    "                youtube_dict['author'] = authors\n",
    "                youtube_dict['comment_posted'] = comment_posted\n",
    "                youtube_dict['no_of_replies'] = replies\n",
    "                youtube_dict['upvotes'] = upvotes\n",
    "                \n",
    "                writer.writerow(youtube_dict.values())\n",
    "                ccount = ccount +1\n",
    "                \n",
    "        except Exception as e:\n",
    "            print(e)\n",
    "            driver.close()\n",
    "        tcount = tcount +1 \n",
    "    print(\"Scrapping process Completed\")   \n",
    "    csv_file.close()    \n",
    "except Exception as e:\n",
    "    print(e)\n",
    "    driver.close()"
   ]
  },
  {
   "cell_type": "code",
   "execution_count": null,
   "metadata": {},
   "outputs": [],
   "source": []
  }
 ],
 "metadata": {
  "kernelspec": {
   "display_name": "Python 3",
   "language": "python",
   "name": "python3"
  },
  "language_info": {
   "codemirror_mode": {
    "name": "ipython",
    "version": 3
   },
   "file_extension": ".py",
   "mimetype": "text/x-python",
   "name": "python",
   "nbconvert_exporter": "python",
   "pygments_lexer": "ipython3",
   "version": "3.8.5"
  }
 },
 "nbformat": 4,
 "nbformat_minor": 4
}
