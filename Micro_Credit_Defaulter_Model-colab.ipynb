{
  "cells": [
    {
      "cell_type": "markdown",
      "metadata": {
        "id": "VnphaHrXjTm0"
      },
      "source": [
        "# Importing the Dataset:"
      ]
    },
    {
      "cell_type": "code",
      "execution_count": null,
      "metadata": {
        "id": "a6qpHr6HjTm_"
      },
      "outputs": [],
      "source": [
        "import pandas as pd\n",
        "import numpy as np\n",
        "import seaborn as sns"
      ]
    },
    {
      "cell_type": "code",
      "execution_count": null,
      "metadata": {
        "colab": {
          "base_uri": "https://localhost:8080/",
          "height": 73,
          "resources": {
            "http://localhost:8080/nbextensions/google.colab/files.js": {
              "data": "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",
              "headers": [
                [
                  "content-type",
                  "application/javascript"
                ]
              ],
              "ok": true,
              "status": 200,
              "status_text": ""
            }
          }
        },
        "id": "zqRC3sALjcPK",
        "outputId": "085322ac-77a5-4c71-bbff-74752f7c7ab1"
      },
      "outputs": [
        {
          "data": {
            "text/html": [
              "\n",
              "     <input type=\"file\" id=\"files-56409ed3-1e00-4c5e-8983-492da49812f5\" name=\"files[]\" multiple disabled\n",
              "        style=\"border:none\" />\n",
              "     <output id=\"result-56409ed3-1e00-4c5e-8983-492da49812f5\">\n",
              "      Upload widget is only available when the cell has been executed in the\n",
              "      current browser session. Please rerun this cell to enable.\n",
              "      </output>\n",
              "      <script src=\"/nbextensions/google.colab/files.js\"></script> "
            ],
            "text/plain": [
              "<IPython.core.display.HTML object>"
            ]
          },
          "metadata": {},
          "output_type": "display_data"
        },
        {
          "name": "stdout",
          "output_type": "stream",
          "text": [
            "Saving internshipfliprobo.xlsx to internshipfliprobo.xlsx\n"
          ]
        }
      ],
      "source": [
        "from google.colab import files\n",
        "uploaded = files.upload()"
      ]
    },
    {
      "cell_type": "code",
      "execution_count": null,
      "metadata": {
        "colab": {
          "base_uri": "https://localhost:8080/",
          "height": 622
        },
        "id": "SJqo7eEXjTnD",
        "outputId": "879fcb43-53ba-4724-f075-7cd6e8449641"
      },
      "outputs": [
        {
          "data": {
            "text/html": [
              "<div>\n",
              "<style scoped>\n",
              "    .dataframe tbody tr th:only-of-type {\n",
              "        vertical-align: middle;\n",
              "    }\n",
              "\n",
              "    .dataframe tbody tr th {\n",
              "        vertical-align: top;\n",
              "    }\n",
              "\n",
              "    .dataframe thead th {\n",
              "        text-align: right;\n",
              "    }\n",
              "</style>\n",
              "<table border=\"1\" class=\"dataframe\">\n",
              "  <thead>\n",
              "    <tr style=\"text-align: right;\">\n",
              "      <th></th>\n",
              "      <th>Unnamed: 0</th>\n",
              "      <th>label</th>\n",
              "      <th>msisdn</th>\n",
              "      <th>aon</th>\n",
              "      <th>daily_decr30</th>\n",
              "      <th>daily_decr90</th>\n",
              "      <th>rental30</th>\n",
              "      <th>rental90</th>\n",
              "      <th>last_rech_date_ma</th>\n",
              "      <th>last_rech_date_da</th>\n",
              "      <th>last_rech_amt_ma</th>\n",
              "      <th>cnt_ma_rech30</th>\n",
              "      <th>fr_ma_rech30</th>\n",
              "      <th>sumamnt_ma_rech30</th>\n",
              "      <th>medianamnt_ma_rech30</th>\n",
              "      <th>medianmarechprebal30</th>\n",
              "      <th>cnt_ma_rech90</th>\n",
              "      <th>fr_ma_rech90</th>\n",
              "      <th>sumamnt_ma_rech90</th>\n",
              "      <th>medianamnt_ma_rech90</th>\n",
              "      <th>medianmarechprebal90</th>\n",
              "      <th>cnt_da_rech30</th>\n",
              "      <th>fr_da_rech30</th>\n",
              "      <th>cnt_da_rech90</th>\n",
              "      <th>fr_da_rech90</th>\n",
              "      <th>cnt_loans30</th>\n",
              "      <th>amnt_loans30</th>\n",
              "      <th>maxamnt_loans30</th>\n",
              "      <th>medianamnt_loans30</th>\n",
              "      <th>cnt_loans90</th>\n",
              "      <th>amnt_loans90</th>\n",
              "      <th>maxamnt_loans90</th>\n",
              "      <th>medianamnt_loans90</th>\n",
              "      <th>payback30</th>\n",
              "      <th>payback90</th>\n",
              "      <th>pcircle</th>\n",
              "      <th>pdate</th>\n",
              "    </tr>\n",
              "  </thead>\n",
              "  <tbody>\n",
              "    <tr>\n",
              "      <th>0</th>\n",
              "      <td>1</td>\n",
              "      <td>0</td>\n",
              "      <td>21408I70789</td>\n",
              "      <td>272.0</td>\n",
              "      <td>3055.050000</td>\n",
              "      <td>3065.150000</td>\n",
              "      <td>220.13</td>\n",
              "      <td>260.13</td>\n",
              "      <td>2.0</td>\n",
              "      <td>0.0</td>\n",
              "      <td>1539</td>\n",
              "      <td>2</td>\n",
              "      <td>21.0</td>\n",
              "      <td>3078</td>\n",
              "      <td>1539.0</td>\n",
              "      <td>7.50</td>\n",
              "      <td>2</td>\n",
              "      <td>21</td>\n",
              "      <td>3078</td>\n",
              "      <td>1539.0</td>\n",
              "      <td>7.50</td>\n",
              "      <td>0.0</td>\n",
              "      <td>0.0</td>\n",
              "      <td>0</td>\n",
              "      <td>0</td>\n",
              "      <td>2</td>\n",
              "      <td>12</td>\n",
              "      <td>6.0</td>\n",
              "      <td>0.0</td>\n",
              "      <td>2.0</td>\n",
              "      <td>12</td>\n",
              "      <td>6</td>\n",
              "      <td>0.0</td>\n",
              "      <td>29.000000</td>\n",
              "      <td>29.000000</td>\n",
              "      <td>UPW</td>\n",
              "      <td>2016-07-20</td>\n",
              "    </tr>\n",
              "    <tr>\n",
              "      <th>1</th>\n",
              "      <td>2</td>\n",
              "      <td>1</td>\n",
              "      <td>76462I70374</td>\n",
              "      <td>712.0</td>\n",
              "      <td>12122.000000</td>\n",
              "      <td>12124.750000</td>\n",
              "      <td>3691.26</td>\n",
              "      <td>3691.26</td>\n",
              "      <td>20.0</td>\n",
              "      <td>0.0</td>\n",
              "      <td>5787</td>\n",
              "      <td>1</td>\n",
              "      <td>0.0</td>\n",
              "      <td>5787</td>\n",
              "      <td>5787.0</td>\n",
              "      <td>61.04</td>\n",
              "      <td>1</td>\n",
              "      <td>0</td>\n",
              "      <td>5787</td>\n",
              "      <td>5787.0</td>\n",
              "      <td>61.04</td>\n",
              "      <td>0.0</td>\n",
              "      <td>0.0</td>\n",
              "      <td>0</td>\n",
              "      <td>0</td>\n",
              "      <td>1</td>\n",
              "      <td>12</td>\n",
              "      <td>12.0</td>\n",
              "      <td>0.0</td>\n",
              "      <td>1.0</td>\n",
              "      <td>12</td>\n",
              "      <td>12</td>\n",
              "      <td>0.0</td>\n",
              "      <td>0.000000</td>\n",
              "      <td>0.000000</td>\n",
              "      <td>UPW</td>\n",
              "      <td>2016-08-10</td>\n",
              "    </tr>\n",
              "    <tr>\n",
              "      <th>2</th>\n",
              "      <td>3</td>\n",
              "      <td>1</td>\n",
              "      <td>17943I70372</td>\n",
              "      <td>535.0</td>\n",
              "      <td>1398.000000</td>\n",
              "      <td>1398.000000</td>\n",
              "      <td>900.13</td>\n",
              "      <td>900.13</td>\n",
              "      <td>3.0</td>\n",
              "      <td>0.0</td>\n",
              "      <td>1539</td>\n",
              "      <td>1</td>\n",
              "      <td>0.0</td>\n",
              "      <td>1539</td>\n",
              "      <td>1539.0</td>\n",
              "      <td>66.32</td>\n",
              "      <td>1</td>\n",
              "      <td>0</td>\n",
              "      <td>1539</td>\n",
              "      <td>1539.0</td>\n",
              "      <td>66.32</td>\n",
              "      <td>0.0</td>\n",
              "      <td>0.0</td>\n",
              "      <td>0</td>\n",
              "      <td>0</td>\n",
              "      <td>1</td>\n",
              "      <td>6</td>\n",
              "      <td>6.0</td>\n",
              "      <td>0.0</td>\n",
              "      <td>1.0</td>\n",
              "      <td>6</td>\n",
              "      <td>6</td>\n",
              "      <td>0.0</td>\n",
              "      <td>0.000000</td>\n",
              "      <td>0.000000</td>\n",
              "      <td>UPW</td>\n",
              "      <td>2016-08-19</td>\n",
              "    </tr>\n",
              "    <tr>\n",
              "      <th>3</th>\n",
              "      <td>4</td>\n",
              "      <td>1</td>\n",
              "      <td>55773I70781</td>\n",
              "      <td>241.0</td>\n",
              "      <td>21.228000</td>\n",
              "      <td>21.228000</td>\n",
              "      <td>159.42</td>\n",
              "      <td>159.42</td>\n",
              "      <td>41.0</td>\n",
              "      <td>0.0</td>\n",
              "      <td>947</td>\n",
              "      <td>0</td>\n",
              "      <td>0.0</td>\n",
              "      <td>0</td>\n",
              "      <td>0.0</td>\n",
              "      <td>0.00</td>\n",
              "      <td>1</td>\n",
              "      <td>0</td>\n",
              "      <td>947</td>\n",
              "      <td>947.0</td>\n",
              "      <td>2.50</td>\n",
              "      <td>0.0</td>\n",
              "      <td>0.0</td>\n",
              "      <td>0</td>\n",
              "      <td>0</td>\n",
              "      <td>2</td>\n",
              "      <td>12</td>\n",
              "      <td>6.0</td>\n",
              "      <td>0.0</td>\n",
              "      <td>2.0</td>\n",
              "      <td>12</td>\n",
              "      <td>6</td>\n",
              "      <td>0.0</td>\n",
              "      <td>0.000000</td>\n",
              "      <td>0.000000</td>\n",
              "      <td>UPW</td>\n",
              "      <td>2016-06-06</td>\n",
              "    </tr>\n",
              "    <tr>\n",
              "      <th>4</th>\n",
              "      <td>5</td>\n",
              "      <td>1</td>\n",
              "      <td>03813I82730</td>\n",
              "      <td>947.0</td>\n",
              "      <td>150.619333</td>\n",
              "      <td>150.619333</td>\n",
              "      <td>1098.90</td>\n",
              "      <td>1098.90</td>\n",
              "      <td>4.0</td>\n",
              "      <td>0.0</td>\n",
              "      <td>2309</td>\n",
              "      <td>7</td>\n",
              "      <td>2.0</td>\n",
              "      <td>20029</td>\n",
              "      <td>2309.0</td>\n",
              "      <td>29.00</td>\n",
              "      <td>8</td>\n",
              "      <td>2</td>\n",
              "      <td>23496</td>\n",
              "      <td>2888.0</td>\n",
              "      <td>35.00</td>\n",
              "      <td>0.0</td>\n",
              "      <td>0.0</td>\n",
              "      <td>0</td>\n",
              "      <td>0</td>\n",
              "      <td>7</td>\n",
              "      <td>42</td>\n",
              "      <td>6.0</td>\n",
              "      <td>0.0</td>\n",
              "      <td>7.0</td>\n",
              "      <td>42</td>\n",
              "      <td>6</td>\n",
              "      <td>0.0</td>\n",
              "      <td>2.333333</td>\n",
              "      <td>2.333333</td>\n",
              "      <td>UPW</td>\n",
              "      <td>2016-06-22</td>\n",
              "    </tr>\n",
              "    <tr>\n",
              "      <th>...</th>\n",
              "      <td>...</td>\n",
              "      <td>...</td>\n",
              "      <td>...</td>\n",
              "      <td>...</td>\n",
              "      <td>...</td>\n",
              "      <td>...</td>\n",
              "      <td>...</td>\n",
              "      <td>...</td>\n",
              "      <td>...</td>\n",
              "      <td>...</td>\n",
              "      <td>...</td>\n",
              "      <td>...</td>\n",
              "      <td>...</td>\n",
              "      <td>...</td>\n",
              "      <td>...</td>\n",
              "      <td>...</td>\n",
              "      <td>...</td>\n",
              "      <td>...</td>\n",
              "      <td>...</td>\n",
              "      <td>...</td>\n",
              "      <td>...</td>\n",
              "      <td>...</td>\n",
              "      <td>...</td>\n",
              "      <td>...</td>\n",
              "      <td>...</td>\n",
              "      <td>...</td>\n",
              "      <td>...</td>\n",
              "      <td>...</td>\n",
              "      <td>...</td>\n",
              "      <td>...</td>\n",
              "      <td>...</td>\n",
              "      <td>...</td>\n",
              "      <td>...</td>\n",
              "      <td>...</td>\n",
              "      <td>...</td>\n",
              "      <td>...</td>\n",
              "      <td>...</td>\n",
              "    </tr>\n",
              "    <tr>\n",
              "      <th>209588</th>\n",
              "      <td>209589</td>\n",
              "      <td>1</td>\n",
              "      <td>22758I85348</td>\n",
              "      <td>404.0</td>\n",
              "      <td>151.872333</td>\n",
              "      <td>151.872333</td>\n",
              "      <td>1089.19</td>\n",
              "      <td>1089.19</td>\n",
              "      <td>1.0</td>\n",
              "      <td>0.0</td>\n",
              "      <td>4048</td>\n",
              "      <td>3</td>\n",
              "      <td>2.0</td>\n",
              "      <td>10404</td>\n",
              "      <td>3178.0</td>\n",
              "      <td>91.81</td>\n",
              "      <td>3</td>\n",
              "      <td>2</td>\n",
              "      <td>10404</td>\n",
              "      <td>3178.0</td>\n",
              "      <td>91.81</td>\n",
              "      <td>0.0</td>\n",
              "      <td>0.0</td>\n",
              "      <td>0</td>\n",
              "      <td>0</td>\n",
              "      <td>2</td>\n",
              "      <td>12</td>\n",
              "      <td>6.0</td>\n",
              "      <td>0.0</td>\n",
              "      <td>2.0</td>\n",
              "      <td>12</td>\n",
              "      <td>6</td>\n",
              "      <td>0.0</td>\n",
              "      <td>1.000000</td>\n",
              "      <td>1.000000</td>\n",
              "      <td>UPW</td>\n",
              "      <td>2016-06-17</td>\n",
              "    </tr>\n",
              "    <tr>\n",
              "      <th>209589</th>\n",
              "      <td>209590</td>\n",
              "      <td>1</td>\n",
              "      <td>95583I84455</td>\n",
              "      <td>1075.0</td>\n",
              "      <td>36.936000</td>\n",
              "      <td>36.936000</td>\n",
              "      <td>1728.36</td>\n",
              "      <td>1728.36</td>\n",
              "      <td>4.0</td>\n",
              "      <td>0.0</td>\n",
              "      <td>773</td>\n",
              "      <td>4</td>\n",
              "      <td>1.0</td>\n",
              "      <td>3092</td>\n",
              "      <td>773.0</td>\n",
              "      <td>161.30</td>\n",
              "      <td>6</td>\n",
              "      <td>2</td>\n",
              "      <td>4038</td>\n",
              "      <td>773.0</td>\n",
              "      <td>111.80</td>\n",
              "      <td>0.0</td>\n",
              "      <td>0.0</td>\n",
              "      <td>0</td>\n",
              "      <td>0</td>\n",
              "      <td>3</td>\n",
              "      <td>18</td>\n",
              "      <td>6.0</td>\n",
              "      <td>0.0</td>\n",
              "      <td>3.0</td>\n",
              "      <td>18</td>\n",
              "      <td>6</td>\n",
              "      <td>0.0</td>\n",
              "      <td>1.000000</td>\n",
              "      <td>1.000000</td>\n",
              "      <td>UPW</td>\n",
              "      <td>2016-06-12</td>\n",
              "    </tr>\n",
              "    <tr>\n",
              "      <th>209590</th>\n",
              "      <td>209591</td>\n",
              "      <td>1</td>\n",
              "      <td>28556I85350</td>\n",
              "      <td>1013.0</td>\n",
              "      <td>11843.111667</td>\n",
              "      <td>11904.350000</td>\n",
              "      <td>5861.83</td>\n",
              "      <td>8893.20</td>\n",
              "      <td>3.0</td>\n",
              "      <td>0.0</td>\n",
              "      <td>1539</td>\n",
              "      <td>5</td>\n",
              "      <td>8.0</td>\n",
              "      <td>9334</td>\n",
              "      <td>1539.0</td>\n",
              "      <td>51.13</td>\n",
              "      <td>11</td>\n",
              "      <td>5</td>\n",
              "      <td>18592</td>\n",
              "      <td>1539.0</td>\n",
              "      <td>47.13</td>\n",
              "      <td>0.0</td>\n",
              "      <td>0.0</td>\n",
              "      <td>0</td>\n",
              "      <td>0</td>\n",
              "      <td>4</td>\n",
              "      <td>42</td>\n",
              "      <td>12.0</td>\n",
              "      <td>0.0</td>\n",
              "      <td>6.0</td>\n",
              "      <td>54</td>\n",
              "      <td>12</td>\n",
              "      <td>0.0</td>\n",
              "      <td>4.000000</td>\n",
              "      <td>3.833333</td>\n",
              "      <td>UPW</td>\n",
              "      <td>2016-07-29</td>\n",
              "    </tr>\n",
              "    <tr>\n",
              "      <th>209591</th>\n",
              "      <td>209592</td>\n",
              "      <td>1</td>\n",
              "      <td>59712I82733</td>\n",
              "      <td>1732.0</td>\n",
              "      <td>12488.228333</td>\n",
              "      <td>12574.370000</td>\n",
              "      <td>411.83</td>\n",
              "      <td>984.58</td>\n",
              "      <td>2.0</td>\n",
              "      <td>38.0</td>\n",
              "      <td>773</td>\n",
              "      <td>5</td>\n",
              "      <td>4.0</td>\n",
              "      <td>12154</td>\n",
              "      <td>773.0</td>\n",
              "      <td>164.00</td>\n",
              "      <td>6</td>\n",
              "      <td>4</td>\n",
              "      <td>17941</td>\n",
              "      <td>2410.5</td>\n",
              "      <td>100.00</td>\n",
              "      <td>0.0</td>\n",
              "      <td>0.0</td>\n",
              "      <td>1</td>\n",
              "      <td>0</td>\n",
              "      <td>2</td>\n",
              "      <td>18</td>\n",
              "      <td>12.0</td>\n",
              "      <td>0.0</td>\n",
              "      <td>3.0</td>\n",
              "      <td>24</td>\n",
              "      <td>12</td>\n",
              "      <td>0.0</td>\n",
              "      <td>0.000000</td>\n",
              "      <td>10.500000</td>\n",
              "      <td>UPW</td>\n",
              "      <td>2016-07-25</td>\n",
              "    </tr>\n",
              "    <tr>\n",
              "      <th>209592</th>\n",
              "      <td>209593</td>\n",
              "      <td>1</td>\n",
              "      <td>65061I85339</td>\n",
              "      <td>1581.0</td>\n",
              "      <td>4489.362000</td>\n",
              "      <td>4534.820000</td>\n",
              "      <td>483.92</td>\n",
              "      <td>631.20</td>\n",
              "      <td>13.0</td>\n",
              "      <td>0.0</td>\n",
              "      <td>7526</td>\n",
              "      <td>2</td>\n",
              "      <td>1.0</td>\n",
              "      <td>9065</td>\n",
              "      <td>4532.5</td>\n",
              "      <td>356.70</td>\n",
              "      <td>3</td>\n",
              "      <td>19</td>\n",
              "      <td>16591</td>\n",
              "      <td>7526.0</td>\n",
              "      <td>392.20</td>\n",
              "      <td>0.0</td>\n",
              "      <td>0.0</td>\n",
              "      <td>0</td>\n",
              "      <td>0</td>\n",
              "      <td>2</td>\n",
              "      <td>18</td>\n",
              "      <td>12.0</td>\n",
              "      <td>0.0</td>\n",
              "      <td>2.0</td>\n",
              "      <td>18</td>\n",
              "      <td>12</td>\n",
              "      <td>0.0</td>\n",
              "      <td>0.000000</td>\n",
              "      <td>0.000000</td>\n",
              "      <td>UPW</td>\n",
              "      <td>2016-07-07</td>\n",
              "    </tr>\n",
              "  </tbody>\n",
              "</table>\n",
              "<p>209593 rows × 37 columns</p>\n",
              "</div>"
            ],
            "text/plain": [
              "        Unnamed: 0  label       msisdn  ...  payback90  pcircle      pdate\n",
              "0                1      0  21408I70789  ...  29.000000      UPW 2016-07-20\n",
              "1                2      1  76462I70374  ...   0.000000      UPW 2016-08-10\n",
              "2                3      1  17943I70372  ...   0.000000      UPW 2016-08-19\n",
              "3                4      1  55773I70781  ...   0.000000      UPW 2016-06-06\n",
              "4                5      1  03813I82730  ...   2.333333      UPW 2016-06-22\n",
              "...            ...    ...          ...  ...        ...      ...        ...\n",
              "209588      209589      1  22758I85348  ...   1.000000      UPW 2016-06-17\n",
              "209589      209590      1  95583I84455  ...   1.000000      UPW 2016-06-12\n",
              "209590      209591      1  28556I85350  ...   3.833333      UPW 2016-07-29\n",
              "209591      209592      1  59712I82733  ...  10.500000      UPW 2016-07-25\n",
              "209592      209593      1  65061I85339  ...   0.000000      UPW 2016-07-07\n",
              "\n",
              "[209593 rows x 37 columns]"
            ]
          },
          "execution_count": 3,
          "metadata": {},
          "output_type": "execute_result"
        }
      ],
      "source": [
        "df = pd.DataFrame(pd.read_excel(\"internshipfliprobo.xlsx\"))\n",
        "df"
      ]
    },
    {
      "cell_type": "markdown",
      "metadata": {
        "id": "JfXTNfRJjTnG"
      },
      "source": [
        "# Checking Null values in the dataframe."
      ]
    },
    {
      "cell_type": "code",
      "execution_count": null,
      "metadata": {
        "colab": {
          "base_uri": "https://localhost:8080/"
        },
        "id": "i5NfsNAyjTnI",
        "outputId": "fe29dae1-1b2a-4965-d137-458222e9ed4e"
      },
      "outputs": [
        {
          "data": {
            "text/plain": [
              "Unnamed: 0              0\n",
              "label                   0\n",
              "msisdn                  0\n",
              "aon                     0\n",
              "daily_decr30            0\n",
              "daily_decr90            0\n",
              "rental30                0\n",
              "rental90                0\n",
              "last_rech_date_ma       0\n",
              "last_rech_date_da       0\n",
              "last_rech_amt_ma        0\n",
              "cnt_ma_rech30           0\n",
              "fr_ma_rech30            0\n",
              "sumamnt_ma_rech30       0\n",
              "medianamnt_ma_rech30    0\n",
              "medianmarechprebal30    0\n",
              "cnt_ma_rech90           0\n",
              "fr_ma_rech90            0\n",
              "sumamnt_ma_rech90       0\n",
              "medianamnt_ma_rech90    0\n",
              "medianmarechprebal90    0\n",
              "cnt_da_rech30           0\n",
              "fr_da_rech30            0\n",
              "cnt_da_rech90           0\n",
              "fr_da_rech90            0\n",
              "cnt_loans30             0\n",
              "amnt_loans30            0\n",
              "maxamnt_loans30         0\n",
              "medianamnt_loans30      0\n",
              "cnt_loans90             0\n",
              "amnt_loans90            0\n",
              "maxamnt_loans90         0\n",
              "medianamnt_loans90      0\n",
              "payback30               0\n",
              "payback90               0\n",
              "pcircle                 0\n",
              "pdate                   0\n",
              "dtype: int64"
            ]
          },
          "execution_count": 5,
          "metadata": {},
          "output_type": "execute_result"
        }
      ],
      "source": [
        "df.isnull().sum()"
      ]
    },
    {
      "cell_type": "code",
      "execution_count": null,
      "metadata": {
        "colab": {
          "base_uri": "https://localhost:8080/"
        },
        "id": "cGho53fljTnJ",
        "outputId": "54a5e8c2-5cba-4072-e9c9-abe5fc335681"
      },
      "outputs": [
        {
          "data": {
            "text/plain": [
              "Index(['Unnamed: 0', 'label', 'msisdn', 'aon', 'daily_decr30', 'daily_decr90',\n",
              "       'rental30', 'rental90', 'last_rech_date_ma', 'last_rech_date_da',\n",
              "       'last_rech_amt_ma', 'cnt_ma_rech30', 'fr_ma_rech30',\n",
              "       'sumamnt_ma_rech30', 'medianamnt_ma_rech30', 'medianmarechprebal30',\n",
              "       'cnt_ma_rech90', 'fr_ma_rech90', 'sumamnt_ma_rech90',\n",
              "       'medianamnt_ma_rech90', 'medianmarechprebal90', 'cnt_da_rech30',\n",
              "       'fr_da_rech30', 'cnt_da_rech90', 'fr_da_rech90', 'cnt_loans30',\n",
              "       'amnt_loans30', 'maxamnt_loans30', 'medianamnt_loans30', 'cnt_loans90',\n",
              "       'amnt_loans90', 'maxamnt_loans90', 'medianamnt_loans90', 'payback30',\n",
              "       'payback90', 'pcircle', 'pdate'],\n",
              "      dtype='object')"
            ]
          },
          "execution_count": 6,
          "metadata": {},
          "output_type": "execute_result"
        }
      ],
      "source": [
        "df.columns"
      ]
    },
    {
      "cell_type": "markdown",
      "metadata": {
        "id": "-OpiP-oejTnL"
      },
      "source": [
        "Since there are no null values then we can proceed."
      ]
    },
    {
      "cell_type": "markdown",
      "metadata": {
        "id": "hwr0a3KojTnN"
      },
      "source": [
        "# Checking the datatypes of the columns"
      ]
    },
    {
      "cell_type": "code",
      "execution_count": null,
      "metadata": {
        "colab": {
          "base_uri": "https://localhost:8080/"
        },
        "id": "oeAgfasIjTnO",
        "outputId": "d796128d-a1c0-4471-bc66-5b58da0d11a8",
        "scrolled": true
      },
      "outputs": [
        {
          "data": {
            "text/plain": [
              "Unnamed: 0                       int64\n",
              "label                            int64\n",
              "msisdn                          object\n",
              "aon                            float64\n",
              "daily_decr30                   float64\n",
              "daily_decr90                   float64\n",
              "rental30                       float64\n",
              "rental90                       float64\n",
              "last_rech_date_ma              float64\n",
              "last_rech_date_da              float64\n",
              "last_rech_amt_ma                 int64\n",
              "cnt_ma_rech30                    int64\n",
              "fr_ma_rech30                   float64\n",
              "sumamnt_ma_rech30                int64\n",
              "medianamnt_ma_rech30           float64\n",
              "medianmarechprebal30           float64\n",
              "cnt_ma_rech90                    int64\n",
              "fr_ma_rech90                     int64\n",
              "sumamnt_ma_rech90                int64\n",
              "medianamnt_ma_rech90           float64\n",
              "medianmarechprebal90           float64\n",
              "cnt_da_rech30                  float64\n",
              "fr_da_rech30                   float64\n",
              "cnt_da_rech90                    int64\n",
              "fr_da_rech90                     int64\n",
              "cnt_loans30                      int64\n",
              "amnt_loans30                     int64\n",
              "maxamnt_loans30                float64\n",
              "medianamnt_loans30             float64\n",
              "cnt_loans90                    float64\n",
              "amnt_loans90                     int64\n",
              "maxamnt_loans90                  int64\n",
              "medianamnt_loans90             float64\n",
              "payback30                      float64\n",
              "payback90                      float64\n",
              "pcircle                         object\n",
              "pdate                   datetime64[ns]\n",
              "dtype: object"
            ]
          },
          "execution_count": 7,
          "metadata": {},
          "output_type": "execute_result"
        }
      ],
      "source": [
        "df.dtypes"
      ]
    },
    {
      "cell_type": "markdown",
      "metadata": {
        "id": "UxELa_BwjTnS"
      },
      "source": [
        "# Making DataFrame for the Nominal Data"
      ]
    },
    {
      "cell_type": "code",
      "execution_count": null,
      "metadata": {
        "id": "jWkKcCOrjTnU"
      },
      "outputs": [],
      "source": [
        "df_visualization_nominal=df[['msisdn','pcircle']].copy()"
      ]
    },
    {
      "cell_type": "code",
      "execution_count": null,
      "metadata": {
        "colab": {
          "base_uri": "https://localhost:8080/"
        },
        "id": "8EEYVjabjTnV",
        "outputId": "970920d3-f96c-4668-d5ea-30e69e9f3aa0"
      },
      "outputs": [
        {
          "data": {
            "text/plain": [
              "Index(['msisdn', 'pcircle'], dtype='object')"
            ]
          },
          "execution_count": 9,
          "metadata": {},
          "output_type": "execute_result"
        }
      ],
      "source": [
        "df_visualization_nominal.columns"
      ]
    },
    {
      "cell_type": "code",
      "execution_count": null,
      "metadata": {
        "colab": {
          "base_uri": "https://localhost:8080/",
          "height": 313
        },
        "id": "DgXgw3qRjTnX",
        "outputId": "3d64d765-6505-4e69-9fe4-2254d14b4288"
      },
      "outputs": [
        {
          "name": "stdout",
          "output_type": "stream",
          "text": [
            "UPW    209593\n",
            "Name: pcircle, dtype: int64\n"
          ]
        },
        {
          "data": {
            "image/png": "[encoded data removed]",
            "text/plain": [
              "<Figure size 432x288 with 1 Axes>"
            ]
          },
          "metadata": {
            "needs_background": "light"
          },
          "output_type": "display_data"
        }
      ],
      "source": [
        "ax = sns.countplot(x=\"pcircle\", data=df_visualization_nominal)\n",
        "print(df_visualization_nominal[\"pcircle\"].value_counts())"
      ]
    },
    {
      "cell_type": "markdown",
      "metadata": {
        "id": "NxjL0awSjTnY"
      },
      "source": [
        "# Visualization of the Data:¶¶"
      ]
    },
    {
      "cell_type": "markdown",
      "metadata": {
        "id": "EA2HRI3NjTnZ"
      },
      "source": [
        "# Making dataframe of the ordinal data."
      ]
    },
    {
      "cell_type": "code",
      "execution_count": null,
      "metadata": {
        "id": "wMPNR-CLjTnZ"
      },
      "outputs": [],
      "source": [
        "df_visualization_ordinal=df[[\"label\",\"last_rech_amt_ma\",\"cnt_ma_rech30\",\"cnt_ma_rech90\",\"fr_da_rech90\",\"cnt_loans30\",\"amnt_loans30\",\"maxamnt_loans90\"]].copy()"
      ]
    },
    {
      "cell_type": "code",
      "execution_count": null,
      "metadata": {
        "colab": {
          "base_uri": "https://localhost:8080/",
          "height": 386
        },
        "id": "Mb65mCKTjTna",
        "outputId": "6f7e2d03-467b-4f09-b43c-8c0e7dfda902"
      },
      "outputs": [
        {
          "data": {
            "text/plain": [
              "<seaborn.axisgrid.FacetGrid at 0x7fcadbbe4550>"
            ]
          },
          "execution_count": 12,
          "metadata": {},
          "output_type": "execute_result"
        },
        {
          "data": {
            "image/png": "[encoded data removed]",
            "text/plain": [
              "<Figure size 360x360 with 1 Axes>"
            ]
          },
          "metadata": {
            "needs_background": "light"
          },
          "output_type": "display_data"
        }
      ],
      "source": [
        "sns.catplot(x=\"cnt_loans30\", y=\"amnt_loans30\", data=df)"
      ]
    },
    {
      "cell_type": "code",
      "execution_count": null,
      "metadata": {
        "colab": {
          "base_uri": "https://localhost:8080/",
          "height": 386
        },
        "id": "AEv1T73WjTnb",
        "outputId": "a6e70056-9766-4382-9588-092ec151101f"
      },
      "outputs": [
        {
          "data": {
            "text/plain": [
              "<seaborn.axisgrid.FacetGrid at 0x7fcadc21cd50>"
            ]
          },
          "execution_count": 13,
          "metadata": {},
          "output_type": "execute_result"
        },
        {
          "data": {
            "image/png": "[encoded data removed]",
            "text/plain": [
              "<Figure size 360x360 with 1 Axes>"
            ]
          },
          "metadata": {
            "needs_background": "light"
          },
          "output_type": "display_data"
        }
      ],
      "source": [
        "sns.catplot(x=\"label\", y=\"last_rech_amt_ma\", data=df)"
      ]
    },
    {
      "cell_type": "code",
      "execution_count": null,
      "metadata": {
        "colab": {
          "base_uri": "https://localhost:8080/",
          "height": 386
        },
        "id": "xnFMzbBhjTnc",
        "outputId": "1cc60fcd-7fc0-422b-d06d-df424527d169"
      },
      "outputs": [
        {
          "data": {
            "text/plain": [
              "<seaborn.axisgrid.FacetGrid at 0x7fcaf074a190>"
            ]
          },
          "execution_count": 14,
          "metadata": {},
          "output_type": "execute_result"
        },
        {
          "data": {
            "image/png": "[encoded data removed]",
            "text/plain": [
              "<Figure size 360x360 with 1 Axes>"
            ]
          },
          "metadata": {
            "needs_background": "light"
          },
          "output_type": "display_data"
        }
      ],
      "source": [
        "sns.catplot(x=\"label\", y=\"maxamnt_loans90\", data=df)"
      ]
    },
    {
      "cell_type": "code",
      "execution_count": null,
      "metadata": {
        "colab": {
          "base_uri": "https://localhost:8080/",
          "height": 350
        },
        "id": "agix4ZrEjTne",
        "outputId": "454beea1-dfa3-48a8-d831-d5e036838f39"
      },
      "outputs": [
        {
          "name": "stderr",
          "output_type": "stream",
          "text": [
            "/usr/local/lib/python3.7/dist-packages/seaborn/_decorators.py:43: FutureWarning: Pass the following variable as a keyword arg: x. From version 0.12, the only valid positional argument will be `data`, and passing other arguments without an explicit keyword will result in an error or misinterpretation.\n",
            "  FutureWarning\n"
          ]
        },
        {
          "data": {
            "text/plain": [
              "<matplotlib.axes._subplots.AxesSubplot at 0x7fcadbedc950>"
            ]
          },
          "execution_count": 15,
          "metadata": {},
          "output_type": "execute_result"
        },
        {
          "data": {
            "image/png": "[encoded data removed]",
            "text/plain": [
              "<Figure size 432x288 with 1 Axes>"
            ]
          },
          "metadata": {
            "needs_background": "light"
          },
          "output_type": "display_data"
        }
      ],
      "source": [
        "sns.barplot(df['maxamnt_loans90'])"
      ]
    },
    {
      "cell_type": "code",
      "execution_count": null,
      "metadata": {
        "colab": {
          "base_uri": "https://localhost:8080/",
          "height": 350
        },
        "id": "Rof3urfqjTnf",
        "outputId": "7085ac04-5b88-475b-f1e0-4429135dbeb5"
      },
      "outputs": [
        {
          "name": "stderr",
          "output_type": "stream",
          "text": [
            "/usr/local/lib/python3.7/dist-packages/seaborn/_decorators.py:43: FutureWarning: Pass the following variable as a keyword arg: x. From version 0.12, the only valid positional argument will be `data`, and passing other arguments without an explicit keyword will result in an error or misinterpretation.\n",
            "  FutureWarning\n"
          ]
        },
        {
          "data": {
            "text/plain": [
              "<matplotlib.axes._subplots.AxesSubplot at 0x7fcadc33e850>"
            ]
          },
          "execution_count": 16,
          "metadata": {},
          "output_type": "execute_result"
        },
        {
          "data": {
            "image/png": "[encoded data removed]",
            "text/plain": [
              "<Figure size 432x288 with 1 Axes>"
            ]
          },
          "metadata": {
            "needs_background": "light"
          },
          "output_type": "display_data"
        }
      ],
      "source": [
        "sns.boxplot(df['cnt_da_rech90'])"
      ]
    },
    {
      "cell_type": "markdown",
      "metadata": {
        "id": "kFGbjBVIjTng"
      },
      "source": [
        "# Checking the distribution of the continuous value of the float type columns"
      ]
    },
    {
      "cell_type": "code",
      "execution_count": null,
      "metadata": {
        "id": "rNVfLBenjTnh"
      },
      "outputs": [],
      "source": [
        "df_visualization_continuous=df[[\"aon\",\"daily_decr30\",\"daily_decr90\",\"rental30\",\"rental90\",\"last_rech_date_ma\",\"last_rech_date_da\",\"last_rech_amt_ma\",\"fr_ma_rech30\",\"medianamnt_ma_rech30\",\"medianmarechprebal30\",\"payback90\",\"payback30\",\"medianamnt_loans90\",\"maxamnt_loans30\",\"cnt_loans90\"]].copy()"
      ]
    },
    {
      "cell_type": "code",
      "execution_count": null,
      "metadata": {
        "colab": {
          "base_uri": "https://localhost:8080/",
          "height": 350
        },
        "id": "_K4OpTPIjTni",
        "outputId": "feae405c-99c2-4037-9ad4-c3fb7ffe1281"
      },
      "outputs": [
        {
          "name": "stderr",
          "output_type": "stream",
          "text": [
            "/usr/local/lib/python3.7/dist-packages/seaborn/distributions.py:2619: FutureWarning: `distplot` is a deprecated function and will be removed in a future version. Please adapt your code to use either `displot` (a figure-level function with similar flexibility) or `histplot` (an axes-level function for histograms).\n",
            "  warnings.warn(msg, FutureWarning)\n"
          ]
        },
        {
          "data": {
            "text/plain": [
              "<matplotlib.axes._subplots.AxesSubplot at 0x7fcadbe34410>"
            ]
          },
          "execution_count": 18,
          "metadata": {},
          "output_type": "execute_result"
        },
        {
          "data": {
            "image/png": "[encoded data removed]",
            "text/plain": [
              "<Figure size 432x288 with 1 Axes>"
            ]
          },
          "metadata": {
            "needs_background": "light"
          },
          "output_type": "display_data"
        }
      ],
      "source": [
        "sns.distplot(df_visualization_continuous['payback90'], kde=True)"
      ]
    },
    {
      "cell_type": "code",
      "execution_count": null,
      "metadata": {
        "colab": {
          "base_uri": "https://localhost:8080/",
          "height": 350
        },
        "id": "SciEsDMAjTnj",
        "outputId": "8dfc64f8-8a96-4903-d831-24dcafc141d4"
      },
      "outputs": [
        {
          "name": "stderr",
          "output_type": "stream",
          "text": [
            "/usr/local/lib/python3.7/dist-packages/seaborn/distributions.py:2619: FutureWarning: `distplot` is a deprecated function and will be removed in a future version. Please adapt your code to use either `displot` (a figure-level function with similar flexibility) or `histplot` (an axes-level function for histograms).\n",
            "  warnings.warn(msg, FutureWarning)\n"
          ]
        },
        {
          "data": {
            "text/plain": [
              "<matplotlib.axes._subplots.AxesSubplot at 0x7fcaf1fa48d0>"
            ]
          },
          "execution_count": 19,
          "metadata": {},
          "output_type": "execute_result"
        },
        {
          "data": {
            "image/png": "[encoded data removed]",
            "text/plain": [
              "<Figure size 432x288 with 1 Axes>"
            ]
          },
          "metadata": {
            "needs_background": "light"
          },
          "output_type": "display_data"
        }
      ],
      "source": [
        "sns.distplot(df_visualization_continuous['payback30'], kde=True)"
      ]
    },
    {
      "cell_type": "code",
      "execution_count": null,
      "metadata": {
        "colab": {
          "base_uri": "https://localhost:8080/",
          "height": 350
        },
        "id": "yuvGf5rojTnk",
        "outputId": "83131ce0-7873-4998-e0f1-92a19ef72873"
      },
      "outputs": [
        {
          "name": "stderr",
          "output_type": "stream",
          "text": [
            "/usr/local/lib/python3.7/dist-packages/seaborn/distributions.py:2619: FutureWarning: `distplot` is a deprecated function and will be removed in a future version. Please adapt your code to use either `displot` (a figure-level function with similar flexibility) or `histplot` (an axes-level function for histograms).\n",
            "  warnings.warn(msg, FutureWarning)\n"
          ]
        },
        {
          "data": {
            "text/plain": [
              "<matplotlib.axes._subplots.AxesSubplot at 0x7fcaf1c9fe50>"
            ]
          },
          "execution_count": 20,
          "metadata": {},
          "output_type": "execute_result"
        },
        {
          "data": {
            "image/png": "[encoded data removed]",
            "text/plain": [
              "<Figure size 432x288 with 1 Axes>"
            ]
          },
          "metadata": {
            "needs_background": "light"
          },
          "output_type": "display_data"
        }
      ],
      "source": [
        "sns.distplot(df_visualization_continuous['medianamnt_loans90'], kde=True)"
      ]
    },
    {
      "cell_type": "code",
      "execution_count": null,
      "metadata": {
        "colab": {
          "base_uri": "https://localhost:8080/",
          "height": 350
        },
        "id": "hajxzGRMjTnk",
        "outputId": "51032333-5732-4c28-e793-eecf84acd958"
      },
      "outputs": [
        {
          "name": "stderr",
          "output_type": "stream",
          "text": [
            "/usr/local/lib/python3.7/dist-packages/seaborn/distributions.py:2619: FutureWarning: `distplot` is a deprecated function and will be removed in a future version. Please adapt your code to use either `displot` (a figure-level function with similar flexibility) or `histplot` (an axes-level function for histograms).\n",
            "  warnings.warn(msg, FutureWarning)\n"
          ]
        },
        {
          "data": {
            "text/plain": [
              "<matplotlib.axes._subplots.AxesSubplot at 0x7fcaf2325b10>"
            ]
          },
          "execution_count": 21,
          "metadata": {},
          "output_type": "execute_result"
        },
        {
          "data": {
            "image/png": "[encoded data removed]",
            "text/plain": [
              "<Figure size 432x288 with 1 Axes>"
            ]
          },
          "metadata": {
            "needs_background": "light"
          },
          "output_type": "display_data"
        }
      ],
      "source": [
        "sns.distplot(df_visualization_continuous['cnt_loans90'], kde=True)"
      ]
    },
    {
      "cell_type": "markdown",
      "metadata": {
        "id": "-PItwzY6jTnl"
      },
      "source": [
        "### Since the dataset has a lot of string values. We will use the encoding techniques to convert the string data to numerical one"
      ]
    },
    {
      "cell_type": "markdown",
      "metadata": {
        "id": "9tJj0nJVjTnm"
      },
      "source": [
        "# Encoding of DataFrame:¶"
      ]
    },
    {
      "cell_type": "code",
      "execution_count": null,
      "metadata": {
        "id": "20H95lPgjTnm"
      },
      "outputs": [],
      "source": [
        "import sklearn\n",
        "from sklearn.preprocessing import OrdinalEncoder\n",
        "enc=OrdinalEncoder()"
      ]
    },
    {
      "cell_type": "code",
      "execution_count": null,
      "metadata": {
        "id": "AyVdBX5_jTnn"
      },
      "outputs": [],
      "source": [
        "for i in df.columns:\n",
        "    if df[i].dtypes==\"object\":\n",
        "        df[i]=enc.fit_transform(df[i].values.reshape(-1,1))"
      ]
    },
    {
      "cell_type": "code",
      "execution_count": null,
      "metadata": {
        "colab": {
          "base_uri": "https://localhost:8080/",
          "height": 622
        },
        "id": "XzW0c3TojTno",
        "outputId": "2af80a74-1577-4a73-c4cc-88ea56423ae5"
      },
      "outputs": [
        {
          "data": {
            "text/html": [
              "<div>\n",
              "<style scoped>\n",
              "    .dataframe tbody tr th:only-of-type {\n",
              "        vertical-align: middle;\n",
              "    }\n",
              "\n",
              "    .dataframe tbody tr th {\n",
              "        vertical-align: top;\n",
              "    }\n",
              "\n",
              "    .dataframe thead th {\n",
              "        text-align: right;\n",
              "    }\n",
              "</style>\n",
              "<table border=\"1\" class=\"dataframe\">\n",
              "  <thead>\n",
              "    <tr style=\"text-align: right;\">\n",
              "      <th></th>\n",
              "      <th>Unnamed: 0</th>\n",
              "      <th>label</th>\n",
              "      <th>msisdn</th>\n",
              "      <th>aon</th>\n",
              "      <th>daily_decr30</th>\n",
              "      <th>daily_decr90</th>\n",
              "      <th>rental30</th>\n",
              "      <th>rental90</th>\n",
              "      <th>last_rech_date_ma</th>\n",
              "      <th>last_rech_date_da</th>\n",
              "      <th>last_rech_amt_ma</th>\n",
              "      <th>cnt_ma_rech30</th>\n",
              "      <th>fr_ma_rech30</th>\n",
              "      <th>sumamnt_ma_rech30</th>\n",
              "      <th>medianamnt_ma_rech30</th>\n",
              "      <th>medianmarechprebal30</th>\n",
              "      <th>cnt_ma_rech90</th>\n",
              "      <th>fr_ma_rech90</th>\n",
              "      <th>sumamnt_ma_rech90</th>\n",
              "      <th>medianamnt_ma_rech90</th>\n",
              "      <th>medianmarechprebal90</th>\n",
              "      <th>cnt_da_rech30</th>\n",
              "      <th>fr_da_rech30</th>\n",
              "      <th>cnt_da_rech90</th>\n",
              "      <th>fr_da_rech90</th>\n",
              "      <th>cnt_loans30</th>\n",
              "      <th>amnt_loans30</th>\n",
              "      <th>maxamnt_loans30</th>\n",
              "      <th>medianamnt_loans30</th>\n",
              "      <th>cnt_loans90</th>\n",
              "      <th>amnt_loans90</th>\n",
              "      <th>maxamnt_loans90</th>\n",
              "      <th>medianamnt_loans90</th>\n",
              "      <th>payback30</th>\n",
              "      <th>payback90</th>\n",
              "      <th>pcircle</th>\n",
              "      <th>pdate</th>\n",
              "    </tr>\n",
              "  </thead>\n",
              "  <tbody>\n",
              "    <tr>\n",
              "      <th>0</th>\n",
              "      <td>1</td>\n",
              "      <td>0</td>\n",
              "      <td>40191.0</td>\n",
              "      <td>272.0</td>\n",
              "      <td>3055.050000</td>\n",
              "      <td>3065.150000</td>\n",
              "      <td>220.13</td>\n",
              "      <td>260.13</td>\n",
              "      <td>2.0</td>\n",
              "      <td>0.0</td>\n",
              "      <td>1539</td>\n",
              "      <td>2</td>\n",
              "      <td>21.0</td>\n",
              "      <td>3078</td>\n",
              "      <td>1539.0</td>\n",
              "      <td>7.50</td>\n",
              "      <td>2</td>\n",
              "      <td>21</td>\n",
              "      <td>3078</td>\n",
              "      <td>1539.0</td>\n",
              "      <td>7.50</td>\n",
              "      <td>0.0</td>\n",
              "      <td>0.0</td>\n",
              "      <td>0</td>\n",
              "      <td>0</td>\n",
              "      <td>2</td>\n",
              "      <td>12</td>\n",
              "      <td>6.0</td>\n",
              "      <td>0.0</td>\n",
              "      <td>2.0</td>\n",
              "      <td>12</td>\n",
              "      <td>6</td>\n",
              "      <td>0.0</td>\n",
              "      <td>29.000000</td>\n",
              "      <td>29.000000</td>\n",
              "      <td>0.0</td>\n",
              "      <td>2016-07-20</td>\n",
              "    </tr>\n",
              "    <tr>\n",
              "      <th>1</th>\n",
              "      <td>2</td>\n",
              "      <td>1</td>\n",
              "      <td>142291.0</td>\n",
              "      <td>712.0</td>\n",
              "      <td>12122.000000</td>\n",
              "      <td>12124.750000</td>\n",
              "      <td>3691.26</td>\n",
              "      <td>3691.26</td>\n",
              "      <td>20.0</td>\n",
              "      <td>0.0</td>\n",
              "      <td>5787</td>\n",
              "      <td>1</td>\n",
              "      <td>0.0</td>\n",
              "      <td>5787</td>\n",
              "      <td>5787.0</td>\n",
              "      <td>61.04</td>\n",
              "      <td>1</td>\n",
              "      <td>0</td>\n",
              "      <td>5787</td>\n",
              "      <td>5787.0</td>\n",
              "      <td>61.04</td>\n",
              "      <td>0.0</td>\n",
              "      <td>0.0</td>\n",
              "      <td>0</td>\n",
              "      <td>0</td>\n",
              "      <td>1</td>\n",
              "      <td>12</td>\n",
              "      <td>12.0</td>\n",
              "      <td>0.0</td>\n",
              "      <td>1.0</td>\n",
              "      <td>12</td>\n",
              "      <td>12</td>\n",
              "      <td>0.0</td>\n",
              "      <td>0.000000</td>\n",
              "      <td>0.000000</td>\n",
              "      <td>0.0</td>\n",
              "      <td>2016-08-10</td>\n",
              "    </tr>\n",
              "    <tr>\n",
              "      <th>2</th>\n",
              "      <td>3</td>\n",
              "      <td>1</td>\n",
              "      <td>33594.0</td>\n",
              "      <td>535.0</td>\n",
              "      <td>1398.000000</td>\n",
              "      <td>1398.000000</td>\n",
              "      <td>900.13</td>\n",
              "      <td>900.13</td>\n",
              "      <td>3.0</td>\n",
              "      <td>0.0</td>\n",
              "      <td>1539</td>\n",
              "      <td>1</td>\n",
              "      <td>0.0</td>\n",
              "      <td>1539</td>\n",
              "      <td>1539.0</td>\n",
              "      <td>66.32</td>\n",
              "      <td>1</td>\n",
              "      <td>0</td>\n",
              "      <td>1539</td>\n",
              "      <td>1539.0</td>\n",
              "      <td>66.32</td>\n",
              "      <td>0.0</td>\n",
              "      <td>0.0</td>\n",
              "      <td>0</td>\n",
              "      <td>0</td>\n",
              "      <td>1</td>\n",
              "      <td>6</td>\n",
              "      <td>6.0</td>\n",
              "      <td>0.0</td>\n",
              "      <td>1.0</td>\n",
              "      <td>6</td>\n",
              "      <td>6</td>\n",
              "      <td>0.0</td>\n",
              "      <td>0.000000</td>\n",
              "      <td>0.000000</td>\n",
              "      <td>0.0</td>\n",
              "      <td>2016-08-19</td>\n",
              "    </tr>\n",
              "    <tr>\n",
              "      <th>3</th>\n",
              "      <td>4</td>\n",
              "      <td>1</td>\n",
              "      <td>104157.0</td>\n",
              "      <td>241.0</td>\n",
              "      <td>21.228000</td>\n",
              "      <td>21.228000</td>\n",
              "      <td>159.42</td>\n",
              "      <td>159.42</td>\n",
              "      <td>41.0</td>\n",
              "      <td>0.0</td>\n",
              "      <td>947</td>\n",
              "      <td>0</td>\n",
              "      <td>0.0</td>\n",
              "      <td>0</td>\n",
              "      <td>0.0</td>\n",
              "      <td>0.00</td>\n",
              "      <td>1</td>\n",
              "      <td>0</td>\n",
              "      <td>947</td>\n",
              "      <td>947.0</td>\n",
              "      <td>2.50</td>\n",
              "      <td>0.0</td>\n",
              "      <td>0.0</td>\n",
              "      <td>0</td>\n",
              "      <td>0</td>\n",
              "      <td>2</td>\n",
              "      <td>12</td>\n",
              "      <td>6.0</td>\n",
              "      <td>0.0</td>\n",
              "      <td>2.0</td>\n",
              "      <td>12</td>\n",
              "      <td>6</td>\n",
              "      <td>0.0</td>\n",
              "      <td>0.000000</td>\n",
              "      <td>0.000000</td>\n",
              "      <td>0.0</td>\n",
              "      <td>2016-06-06</td>\n",
              "    </tr>\n",
              "    <tr>\n",
              "      <th>4</th>\n",
              "      <td>5</td>\n",
              "      <td>1</td>\n",
              "      <td>6910.0</td>\n",
              "      <td>947.0</td>\n",
              "      <td>150.619333</td>\n",
              "      <td>150.619333</td>\n",
              "      <td>1098.90</td>\n",
              "      <td>1098.90</td>\n",
              "      <td>4.0</td>\n",
              "      <td>0.0</td>\n",
              "      <td>2309</td>\n",
              "      <td>7</td>\n",
              "      <td>2.0</td>\n",
              "      <td>20029</td>\n",
              "      <td>2309.0</td>\n",
              "      <td>29.00</td>\n",
              "      <td>8</td>\n",
              "      <td>2</td>\n",
              "      <td>23496</td>\n",
              "      <td>2888.0</td>\n",
              "      <td>35.00</td>\n",
              "      <td>0.0</td>\n",
              "      <td>0.0</td>\n",
              "      <td>0</td>\n",
              "      <td>0</td>\n",
              "      <td>7</td>\n",
              "      <td>42</td>\n",
              "      <td>6.0</td>\n",
              "      <td>0.0</td>\n",
              "      <td>7.0</td>\n",
              "      <td>42</td>\n",
              "      <td>6</td>\n",
              "      <td>0.0</td>\n",
              "      <td>2.333333</td>\n",
              "      <td>2.333333</td>\n",
              "      <td>0.0</td>\n",
              "      <td>2016-06-22</td>\n",
              "    </tr>\n",
              "    <tr>\n",
              "      <th>...</th>\n",
              "      <td>...</td>\n",
              "      <td>...</td>\n",
              "      <td>...</td>\n",
              "      <td>...</td>\n",
              "      <td>...</td>\n",
              "      <td>...</td>\n",
              "      <td>...</td>\n",
              "      <td>...</td>\n",
              "      <td>...</td>\n",
              "      <td>...</td>\n",
              "      <td>...</td>\n",
              "      <td>...</td>\n",
              "      <td>...</td>\n",
              "      <td>...</td>\n",
              "      <td>...</td>\n",
              "      <td>...</td>\n",
              "      <td>...</td>\n",
              "      <td>...</td>\n",
              "      <td>...</td>\n",
              "      <td>...</td>\n",
              "      <td>...</td>\n",
              "      <td>...</td>\n",
              "      <td>...</td>\n",
              "      <td>...</td>\n",
              "      <td>...</td>\n",
              "      <td>...</td>\n",
              "      <td>...</td>\n",
              "      <td>...</td>\n",
              "      <td>...</td>\n",
              "      <td>...</td>\n",
              "      <td>...</td>\n",
              "      <td>...</td>\n",
              "      <td>...</td>\n",
              "      <td>...</td>\n",
              "      <td>...</td>\n",
              "      <td>...</td>\n",
              "      <td>...</td>\n",
              "    </tr>\n",
              "    <tr>\n",
              "      <th>209588</th>\n",
              "      <td>209589</td>\n",
              "      <td>1</td>\n",
              "      <td>42866.0</td>\n",
              "      <td>404.0</td>\n",
              "      <td>151.872333</td>\n",
              "      <td>151.872333</td>\n",
              "      <td>1089.19</td>\n",
              "      <td>1089.19</td>\n",
              "      <td>1.0</td>\n",
              "      <td>0.0</td>\n",
              "      <td>4048</td>\n",
              "      <td>3</td>\n",
              "      <td>2.0</td>\n",
              "      <td>10404</td>\n",
              "      <td>3178.0</td>\n",
              "      <td>91.81</td>\n",
              "      <td>3</td>\n",
              "      <td>2</td>\n",
              "      <td>10404</td>\n",
              "      <td>3178.0</td>\n",
              "      <td>91.81</td>\n",
              "      <td>0.0</td>\n",
              "      <td>0.0</td>\n",
              "      <td>0</td>\n",
              "      <td>0</td>\n",
              "      <td>2</td>\n",
              "      <td>12</td>\n",
              "      <td>6.0</td>\n",
              "      <td>0.0</td>\n",
              "      <td>2.0</td>\n",
              "      <td>12</td>\n",
              "      <td>6</td>\n",
              "      <td>0.0</td>\n",
              "      <td>1.000000</td>\n",
              "      <td>1.000000</td>\n",
              "      <td>0.0</td>\n",
              "      <td>2016-06-17</td>\n",
              "    </tr>\n",
              "    <tr>\n",
              "      <th>209589</th>\n",
              "      <td>209590</td>\n",
              "      <td>1</td>\n",
              "      <td>178248.0</td>\n",
              "      <td>1075.0</td>\n",
              "      <td>36.936000</td>\n",
              "      <td>36.936000</td>\n",
              "      <td>1728.36</td>\n",
              "      <td>1728.36</td>\n",
              "      <td>4.0</td>\n",
              "      <td>0.0</td>\n",
              "      <td>773</td>\n",
              "      <td>4</td>\n",
              "      <td>1.0</td>\n",
              "      <td>3092</td>\n",
              "      <td>773.0</td>\n",
              "      <td>161.30</td>\n",
              "      <td>6</td>\n",
              "      <td>2</td>\n",
              "      <td>4038</td>\n",
              "      <td>773.0</td>\n",
              "      <td>111.80</td>\n",
              "      <td>0.0</td>\n",
              "      <td>0.0</td>\n",
              "      <td>0</td>\n",
              "      <td>0</td>\n",
              "      <td>3</td>\n",
              "      <td>18</td>\n",
              "      <td>6.0</td>\n",
              "      <td>0.0</td>\n",
              "      <td>3.0</td>\n",
              "      <td>18</td>\n",
              "      <td>6</td>\n",
              "      <td>0.0</td>\n",
              "      <td>1.000000</td>\n",
              "      <td>1.000000</td>\n",
              "      <td>0.0</td>\n",
              "      <td>2016-06-12</td>\n",
              "    </tr>\n",
              "    <tr>\n",
              "      <th>209590</th>\n",
              "      <td>209591</td>\n",
              "      <td>1</td>\n",
              "      <td>53995.0</td>\n",
              "      <td>1013.0</td>\n",
              "      <td>11843.111667</td>\n",
              "      <td>11904.350000</td>\n",
              "      <td>5861.83</td>\n",
              "      <td>8893.20</td>\n",
              "      <td>3.0</td>\n",
              "      <td>0.0</td>\n",
              "      <td>1539</td>\n",
              "      <td>5</td>\n",
              "      <td>8.0</td>\n",
              "      <td>9334</td>\n",
              "      <td>1539.0</td>\n",
              "      <td>51.13</td>\n",
              "      <td>11</td>\n",
              "      <td>5</td>\n",
              "      <td>18592</td>\n",
              "      <td>1539.0</td>\n",
              "      <td>47.13</td>\n",
              "      <td>0.0</td>\n",
              "      <td>0.0</td>\n",
              "      <td>0</td>\n",
              "      <td>0</td>\n",
              "      <td>4</td>\n",
              "      <td>42</td>\n",
              "      <td>12.0</td>\n",
              "      <td>0.0</td>\n",
              "      <td>6.0</td>\n",
              "      <td>54</td>\n",
              "      <td>12</td>\n",
              "      <td>0.0</td>\n",
              "      <td>4.000000</td>\n",
              "      <td>3.833333</td>\n",
              "      <td>0.0</td>\n",
              "      <td>2016-07-29</td>\n",
              "    </tr>\n",
              "    <tr>\n",
              "      <th>209591</th>\n",
              "      <td>209592</td>\n",
              "      <td>1</td>\n",
              "      <td>111388.0</td>\n",
              "      <td>1732.0</td>\n",
              "      <td>12488.228333</td>\n",
              "      <td>12574.370000</td>\n",
              "      <td>411.83</td>\n",
              "      <td>984.58</td>\n",
              "      <td>2.0</td>\n",
              "      <td>38.0</td>\n",
              "      <td>773</td>\n",
              "      <td>5</td>\n",
              "      <td>4.0</td>\n",
              "      <td>12154</td>\n",
              "      <td>773.0</td>\n",
              "      <td>164.00</td>\n",
              "      <td>6</td>\n",
              "      <td>4</td>\n",
              "      <td>17941</td>\n",
              "      <td>2410.5</td>\n",
              "      <td>100.00</td>\n",
              "      <td>0.0</td>\n",
              "      <td>0.0</td>\n",
              "      <td>1</td>\n",
              "      <td>0</td>\n",
              "      <td>2</td>\n",
              "      <td>18</td>\n",
              "      <td>12.0</td>\n",
              "      <td>0.0</td>\n",
              "      <td>3.0</td>\n",
              "      <td>24</td>\n",
              "      <td>12</td>\n",
              "      <td>0.0</td>\n",
              "      <td>0.000000</td>\n",
              "      <td>10.500000</td>\n",
              "      <td>0.0</td>\n",
              "      <td>2016-07-25</td>\n",
              "    </tr>\n",
              "    <tr>\n",
              "      <th>209592</th>\n",
              "      <td>209593</td>\n",
              "      <td>1</td>\n",
              "      <td>121263.0</td>\n",
              "      <td>1581.0</td>\n",
              "      <td>4489.362000</td>\n",
              "      <td>4534.820000</td>\n",
              "      <td>483.92</td>\n",
              "      <td>631.20</td>\n",
              "      <td>13.0</td>\n",
              "      <td>0.0</td>\n",
              "      <td>7526</td>\n",
              "      <td>2</td>\n",
              "      <td>1.0</td>\n",
              "      <td>9065</td>\n",
              "      <td>4532.5</td>\n",
              "      <td>356.70</td>\n",
              "      <td>3</td>\n",
              "      <td>19</td>\n",
              "      <td>16591</td>\n",
              "      <td>7526.0</td>\n",
              "      <td>392.20</td>\n",
              "      <td>0.0</td>\n",
              "      <td>0.0</td>\n",
              "      <td>0</td>\n",
              "      <td>0</td>\n",
              "      <td>2</td>\n",
              "      <td>18</td>\n",
              "      <td>12.0</td>\n",
              "      <td>0.0</td>\n",
              "      <td>2.0</td>\n",
              "      <td>18</td>\n",
              "      <td>12</td>\n",
              "      <td>0.0</td>\n",
              "      <td>0.000000</td>\n",
              "      <td>0.000000</td>\n",
              "      <td>0.0</td>\n",
              "      <td>2016-07-07</td>\n",
              "    </tr>\n",
              "  </tbody>\n",
              "</table>\n",
              "<p>209593 rows × 37 columns</p>\n",
              "</div>"
            ],
            "text/plain": [
              "        Unnamed: 0  label    msisdn  ...  payback90  pcircle      pdate\n",
              "0                1      0   40191.0  ...  29.000000      0.0 2016-07-20\n",
              "1                2      1  142291.0  ...   0.000000      0.0 2016-08-10\n",
              "2                3      1   33594.0  ...   0.000000      0.0 2016-08-19\n",
              "3                4      1  104157.0  ...   0.000000      0.0 2016-06-06\n",
              "4                5      1    6910.0  ...   2.333333      0.0 2016-06-22\n",
              "...            ...    ...       ...  ...        ...      ...        ...\n",
              "209588      209589      1   42866.0  ...   1.000000      0.0 2016-06-17\n",
              "209589      209590      1  178248.0  ...   1.000000      0.0 2016-06-12\n",
              "209590      209591      1   53995.0  ...   3.833333      0.0 2016-07-29\n",
              "209591      209592      1  111388.0  ...  10.500000      0.0 2016-07-25\n",
              "209592      209593      1  121263.0  ...   0.000000      0.0 2016-07-07\n",
              "\n",
              "[209593 rows x 37 columns]"
            ]
          },
          "execution_count": 24,
          "metadata": {},
          "output_type": "execute_result"
        }
      ],
      "source": [
        "df"
      ]
    },
    {
      "cell_type": "code",
      "execution_count": null,
      "metadata": {
        "colab": {
          "base_uri": "https://localhost:8080/"
        },
        "id": "dO9eZFyyjTno",
        "outputId": "9c557a61-98dc-4301-f0e2-f5240641d941"
      },
      "outputs": [
        {
          "data": {
            "text/plain": [
              "Unnamed: 0                       int64\n",
              "label                            int64\n",
              "msisdn                         float64\n",
              "aon                            float64\n",
              "daily_decr30                   float64\n",
              "daily_decr90                   float64\n",
              "rental30                       float64\n",
              "rental90                       float64\n",
              "last_rech_date_ma              float64\n",
              "last_rech_date_da              float64\n",
              "last_rech_amt_ma                 int64\n",
              "cnt_ma_rech30                    int64\n",
              "fr_ma_rech30                   float64\n",
              "sumamnt_ma_rech30                int64\n",
              "medianamnt_ma_rech30           float64\n",
              "medianmarechprebal30           float64\n",
              "cnt_ma_rech90                    int64\n",
              "fr_ma_rech90                     int64\n",
              "sumamnt_ma_rech90                int64\n",
              "medianamnt_ma_rech90           float64\n",
              "medianmarechprebal90           float64\n",
              "cnt_da_rech30                  float64\n",
              "fr_da_rech30                   float64\n",
              "cnt_da_rech90                    int64\n",
              "fr_da_rech90                     int64\n",
              "cnt_loans30                      int64\n",
              "amnt_loans30                     int64\n",
              "maxamnt_loans30                float64\n",
              "medianamnt_loans30             float64\n",
              "cnt_loans90                    float64\n",
              "amnt_loans90                     int64\n",
              "maxamnt_loans90                  int64\n",
              "medianamnt_loans90             float64\n",
              "payback30                      float64\n",
              "payback90                      float64\n",
              "pcircle                        float64\n",
              "pdate                   datetime64[ns]\n",
              "dtype: object"
            ]
          },
          "execution_count": 25,
          "metadata": {},
          "output_type": "execute_result"
        }
      ],
      "source": [
        "df.dtypes"
      ]
    },
    {
      "cell_type": "markdown",
      "metadata": {
        "id": "MyQUDYuFjTnp"
      },
      "source": [
        "# Describe the dataset:¶"
      ]
    },
    {
      "cell_type": "code",
      "execution_count": null,
      "metadata": {
        "colab": {
          "base_uri": "https://localhost:8080/",
          "height": 315
        },
        "id": "LgakCdlujTnp",
        "outputId": "4d5af348-efb0-4331-c73c-51f46df95131"
      },
      "outputs": [
        {
          "data": {
            "text/html": [
              "<div>\n",
              "<style scoped>\n",
              "    .dataframe tbody tr th:only-of-type {\n",
              "        vertical-align: middle;\n",
              "    }\n",
              "\n",
              "    .dataframe tbody tr th {\n",
              "        vertical-align: top;\n",
              "    }\n",
              "\n",
              "    .dataframe thead th {\n",
              "        text-align: right;\n",
              "    }\n",
              "</style>\n",
              "<table border=\"1\" class=\"dataframe\">\n",
              "  <thead>\n",
              "    <tr style=\"text-align: right;\">\n",
              "      <th></th>\n",
              "      <th>Unnamed: 0</th>\n",
              "      <th>label</th>\n",
              "      <th>msisdn</th>\n",
              "      <th>aon</th>\n",
              "      <th>daily_decr30</th>\n",
              "      <th>daily_decr90</th>\n",
              "      <th>rental30</th>\n",
              "      <th>rental90</th>\n",
              "      <th>last_rech_date_ma</th>\n",
              "      <th>last_rech_date_da</th>\n",
              "      <th>last_rech_amt_ma</th>\n",
              "      <th>cnt_ma_rech30</th>\n",
              "      <th>fr_ma_rech30</th>\n",
              "      <th>sumamnt_ma_rech30</th>\n",
              "      <th>medianamnt_ma_rech30</th>\n",
              "      <th>medianmarechprebal30</th>\n",
              "      <th>cnt_ma_rech90</th>\n",
              "      <th>fr_ma_rech90</th>\n",
              "      <th>sumamnt_ma_rech90</th>\n",
              "      <th>medianamnt_ma_rech90</th>\n",
              "      <th>medianmarechprebal90</th>\n",
              "      <th>cnt_da_rech30</th>\n",
              "      <th>fr_da_rech30</th>\n",
              "      <th>cnt_da_rech90</th>\n",
              "      <th>fr_da_rech90</th>\n",
              "      <th>cnt_loans30</th>\n",
              "      <th>amnt_loans30</th>\n",
              "      <th>maxamnt_loans30</th>\n",
              "      <th>medianamnt_loans30</th>\n",
              "      <th>cnt_loans90</th>\n",
              "      <th>amnt_loans90</th>\n",
              "      <th>maxamnt_loans90</th>\n",
              "      <th>medianamnt_loans90</th>\n",
              "      <th>payback30</th>\n",
              "      <th>payback90</th>\n",
              "      <th>pcircle</th>\n",
              "    </tr>\n",
              "  </thead>\n",
              "  <tbody>\n",
              "    <tr>\n",
              "      <th>count</th>\n",
              "      <td>209593.000000</td>\n",
              "      <td>209593.000000</td>\n",
              "      <td>209593.000000</td>\n",
              "      <td>209593.000000</td>\n",
              "      <td>209593.000000</td>\n",
              "      <td>209593.000000</td>\n",
              "      <td>209593.000000</td>\n",
              "      <td>209593.000000</td>\n",
              "      <td>209593.000000</td>\n",
              "      <td>209593.000000</td>\n",
              "      <td>209593.000000</td>\n",
              "      <td>209593.000000</td>\n",
              "      <td>209593.000000</td>\n",
              "      <td>209593.000000</td>\n",
              "      <td>209593.000000</td>\n",
              "      <td>209593.000000</td>\n",
              "      <td>209593.00000</td>\n",
              "      <td>209593.000000</td>\n",
              "      <td>209593.000000</td>\n",
              "      <td>209593.000000</td>\n",
              "      <td>209593.000000</td>\n",
              "      <td>209593.000000</td>\n",
              "      <td>209593.000000</td>\n",
              "      <td>209593.000000</td>\n",
              "      <td>209593.000000</td>\n",
              "      <td>209593.000000</td>\n",
              "      <td>209593.000000</td>\n",
              "      <td>209593.000000</td>\n",
              "      <td>209593.000000</td>\n",
              "      <td>209593.000000</td>\n",
              "      <td>209593.000000</td>\n",
              "      <td>209593.000000</td>\n",
              "      <td>209593.000000</td>\n",
              "      <td>209593.000000</td>\n",
              "      <td>209593.000000</td>\n",
              "      <td>209593.0</td>\n",
              "    </tr>\n",
              "    <tr>\n",
              "      <th>mean</th>\n",
              "      <td>104797.000000</td>\n",
              "      <td>0.875177</td>\n",
              "      <td>93100.650179</td>\n",
              "      <td>8112.343445</td>\n",
              "      <td>5381.402289</td>\n",
              "      <td>6082.515068</td>\n",
              "      <td>2692.581910</td>\n",
              "      <td>3483.406534</td>\n",
              "      <td>3755.847800</td>\n",
              "      <td>3712.202921</td>\n",
              "      <td>2064.452797</td>\n",
              "      <td>3.978057</td>\n",
              "      <td>3737.355121</td>\n",
              "      <td>7704.501157</td>\n",
              "      <td>1812.817952</td>\n",
              "      <td>3851.927942</td>\n",
              "      <td>6.31543</td>\n",
              "      <td>7.716780</td>\n",
              "      <td>12396.218352</td>\n",
              "      <td>1864.595821</td>\n",
              "      <td>92.025541</td>\n",
              "      <td>262.578110</td>\n",
              "      <td>3749.494447</td>\n",
              "      <td>0.041495</td>\n",
              "      <td>0.045712</td>\n",
              "      <td>2.758981</td>\n",
              "      <td>17.952021</td>\n",
              "      <td>274.658747</td>\n",
              "      <td>0.054029</td>\n",
              "      <td>18.520919</td>\n",
              "      <td>23.645398</td>\n",
              "      <td>6.703134</td>\n",
              "      <td>0.046077</td>\n",
              "      <td>3.398826</td>\n",
              "      <td>4.321485</td>\n",
              "      <td>0.0</td>\n",
              "    </tr>\n",
              "    <tr>\n",
              "      <th>std</th>\n",
              "      <td>60504.431823</td>\n",
              "      <td>0.330519</td>\n",
              "      <td>53758.461427</td>\n",
              "      <td>75696.082531</td>\n",
              "      <td>9220.623400</td>\n",
              "      <td>10918.812767</td>\n",
              "      <td>4308.586781</td>\n",
              "      <td>5770.461279</td>\n",
              "      <td>53905.892230</td>\n",
              "      <td>53374.833430</td>\n",
              "      <td>2370.786034</td>\n",
              "      <td>4.256090</td>\n",
              "      <td>53643.625172</td>\n",
              "      <td>10139.621714</td>\n",
              "      <td>2070.864620</td>\n",
              "      <td>54006.374433</td>\n",
              "      <td>7.19347</td>\n",
              "      <td>12.590251</td>\n",
              "      <td>16857.793882</td>\n",
              "      <td>2081.680664</td>\n",
              "      <td>369.215658</td>\n",
              "      <td>4183.897978</td>\n",
              "      <td>53885.414979</td>\n",
              "      <td>0.397556</td>\n",
              "      <td>0.951386</td>\n",
              "      <td>2.554502</td>\n",
              "      <td>17.379741</td>\n",
              "      <td>4245.264648</td>\n",
              "      <td>0.218039</td>\n",
              "      <td>224.797423</td>\n",
              "      <td>26.469861</td>\n",
              "      <td>2.103864</td>\n",
              "      <td>0.200692</td>\n",
              "      <td>8.813729</td>\n",
              "      <td>10.308108</td>\n",
              "      <td>0.0</td>\n",
              "    </tr>\n",
              "    <tr>\n",
              "      <th>min</th>\n",
              "      <td>1.000000</td>\n",
              "      <td>0.000000</td>\n",
              "      <td>0.000000</td>\n",
              "      <td>-48.000000</td>\n",
              "      <td>-93.012667</td>\n",
              "      <td>-93.012667</td>\n",
              "      <td>-23737.140000</td>\n",
              "      <td>-24720.580000</td>\n",
              "      <td>-29.000000</td>\n",
              "      <td>-29.000000</td>\n",
              "      <td>0.000000</td>\n",
              "      <td>0.000000</td>\n",
              "      <td>0.000000</td>\n",
              "      <td>0.000000</td>\n",
              "      <td>0.000000</td>\n",
              "      <td>-200.000000</td>\n",
              "      <td>0.00000</td>\n",
              "      <td>0.000000</td>\n",
              "      <td>0.000000</td>\n",
              "      <td>0.000000</td>\n",
              "      <td>-200.000000</td>\n",
              "      <td>0.000000</td>\n",
              "      <td>0.000000</td>\n",
              "      <td>0.000000</td>\n",
              "      <td>0.000000</td>\n",
              "      <td>0.000000</td>\n",
              "      <td>0.000000</td>\n",
              "      <td>0.000000</td>\n",
              "      <td>0.000000</td>\n",
              "      <td>0.000000</td>\n",
              "      <td>0.000000</td>\n",
              "      <td>0.000000</td>\n",
              "      <td>0.000000</td>\n",
              "      <td>0.000000</td>\n",
              "      <td>0.000000</td>\n",
              "      <td>0.0</td>\n",
              "    </tr>\n",
              "    <tr>\n",
              "      <th>25%</th>\n",
              "      <td>52399.000000</td>\n",
              "      <td>1.000000</td>\n",
              "      <td>46506.000000</td>\n",
              "      <td>246.000000</td>\n",
              "      <td>42.440000</td>\n",
              "      <td>42.692000</td>\n",
              "      <td>280.420000</td>\n",
              "      <td>300.260000</td>\n",
              "      <td>1.000000</td>\n",
              "      <td>0.000000</td>\n",
              "      <td>770.000000</td>\n",
              "      <td>1.000000</td>\n",
              "      <td>0.000000</td>\n",
              "      <td>1540.000000</td>\n",
              "      <td>770.000000</td>\n",
              "      <td>11.000000</td>\n",
              "      <td>2.00000</td>\n",
              "      <td>0.000000</td>\n",
              "      <td>2317.000000</td>\n",
              "      <td>773.000000</td>\n",
              "      <td>14.600000</td>\n",
              "      <td>0.000000</td>\n",
              "      <td>0.000000</td>\n",
              "      <td>0.000000</td>\n",
              "      <td>0.000000</td>\n",
              "      <td>1.000000</td>\n",
              "      <td>6.000000</td>\n",
              "      <td>6.000000</td>\n",
              "      <td>0.000000</td>\n",
              "      <td>1.000000</td>\n",
              "      <td>6.000000</td>\n",
              "      <td>6.000000</td>\n",
              "      <td>0.000000</td>\n",
              "      <td>0.000000</td>\n",
              "      <td>0.000000</td>\n",
              "      <td>0.0</td>\n",
              "    </tr>\n",
              "    <tr>\n",
              "      <th>50%</th>\n",
              "      <td>104797.000000</td>\n",
              "      <td>1.000000</td>\n",
              "      <td>93073.000000</td>\n",
              "      <td>527.000000</td>\n",
              "      <td>1469.175667</td>\n",
              "      <td>1500.000000</td>\n",
              "      <td>1083.570000</td>\n",
              "      <td>1334.000000</td>\n",
              "      <td>3.000000</td>\n",
              "      <td>0.000000</td>\n",
              "      <td>1539.000000</td>\n",
              "      <td>3.000000</td>\n",
              "      <td>2.000000</td>\n",
              "      <td>4628.000000</td>\n",
              "      <td>1539.000000</td>\n",
              "      <td>33.900000</td>\n",
              "      <td>4.00000</td>\n",
              "      <td>2.000000</td>\n",
              "      <td>7226.000000</td>\n",
              "      <td>1539.000000</td>\n",
              "      <td>36.000000</td>\n",
              "      <td>0.000000</td>\n",
              "      <td>0.000000</td>\n",
              "      <td>0.000000</td>\n",
              "      <td>0.000000</td>\n",
              "      <td>2.000000</td>\n",
              "      <td>12.000000</td>\n",
              "      <td>6.000000</td>\n",
              "      <td>0.000000</td>\n",
              "      <td>2.000000</td>\n",
              "      <td>12.000000</td>\n",
              "      <td>6.000000</td>\n",
              "      <td>0.000000</td>\n",
              "      <td>0.000000</td>\n",
              "      <td>1.666667</td>\n",
              "      <td>0.0</td>\n",
              "    </tr>\n",
              "    <tr>\n",
              "      <th>75%</th>\n",
              "      <td>157195.000000</td>\n",
              "      <td>1.000000</td>\n",
              "      <td>139626.000000</td>\n",
              "      <td>982.000000</td>\n",
              "      <td>7244.000000</td>\n",
              "      <td>7802.790000</td>\n",
              "      <td>3356.940000</td>\n",
              "      <td>4201.790000</td>\n",
              "      <td>7.000000</td>\n",
              "      <td>0.000000</td>\n",
              "      <td>2309.000000</td>\n",
              "      <td>5.000000</td>\n",
              "      <td>6.000000</td>\n",
              "      <td>10010.000000</td>\n",
              "      <td>1924.000000</td>\n",
              "      <td>83.000000</td>\n",
              "      <td>8.00000</td>\n",
              "      <td>8.000000</td>\n",
              "      <td>16000.000000</td>\n",
              "      <td>1924.000000</td>\n",
              "      <td>79.310000</td>\n",
              "      <td>0.000000</td>\n",
              "      <td>0.000000</td>\n",
              "      <td>0.000000</td>\n",
              "      <td>0.000000</td>\n",
              "      <td>4.000000</td>\n",
              "      <td>24.000000</td>\n",
              "      <td>6.000000</td>\n",
              "      <td>0.000000</td>\n",
              "      <td>5.000000</td>\n",
              "      <td>30.000000</td>\n",
              "      <td>6.000000</td>\n",
              "      <td>0.000000</td>\n",
              "      <td>3.750000</td>\n",
              "      <td>4.500000</td>\n",
              "      <td>0.0</td>\n",
              "    </tr>\n",
              "    <tr>\n",
              "      <th>max</th>\n",
              "      <td>209593.000000</td>\n",
              "      <td>1.000000</td>\n",
              "      <td>186242.000000</td>\n",
              "      <td>999860.755168</td>\n",
              "      <td>265926.000000</td>\n",
              "      <td>320630.000000</td>\n",
              "      <td>198926.110000</td>\n",
              "      <td>200148.110000</td>\n",
              "      <td>998650.377733</td>\n",
              "      <td>999171.809410</td>\n",
              "      <td>55000.000000</td>\n",
              "      <td>203.000000</td>\n",
              "      <td>999606.368132</td>\n",
              "      <td>810096.000000</td>\n",
              "      <td>55000.000000</td>\n",
              "      <td>999479.419319</td>\n",
              "      <td>336.00000</td>\n",
              "      <td>88.000000</td>\n",
              "      <td>953036.000000</td>\n",
              "      <td>55000.000000</td>\n",
              "      <td>41456.500000</td>\n",
              "      <td>99914.441420</td>\n",
              "      <td>999809.240107</td>\n",
              "      <td>38.000000</td>\n",
              "      <td>64.000000</td>\n",
              "      <td>50.000000</td>\n",
              "      <td>306.000000</td>\n",
              "      <td>99864.560864</td>\n",
              "      <td>3.000000</td>\n",
              "      <td>4997.517944</td>\n",
              "      <td>438.000000</td>\n",
              "      <td>12.000000</td>\n",
              "      <td>3.000000</td>\n",
              "      <td>171.500000</td>\n",
              "      <td>171.500000</td>\n",
              "      <td>0.0</td>\n",
              "    </tr>\n",
              "  </tbody>\n",
              "</table>\n",
              "</div>"
            ],
            "text/plain": [
              "          Unnamed: 0          label  ...      payback90   pcircle\n",
              "count  209593.000000  209593.000000  ...  209593.000000  209593.0\n",
              "mean   104797.000000       0.875177  ...       4.321485       0.0\n",
              "std     60504.431823       0.330519  ...      10.308108       0.0\n",
              "min         1.000000       0.000000  ...       0.000000       0.0\n",
              "25%     52399.000000       1.000000  ...       0.000000       0.0\n",
              "50%    104797.000000       1.000000  ...       1.666667       0.0\n",
              "75%    157195.000000       1.000000  ...       4.500000       0.0\n",
              "max    209593.000000       1.000000  ...     171.500000       0.0\n",
              "\n",
              "[8 rows x 36 columns]"
            ]
          },
          "execution_count": 26,
          "metadata": {},
          "output_type": "execute_result"
        }
      ],
      "source": [
        "df.describe()"
      ]
    },
    {
      "cell_type": "code",
      "execution_count": null,
      "metadata": {
        "colab": {
          "base_uri": "https://localhost:8080/",
          "height": 559
        },
        "id": "1jsxWxt3jTnq",
        "outputId": "ee651933-2ffd-4cd2-8b94-052e7a3f570a"
      },
      "outputs": [
        {
          "data": {
            "text/plain": [
              "<matplotlib.axes._subplots.AxesSubplot at 0x7fcaf07eb390>"
            ]
          },
          "execution_count": 27,
          "metadata": {},
          "output_type": "execute_result"
        },
        {
          "data": {
            "image/png": "[encoded data removed]",
            "text/plain": [
              "<Figure size 1584x504 with 2 Axes>"
            ]
          },
          "metadata": {
            "needs_background": "light"
          },
          "output_type": "display_data"
        }
      ],
      "source": [
        "import matplotlib.pyplot as plt\n",
        "plt.figure(figsize=(22,7))\n",
        "sns.heatmap(df.describe(),annot=True,linewidths=0.1,linecolor=\"black\",fmt=\"0.2f\")"
      ]
    },
    {
      "cell_type": "markdown",
      "metadata": {
        "id": "KSGkQww9jTnr"
      },
      "source": [
        "# Correlation of the columns with the target columns:"
      ]
    },
    {
      "cell_type": "code",
      "execution_count": null,
      "metadata": {
        "colab": {
          "base_uri": "https://localhost:8080/",
          "height": 1000
        },
        "id": "oZ9IZPxojTnr",
        "outputId": "715be76b-e1b5-4e58-f842-7a99ad65a233"
      },
      "outputs": [
        {
          "data": {
            "text/html": [
              "<div>\n",
              "<style scoped>\n",
              "    .dataframe tbody tr th:only-of-type {\n",
              "        vertical-align: middle;\n",
              "    }\n",
              "\n",
              "    .dataframe tbody tr th {\n",
              "        vertical-align: top;\n",
              "    }\n",
              "\n",
              "    .dataframe thead th {\n",
              "        text-align: right;\n",
              "    }\n",
              "</style>\n",
              "<table border=\"1\" class=\"dataframe\">\n",
              "  <thead>\n",
              "    <tr style=\"text-align: right;\">\n",
              "      <th></th>\n",
              "      <th>Unnamed: 0</th>\n",
              "      <th>label</th>\n",
              "      <th>msisdn</th>\n",
              "      <th>aon</th>\n",
              "      <th>daily_decr30</th>\n",
              "      <th>daily_decr90</th>\n",
              "      <th>rental30</th>\n",
              "      <th>rental90</th>\n",
              "      <th>last_rech_date_ma</th>\n",
              "      <th>last_rech_date_da</th>\n",
              "      <th>last_rech_amt_ma</th>\n",
              "      <th>cnt_ma_rech30</th>\n",
              "      <th>fr_ma_rech30</th>\n",
              "      <th>sumamnt_ma_rech30</th>\n",
              "      <th>medianamnt_ma_rech30</th>\n",
              "      <th>medianmarechprebal30</th>\n",
              "      <th>cnt_ma_rech90</th>\n",
              "      <th>fr_ma_rech90</th>\n",
              "      <th>sumamnt_ma_rech90</th>\n",
              "      <th>medianamnt_ma_rech90</th>\n",
              "      <th>medianmarechprebal90</th>\n",
              "      <th>cnt_da_rech30</th>\n",
              "      <th>fr_da_rech30</th>\n",
              "      <th>cnt_da_rech90</th>\n",
              "      <th>fr_da_rech90</th>\n",
              "      <th>cnt_loans30</th>\n",
              "      <th>amnt_loans30</th>\n",
              "      <th>maxamnt_loans30</th>\n",
              "      <th>medianamnt_loans30</th>\n",
              "      <th>cnt_loans90</th>\n",
              "      <th>amnt_loans90</th>\n",
              "      <th>maxamnt_loans90</th>\n",
              "      <th>medianamnt_loans90</th>\n",
              "      <th>payback30</th>\n",
              "      <th>payback90</th>\n",
              "      <th>pcircle</th>\n",
              "    </tr>\n",
              "  </thead>\n",
              "  <tbody>\n",
              "    <tr>\n",
              "      <th>Unnamed: 0</th>\n",
              "      <td>1.000000</td>\n",
              "      <td>0.000403</td>\n",
              "      <td>0.000121</td>\n",
              "      <td>-0.002048</td>\n",
              "      <td>0.002739</td>\n",
              "      <td>0.003077</td>\n",
              "      <td>-0.003906</td>\n",
              "      <td>-0.003459</td>\n",
              "      <td>-0.001853</td>\n",
              "      <td>-0.001133</td>\n",
              "      <td>-0.001064</td>\n",
              "      <td>0.003320</td>\n",
              "      <td>0.003181</td>\n",
              "      <td>0.000123</td>\n",
              "      <td>-0.001371</td>\n",
              "      <td>0.001258</td>\n",
              "      <td>0.002329</td>\n",
              "      <td>-0.000249</td>\n",
              "      <td>0.000523</td>\n",
              "      <td>-0.000298</td>\n",
              "      <td>-0.001947</td>\n",
              "      <td>0.000888</td>\n",
              "      <td>-0.002504</td>\n",
              "      <td>-0.001324</td>\n",
              "      <td>-0.002827</td>\n",
              "      <td>0.001725</td>\n",
              "      <td>0.002387</td>\n",
              "      <td>0.000698</td>\n",
              "      <td>-0.002005</td>\n",
              "      <td>0.002241</td>\n",
              "      <td>0.000781</td>\n",
              "      <td>0.001742</td>\n",
              "      <td>-0.002615</td>\n",
              "      <td>-0.000040</td>\n",
              "      <td>0.002411</td>\n",
              "      <td>NaN</td>\n",
              "    </tr>\n",
              "    <tr>\n",
              "      <th>label</th>\n",
              "      <td>0.000403</td>\n",
              "      <td>1.000000</td>\n",
              "      <td>0.001976</td>\n",
              "      <td>-0.003785</td>\n",
              "      <td>0.168298</td>\n",
              "      <td>0.166150</td>\n",
              "      <td>0.058085</td>\n",
              "      <td>0.075521</td>\n",
              "      <td>0.003728</td>\n",
              "      <td>0.001711</td>\n",
              "      <td>0.131804</td>\n",
              "      <td>0.237331</td>\n",
              "      <td>0.001330</td>\n",
              "      <td>0.202828</td>\n",
              "      <td>0.141490</td>\n",
              "      <td>-0.004829</td>\n",
              "      <td>0.236392</td>\n",
              "      <td>0.084385</td>\n",
              "      <td>0.205793</td>\n",
              "      <td>0.120855</td>\n",
              "      <td>0.039300</td>\n",
              "      <td>0.003827</td>\n",
              "      <td>-0.000027</td>\n",
              "      <td>0.002999</td>\n",
              "      <td>-0.005418</td>\n",
              "      <td>0.196283</td>\n",
              "      <td>0.197272</td>\n",
              "      <td>0.000248</td>\n",
              "      <td>0.044589</td>\n",
              "      <td>0.004733</td>\n",
              "      <td>0.199788</td>\n",
              "      <td>0.084144</td>\n",
              "      <td>0.035747</td>\n",
              "      <td>0.048336</td>\n",
              "      <td>0.049183</td>\n",
              "      <td>NaN</td>\n",
              "    </tr>\n",
              "    <tr>\n",
              "      <th>msisdn</th>\n",
              "      <td>0.000121</td>\n",
              "      <td>0.001976</td>\n",
              "      <td>1.000000</td>\n",
              "      <td>0.000566</td>\n",
              "      <td>0.000717</td>\n",
              "      <td>0.000950</td>\n",
              "      <td>-0.001404</td>\n",
              "      <td>-0.000691</td>\n",
              "      <td>-0.000928</td>\n",
              "      <td>0.001400</td>\n",
              "      <td>-0.002368</td>\n",
              "      <td>0.000617</td>\n",
              "      <td>-0.001804</td>\n",
              "      <td>0.001094</td>\n",
              "      <td>0.000668</td>\n",
              "      <td>-0.000238</td>\n",
              "      <td>-0.001859</td>\n",
              "      <td>-0.004413</td>\n",
              "      <td>-0.000936</td>\n",
              "      <td>-0.000625</td>\n",
              "      <td>-0.000615</td>\n",
              "      <td>-0.001720</td>\n",
              "      <td>-0.000241</td>\n",
              "      <td>0.004595</td>\n",
              "      <td>-0.002233</td>\n",
              "      <td>0.001765</td>\n",
              "      <td>0.002170</td>\n",
              "      <td>-0.000755</td>\n",
              "      <td>0.000986</td>\n",
              "      <td>0.001859</td>\n",
              "      <td>-0.000155</td>\n",
              "      <td>0.003286</td>\n",
              "      <td>0.001210</td>\n",
              "      <td>0.002922</td>\n",
              "      <td>0.002671</td>\n",
              "      <td>NaN</td>\n",
              "    </tr>\n",
              "    <tr>\n",
              "      <th>aon</th>\n",
              "      <td>-0.002048</td>\n",
              "      <td>-0.003785</td>\n",
              "      <td>0.000566</td>\n",
              "      <td>1.000000</td>\n",
              "      <td>0.001104</td>\n",
              "      <td>0.000374</td>\n",
              "      <td>-0.000960</td>\n",
              "      <td>-0.000790</td>\n",
              "      <td>0.001692</td>\n",
              "      <td>-0.001693</td>\n",
              "      <td>0.004256</td>\n",
              "      <td>-0.003148</td>\n",
              "      <td>-0.001163</td>\n",
              "      <td>0.000707</td>\n",
              "      <td>0.004306</td>\n",
              "      <td>0.003930</td>\n",
              "      <td>-0.002725</td>\n",
              "      <td>0.004401</td>\n",
              "      <td>0.001011</td>\n",
              "      <td>0.004909</td>\n",
              "      <td>-0.000859</td>\n",
              "      <td>0.001564</td>\n",
              "      <td>0.000892</td>\n",
              "      <td>0.001121</td>\n",
              "      <td>0.005395</td>\n",
              "      <td>-0.001826</td>\n",
              "      <td>-0.001726</td>\n",
              "      <td>-0.002764</td>\n",
              "      <td>0.004664</td>\n",
              "      <td>-0.000611</td>\n",
              "      <td>-0.002319</td>\n",
              "      <td>-0.001191</td>\n",
              "      <td>0.002771</td>\n",
              "      <td>0.001940</td>\n",
              "      <td>0.002203</td>\n",
              "      <td>NaN</td>\n",
              "    </tr>\n",
              "    <tr>\n",
              "      <th>daily_decr30</th>\n",
              "      <td>0.002739</td>\n",
              "      <td>0.168298</td>\n",
              "      <td>0.000717</td>\n",
              "      <td>0.001104</td>\n",
              "      <td>1.000000</td>\n",
              "      <td>0.977704</td>\n",
              "      <td>0.442066</td>\n",
              "      <td>0.458977</td>\n",
              "      <td>0.000487</td>\n",
              "      <td>-0.001636</td>\n",
              "      <td>0.275837</td>\n",
              "      <td>0.451385</td>\n",
              "      <td>-0.000577</td>\n",
              "      <td>0.636536</td>\n",
              "      <td>0.295356</td>\n",
              "      <td>-0.001153</td>\n",
              "      <td>0.587338</td>\n",
              "      <td>-0.078299</td>\n",
              "      <td>0.762981</td>\n",
              "      <td>0.257847</td>\n",
              "      <td>0.037495</td>\n",
              "      <td>0.000700</td>\n",
              "      <td>-0.001499</td>\n",
              "      <td>0.038814</td>\n",
              "      <td>0.020673</td>\n",
              "      <td>0.366116</td>\n",
              "      <td>0.471492</td>\n",
              "      <td>-0.000028</td>\n",
              "      <td>-0.011610</td>\n",
              "      <td>0.008962</td>\n",
              "      <td>0.563496</td>\n",
              "      <td>0.400199</td>\n",
              "      <td>-0.037305</td>\n",
              "      <td>0.026915</td>\n",
              "      <td>0.047175</td>\n",
              "      <td>NaN</td>\n",
              "    </tr>\n",
              "    <tr>\n",
              "      <th>daily_decr90</th>\n",
              "      <td>0.003077</td>\n",
              "      <td>0.166150</td>\n",
              "      <td>0.000950</td>\n",
              "      <td>0.000374</td>\n",
              "      <td>0.977704</td>\n",
              "      <td>1.000000</td>\n",
              "      <td>0.434685</td>\n",
              "      <td>0.471730</td>\n",
              "      <td>0.000908</td>\n",
              "      <td>-0.001886</td>\n",
              "      <td>0.264131</td>\n",
              "      <td>0.426707</td>\n",
              "      <td>-0.000343</td>\n",
              "      <td>0.603886</td>\n",
              "      <td>0.282960</td>\n",
              "      <td>-0.000746</td>\n",
              "      <td>0.593069</td>\n",
              "      <td>-0.079530</td>\n",
              "      <td>0.768817</td>\n",
              "      <td>0.250518</td>\n",
              "      <td>0.036382</td>\n",
              "      <td>0.000661</td>\n",
              "      <td>-0.001570</td>\n",
              "      <td>0.031155</td>\n",
              "      <td>0.016437</td>\n",
              "      <td>0.340387</td>\n",
              "      <td>0.447869</td>\n",
              "      <td>0.000025</td>\n",
              "      <td>-0.005591</td>\n",
              "      <td>0.009446</td>\n",
              "      <td>0.567204</td>\n",
              "      <td>0.397251</td>\n",
              "      <td>-0.034686</td>\n",
              "      <td>0.019400</td>\n",
              "      <td>0.040800</td>\n",
              "      <td>NaN</td>\n",
              "    </tr>\n",
              "    <tr>\n",
              "      <th>rental30</th>\n",
              "      <td>-0.003906</td>\n",
              "      <td>0.058085</td>\n",
              "      <td>-0.001404</td>\n",
              "      <td>-0.000960</td>\n",
              "      <td>0.442066</td>\n",
              "      <td>0.434685</td>\n",
              "      <td>1.000000</td>\n",
              "      <td>0.955237</td>\n",
              "      <td>-0.001095</td>\n",
              "      <td>0.003261</td>\n",
              "      <td>0.127271</td>\n",
              "      <td>0.233343</td>\n",
              "      <td>-0.001219</td>\n",
              "      <td>0.272649</td>\n",
              "      <td>0.129853</td>\n",
              "      <td>-0.001415</td>\n",
              "      <td>0.312118</td>\n",
              "      <td>-0.033530</td>\n",
              "      <td>0.342306</td>\n",
              "      <td>0.110356</td>\n",
              "      <td>0.027170</td>\n",
              "      <td>-0.001105</td>\n",
              "      <td>-0.002558</td>\n",
              "      <td>0.072255</td>\n",
              "      <td>0.046761</td>\n",
              "      <td>0.180203</td>\n",
              "      <td>0.233453</td>\n",
              "      <td>-0.000864</td>\n",
              "      <td>-0.016482</td>\n",
              "      <td>0.004012</td>\n",
              "      <td>0.298943</td>\n",
              "      <td>0.234211</td>\n",
              "      <td>-0.035489</td>\n",
              "      <td>0.072974</td>\n",
              "      <td>0.095147</td>\n",
              "      <td>NaN</td>\n",
              "    </tr>\n",
              "    <tr>\n",
              "      <th>rental90</th>\n",
              "      <td>-0.003459</td>\n",
              "      <td>0.075521</td>\n",
              "      <td>-0.000691</td>\n",
              "      <td>-0.000790</td>\n",
              "      <td>0.458977</td>\n",
              "      <td>0.471730</td>\n",
              "      <td>0.955237</td>\n",
              "      <td>1.000000</td>\n",
              "      <td>-0.001688</td>\n",
              "      <td>0.002794</td>\n",
              "      <td>0.121416</td>\n",
              "      <td>0.230260</td>\n",
              "      <td>-0.000503</td>\n",
              "      <td>0.259709</td>\n",
              "      <td>0.120242</td>\n",
              "      <td>-0.001237</td>\n",
              "      <td>0.345293</td>\n",
              "      <td>-0.036524</td>\n",
              "      <td>0.360601</td>\n",
              "      <td>0.103151</td>\n",
              "      <td>0.029547</td>\n",
              "      <td>-0.000548</td>\n",
              "      <td>-0.002345</td>\n",
              "      <td>0.056282</td>\n",
              "      <td>0.036886</td>\n",
              "      <td>0.171595</td>\n",
              "      <td>0.231906</td>\n",
              "      <td>-0.001411</td>\n",
              "      <td>-0.009467</td>\n",
              "      <td>0.005141</td>\n",
              "      <td>0.327436</td>\n",
              "      <td>0.251029</td>\n",
              "      <td>-0.034122</td>\n",
              "      <td>0.067110</td>\n",
              "      <td>0.099501</td>\n",
              "      <td>NaN</td>\n",
              "    </tr>\n",
              "    <tr>\n",
              "      <th>last_rech_date_ma</th>\n",
              "      <td>-0.001853</td>\n",
              "      <td>0.003728</td>\n",
              "      <td>-0.000928</td>\n",
              "      <td>0.001692</td>\n",
              "      <td>0.000487</td>\n",
              "      <td>0.000908</td>\n",
              "      <td>-0.001095</td>\n",
              "      <td>-0.001688</td>\n",
              "      <td>1.000000</td>\n",
              "      <td>0.001790</td>\n",
              "      <td>-0.000147</td>\n",
              "      <td>0.004311</td>\n",
              "      <td>-0.001629</td>\n",
              "      <td>0.002105</td>\n",
              "      <td>-0.001358</td>\n",
              "      <td>0.004071</td>\n",
              "      <td>0.004263</td>\n",
              "      <td>0.001414</td>\n",
              "      <td>0.002243</td>\n",
              "      <td>-0.000726</td>\n",
              "      <td>-0.001086</td>\n",
              "      <td>-0.003467</td>\n",
              "      <td>-0.003626</td>\n",
              "      <td>-0.003538</td>\n",
              "      <td>-0.002395</td>\n",
              "      <td>0.001193</td>\n",
              "      <td>0.000903</td>\n",
              "      <td>0.000928</td>\n",
              "      <td>0.001835</td>\n",
              "      <td>-0.000225</td>\n",
              "      <td>0.000870</td>\n",
              "      <td>-0.001123</td>\n",
              "      <td>0.002771</td>\n",
              "      <td>-0.002233</td>\n",
              "      <td>-0.001583</td>\n",
              "      <td>NaN</td>\n",
              "    </tr>\n",
              "    <tr>\n",
              "      <th>last_rech_date_da</th>\n",
              "      <td>-0.001133</td>\n",
              "      <td>0.001711</td>\n",
              "      <td>0.001400</td>\n",
              "      <td>-0.001693</td>\n",
              "      <td>-0.001636</td>\n",
              "      <td>-0.001886</td>\n",
              "      <td>0.003261</td>\n",
              "      <td>0.002794</td>\n",
              "      <td>0.001790</td>\n",
              "      <td>1.000000</td>\n",
              "      <td>-0.000149</td>\n",
              "      <td>0.001549</td>\n",
              "      <td>0.001158</td>\n",
              "      <td>0.000046</td>\n",
              "      <td>0.001037</td>\n",
              "      <td>0.002849</td>\n",
              "      <td>0.001272</td>\n",
              "      <td>0.000798</td>\n",
              "      <td>-0.000414</td>\n",
              "      <td>0.000219</td>\n",
              "      <td>0.004158</td>\n",
              "      <td>-0.003628</td>\n",
              "      <td>-0.000074</td>\n",
              "      <td>-0.001859</td>\n",
              "      <td>-0.000203</td>\n",
              "      <td>0.000380</td>\n",
              "      <td>0.000536</td>\n",
              "      <td>0.000503</td>\n",
              "      <td>0.000061</td>\n",
              "      <td>-0.000972</td>\n",
              "      <td>0.000519</td>\n",
              "      <td>0.001524</td>\n",
              "      <td>-0.002239</td>\n",
              "      <td>0.000077</td>\n",
              "      <td>0.000417</td>\n",
              "      <td>NaN</td>\n",
              "    </tr>\n",
              "    <tr>\n",
              "      <th>last_rech_amt_ma</th>\n",
              "      <td>-0.001064</td>\n",
              "      <td>0.131804</td>\n",
              "      <td>-0.002368</td>\n",
              "      <td>0.004256</td>\n",
              "      <td>0.275837</td>\n",
              "      <td>0.264131</td>\n",
              "      <td>0.127271</td>\n",
              "      <td>0.121416</td>\n",
              "      <td>-0.000147</td>\n",
              "      <td>-0.000149</td>\n",
              "      <td>1.000000</td>\n",
              "      <td>-0.002662</td>\n",
              "      <td>0.002876</td>\n",
              "      <td>0.440821</td>\n",
              "      <td>0.794646</td>\n",
              "      <td>-0.002342</td>\n",
              "      <td>0.016707</td>\n",
              "      <td>0.106267</td>\n",
              "      <td>0.418735</td>\n",
              "      <td>0.818734</td>\n",
              "      <td>0.124646</td>\n",
              "      <td>-0.001837</td>\n",
              "      <td>-0.003230</td>\n",
              "      <td>0.014779</td>\n",
              "      <td>0.016042</td>\n",
              "      <td>-0.027612</td>\n",
              "      <td>0.008502</td>\n",
              "      <td>0.001000</td>\n",
              "      <td>0.028370</td>\n",
              "      <td>0.000093</td>\n",
              "      <td>0.014067</td>\n",
              "      <td>0.148460</td>\n",
              "      <td>0.021004</td>\n",
              "      <td>-0.027369</td>\n",
              "      <td>-0.014260</td>\n",
              "      <td>NaN</td>\n",
              "    </tr>\n",
              "    <tr>\n",
              "      <th>cnt_ma_rech30</th>\n",
              "      <td>0.003320</td>\n",
              "      <td>0.237331</td>\n",
              "      <td>0.000617</td>\n",
              "      <td>-0.003148</td>\n",
              "      <td>0.451385</td>\n",
              "      <td>0.426707</td>\n",
              "      <td>0.233343</td>\n",
              "      <td>0.230260</td>\n",
              "      <td>0.004311</td>\n",
              "      <td>0.001549</td>\n",
              "      <td>-0.002662</td>\n",
              "      <td>1.000000</td>\n",
              "      <td>0.001669</td>\n",
              "      <td>0.656986</td>\n",
              "      <td>-0.011792</td>\n",
              "      <td>0.000082</td>\n",
              "      <td>0.886433</td>\n",
              "      <td>-0.152759</td>\n",
              "      <td>0.584060</td>\n",
              "      <td>-0.051347</td>\n",
              "      <td>0.013463</td>\n",
              "      <td>0.002306</td>\n",
              "      <td>-0.002732</td>\n",
              "      <td>0.011981</td>\n",
              "      <td>0.006989</td>\n",
              "      <td>0.765802</td>\n",
              "      <td>0.752296</td>\n",
              "      <td>0.000109</td>\n",
              "      <td>-0.067011</td>\n",
              "      <td>0.014703</td>\n",
              "      <td>0.685257</td>\n",
              "      <td>0.174104</td>\n",
              "      <td>-0.071451</td>\n",
              "      <td>0.043617</td>\n",
              "      <td>0.017362</td>\n",
              "      <td>NaN</td>\n",
              "    </tr>\n",
              "    <tr>\n",
              "      <th>fr_ma_rech30</th>\n",
              "      <td>0.003181</td>\n",
              "      <td>0.001330</td>\n",
              "      <td>-0.001804</td>\n",
              "      <td>-0.001163</td>\n",
              "      <td>-0.000577</td>\n",
              "      <td>-0.000343</td>\n",
              "      <td>-0.001219</td>\n",
              "      <td>-0.000503</td>\n",
              "      <td>-0.001629</td>\n",
              "      <td>0.001158</td>\n",
              "      <td>0.002876</td>\n",
              "      <td>0.001669</td>\n",
              "      <td>1.000000</td>\n",
              "      <td>0.000714</td>\n",
              "      <td>-0.000579</td>\n",
              "      <td>0.002613</td>\n",
              "      <td>0.001220</td>\n",
              "      <td>-0.001245</td>\n",
              "      <td>-0.000571</td>\n",
              "      <td>-0.001573</td>\n",
              "      <td>-0.002826</td>\n",
              "      <td>-0.000511</td>\n",
              "      <td>-0.001715</td>\n",
              "      <td>0.001574</td>\n",
              "      <td>-0.001925</td>\n",
              "      <td>0.002666</td>\n",
              "      <td>0.002470</td>\n",
              "      <td>-0.001100</td>\n",
              "      <td>-0.000331</td>\n",
              "      <td>0.003368</td>\n",
              "      <td>0.002634</td>\n",
              "      <td>-0.001890</td>\n",
              "      <td>-0.001292</td>\n",
              "      <td>0.001455</td>\n",
              "      <td>0.000998</td>\n",
              "      <td>NaN</td>\n",
              "    </tr>\n",
              "    <tr>\n",
              "      <th>sumamnt_ma_rech30</th>\n",
              "      <td>0.000123</td>\n",
              "      <td>0.202828</td>\n",
              "      <td>0.001094</td>\n",
              "      <td>0.000707</td>\n",
              "      <td>0.636536</td>\n",
              "      <td>0.603886</td>\n",
              "      <td>0.272649</td>\n",
              "      <td>0.259709</td>\n",
              "      <td>0.002105</td>\n",
              "      <td>0.000046</td>\n",
              "      <td>0.440821</td>\n",
              "      <td>0.656986</td>\n",
              "      <td>0.000714</td>\n",
              "      <td>1.000000</td>\n",
              "      <td>0.489200</td>\n",
              "      <td>0.000007</td>\n",
              "      <td>0.596478</td>\n",
              "      <td>-0.071089</td>\n",
              "      <td>0.889989</td>\n",
              "      <td>0.422009</td>\n",
              "      <td>0.090502</td>\n",
              "      <td>0.002537</td>\n",
              "      <td>-0.001578</td>\n",
              "      <td>0.019213</td>\n",
              "      <td>0.017255</td>\n",
              "      <td>0.491864</td>\n",
              "      <td>0.531079</td>\n",
              "      <td>0.001633</td>\n",
              "      <td>-0.034460</td>\n",
              "      <td>0.009419</td>\n",
              "      <td>0.484761</td>\n",
              "      <td>0.257705</td>\n",
              "      <td>-0.042244</td>\n",
              "      <td>0.000112</td>\n",
              "      <td>-0.012596</td>\n",
              "      <td>NaN</td>\n",
              "    </tr>\n",
              "    <tr>\n",
              "      <th>medianamnt_ma_rech30</th>\n",
              "      <td>-0.001371</td>\n",
              "      <td>0.141490</td>\n",
              "      <td>0.000668</td>\n",
              "      <td>0.004306</td>\n",
              "      <td>0.295356</td>\n",
              "      <td>0.282960</td>\n",
              "      <td>0.129853</td>\n",
              "      <td>0.120242</td>\n",
              "      <td>-0.001358</td>\n",
              "      <td>0.001037</td>\n",
              "      <td>0.794646</td>\n",
              "      <td>-0.011792</td>\n",
              "      <td>-0.000579</td>\n",
              "      <td>0.489200</td>\n",
              "      <td>1.000000</td>\n",
              "      <td>-0.000737</td>\n",
              "      <td>0.005309</td>\n",
              "      <td>0.149655</td>\n",
              "      <td>0.449012</td>\n",
              "      <td>0.864846</td>\n",
              "      <td>0.156028</td>\n",
              "      <td>-0.000060</td>\n",
              "      <td>-0.001479</td>\n",
              "      <td>0.016727</td>\n",
              "      <td>0.013734</td>\n",
              "      <td>-0.029789</td>\n",
              "      <td>0.007125</td>\n",
              "      <td>0.001985</td>\n",
              "      <td>0.032477</td>\n",
              "      <td>-0.001143</td>\n",
              "      <td>0.014546</td>\n",
              "      <td>0.159613</td>\n",
              "      <td>0.022692</td>\n",
              "      <td>-0.018398</td>\n",
              "      <td>-0.002861</td>\n",
              "      <td>NaN</td>\n",
              "    </tr>\n",
              "    <tr>\n",
              "      <th>medianmarechprebal30</th>\n",
              "      <td>0.001258</td>\n",
              "      <td>-0.004829</td>\n",
              "      <td>-0.000238</td>\n",
              "      <td>0.003930</td>\n",
              "      <td>-0.001153</td>\n",
              "      <td>-0.000746</td>\n",
              "      <td>-0.001415</td>\n",
              "      <td>-0.001237</td>\n",
              "      <td>0.004071</td>\n",
              "      <td>0.002849</td>\n",
              "      <td>-0.002342</td>\n",
              "      <td>0.000082</td>\n",
              "      <td>0.002613</td>\n",
              "      <td>0.000007</td>\n",
              "      <td>-0.000737</td>\n",
              "      <td>1.000000</td>\n",
              "      <td>0.000899</td>\n",
              "      <td>-0.000902</td>\n",
              "      <td>-0.000665</td>\n",
              "      <td>-0.001459</td>\n",
              "      <td>0.000529</td>\n",
              "      <td>-0.003404</td>\n",
              "      <td>0.000742</td>\n",
              "      <td>-0.003064</td>\n",
              "      <td>-0.001412</td>\n",
              "      <td>-0.000211</td>\n",
              "      <td>0.000134</td>\n",
              "      <td>-0.002176</td>\n",
              "      <td>-0.002289</td>\n",
              "      <td>0.001342</td>\n",
              "      <td>0.000736</td>\n",
              "      <td>-0.002141</td>\n",
              "      <td>-0.001927</td>\n",
              "      <td>0.001516</td>\n",
              "      <td>0.001811</td>\n",
              "      <td>NaN</td>\n",
              "    </tr>\n",
              "    <tr>\n",
              "      <th>cnt_ma_rech90</th>\n",
              "      <td>0.002329</td>\n",
              "      <td>0.236392</td>\n",
              "      <td>-0.001859</td>\n",
              "      <td>-0.002725</td>\n",
              "      <td>0.587338</td>\n",
              "      <td>0.593069</td>\n",
              "      <td>0.312118</td>\n",
              "      <td>0.345293</td>\n",
              "      <td>0.004263</td>\n",
              "      <td>0.001272</td>\n",
              "      <td>0.016707</td>\n",
              "      <td>0.886433</td>\n",
              "      <td>0.001220</td>\n",
              "      <td>0.596478</td>\n",
              "      <td>0.005309</td>\n",
              "      <td>0.000899</td>\n",
              "      <td>1.000000</td>\n",
              "      <td>-0.149068</td>\n",
              "      <td>0.687054</td>\n",
              "      <td>-0.035497</td>\n",
              "      <td>0.015461</td>\n",
              "      <td>0.002895</td>\n",
              "      <td>-0.002795</td>\n",
              "      <td>0.004090</td>\n",
              "      <td>0.002865</td>\n",
              "      <td>0.689002</td>\n",
              "      <td>0.707558</td>\n",
              "      <td>-0.000573</td>\n",
              "      <td>-0.053637</td>\n",
              "      <td>0.015754</td>\n",
              "      <td>0.783419</td>\n",
              "      <td>0.244602</td>\n",
              "      <td>-0.072481</td>\n",
              "      <td>0.011943</td>\n",
              "      <td>-0.003141</td>\n",
              "      <td>NaN</td>\n",
              "    </tr>\n",
              "    <tr>\n",
              "      <th>fr_ma_rech90</th>\n",
              "      <td>-0.000249</td>\n",
              "      <td>0.084385</td>\n",
              "      <td>-0.004413</td>\n",
              "      <td>0.004401</td>\n",
              "      <td>-0.078299</td>\n",
              "      <td>-0.079530</td>\n",
              "      <td>-0.033530</td>\n",
              "      <td>-0.036524</td>\n",
              "      <td>0.001414</td>\n",
              "      <td>0.000798</td>\n",
              "      <td>0.106267</td>\n",
              "      <td>-0.152759</td>\n",
              "      <td>-0.001245</td>\n",
              "      <td>-0.071089</td>\n",
              "      <td>0.149655</td>\n",
              "      <td>-0.000902</td>\n",
              "      <td>-0.149068</td>\n",
              "      <td>1.000000</td>\n",
              "      <td>-0.065566</td>\n",
              "      <td>0.138503</td>\n",
              "      <td>0.004347</td>\n",
              "      <td>0.002230</td>\n",
              "      <td>-0.000081</td>\n",
              "      <td>-0.006727</td>\n",
              "      <td>-0.003822</td>\n",
              "      <td>-0.119083</td>\n",
              "      <td>-0.123664</td>\n",
              "      <td>0.001635</td>\n",
              "      <td>0.020626</td>\n",
              "      <td>-0.002756</td>\n",
              "      <td>-0.132035</td>\n",
              "      <td>-0.045780</td>\n",
              "      <td>0.016964</td>\n",
              "      <td>0.036817</td>\n",
              "      <td>0.077529</td>\n",
              "      <td>NaN</td>\n",
              "    </tr>\n",
              "    <tr>\n",
              "      <th>sumamnt_ma_rech90</th>\n",
              "      <td>0.000523</td>\n",
              "      <td>0.205793</td>\n",
              "      <td>-0.000936</td>\n",
              "      <td>0.001011</td>\n",
              "      <td>0.762981</td>\n",
              "      <td>0.768817</td>\n",
              "      <td>0.342306</td>\n",
              "      <td>0.360601</td>\n",
              "      <td>0.002243</td>\n",
              "      <td>-0.000414</td>\n",
              "      <td>0.418735</td>\n",
              "      <td>0.584060</td>\n",
              "      <td>-0.000571</td>\n",
              "      <td>0.889989</td>\n",
              "      <td>0.449012</td>\n",
              "      <td>-0.000665</td>\n",
              "      <td>0.687054</td>\n",
              "      <td>-0.065566</td>\n",
              "      <td>1.000000</td>\n",
              "      <td>0.429274</td>\n",
              "      <td>0.096385</td>\n",
              "      <td>0.003002</td>\n",
              "      <td>-0.001566</td>\n",
              "      <td>0.012465</td>\n",
              "      <td>0.013136</td>\n",
              "      <td>0.442766</td>\n",
              "      <td>0.508599</td>\n",
              "      <td>0.001152</td>\n",
              "      <td>-0.022133</td>\n",
              "      <td>0.011306</td>\n",
              "      <td>0.562609</td>\n",
              "      <td>0.321739</td>\n",
              "      <td>-0.042386</td>\n",
              "      <td>-0.026409</td>\n",
              "      <td>-0.029997</td>\n",
              "      <td>NaN</td>\n",
              "    </tr>\n",
              "    <tr>\n",
              "      <th>medianamnt_ma_rech90</th>\n",
              "      <td>-0.000298</td>\n",
              "      <td>0.120855</td>\n",
              "      <td>-0.000625</td>\n",
              "      <td>0.004909</td>\n",
              "      <td>0.257847</td>\n",
              "      <td>0.250518</td>\n",
              "      <td>0.110356</td>\n",
              "      <td>0.103151</td>\n",
              "      <td>-0.000726</td>\n",
              "      <td>0.000219</td>\n",
              "      <td>0.818734</td>\n",
              "      <td>-0.051347</td>\n",
              "      <td>-0.001573</td>\n",
              "      <td>0.422009</td>\n",
              "      <td>0.864846</td>\n",
              "      <td>-0.001459</td>\n",
              "      <td>-0.035497</td>\n",
              "      <td>0.138503</td>\n",
              "      <td>0.429274</td>\n",
              "      <td>1.000000</td>\n",
              "      <td>0.209096</td>\n",
              "      <td>-0.002425</td>\n",
              "      <td>-0.002289</td>\n",
              "      <td>0.017533</td>\n",
              "      <td>0.019677</td>\n",
              "      <td>-0.060766</td>\n",
              "      <td>-0.025307</td>\n",
              "      <td>0.001016</td>\n",
              "      <td>0.036475</td>\n",
              "      <td>-0.000123</td>\n",
              "      <td>-0.023450</td>\n",
              "      <td>0.134139</td>\n",
              "      <td>0.031696</td>\n",
              "      <td>-0.035640</td>\n",
              "      <td>-0.023022</td>\n",
              "      <td>NaN</td>\n",
              "    </tr>\n",
              "    <tr>\n",
              "      <th>medianmarechprebal90</th>\n",
              "      <td>-0.001947</td>\n",
              "      <td>0.039300</td>\n",
              "      <td>-0.000615</td>\n",
              "      <td>-0.000859</td>\n",
              "      <td>0.037495</td>\n",
              "      <td>0.036382</td>\n",
              "      <td>0.027170</td>\n",
              "      <td>0.029547</td>\n",
              "      <td>-0.001086</td>\n",
              "      <td>0.004158</td>\n",
              "      <td>0.124646</td>\n",
              "      <td>0.013463</td>\n",
              "      <td>-0.002826</td>\n",
              "      <td>0.090502</td>\n",
              "      <td>0.156028</td>\n",
              "      <td>0.000529</td>\n",
              "      <td>0.015461</td>\n",
              "      <td>0.004347</td>\n",
              "      <td>0.096385</td>\n",
              "      <td>0.209096</td>\n",
              "      <td>1.000000</td>\n",
              "      <td>0.001130</td>\n",
              "      <td>-0.001893</td>\n",
              "      <td>0.007077</td>\n",
              "      <td>0.008492</td>\n",
              "      <td>-0.043381</td>\n",
              "      <td>-0.033878</td>\n",
              "      <td>0.001884</td>\n",
              "      <td>0.030534</td>\n",
              "      <td>-0.000926</td>\n",
              "      <td>-0.036412</td>\n",
              "      <td>0.027130</td>\n",
              "      <td>0.032453</td>\n",
              "      <td>-0.031760</td>\n",
              "      <td>-0.031210</td>\n",
              "      <td>NaN</td>\n",
              "    </tr>\n",
              "    <tr>\n",
              "      <th>cnt_da_rech30</th>\n",
              "      <td>0.000888</td>\n",
              "      <td>0.003827</td>\n",
              "      <td>-0.001720</td>\n",
              "      <td>0.001564</td>\n",
              "      <td>0.000700</td>\n",
              "      <td>0.000661</td>\n",
              "      <td>-0.001105</td>\n",
              "      <td>-0.000548</td>\n",
              "      <td>-0.003467</td>\n",
              "      <td>-0.003628</td>\n",
              "      <td>-0.001837</td>\n",
              "      <td>0.002306</td>\n",
              "      <td>-0.000511</td>\n",
              "      <td>0.002537</td>\n",
              "      <td>-0.000060</td>\n",
              "      <td>-0.003404</td>\n",
              "      <td>0.002895</td>\n",
              "      <td>0.002230</td>\n",
              "      <td>0.003002</td>\n",
              "      <td>-0.002425</td>\n",
              "      <td>0.001130</td>\n",
              "      <td>1.000000</td>\n",
              "      <td>0.005203</td>\n",
              "      <td>0.002153</td>\n",
              "      <td>0.000088</td>\n",
              "      <td>0.001852</td>\n",
              "      <td>0.001487</td>\n",
              "      <td>-0.000394</td>\n",
              "      <td>0.000049</td>\n",
              "      <td>-0.001986</td>\n",
              "      <td>0.003369</td>\n",
              "      <td>-0.000647</td>\n",
              "      <td>-0.001365</td>\n",
              "      <td>-0.000471</td>\n",
              "      <td>0.000382</td>\n",
              "      <td>NaN</td>\n",
              "    </tr>\n",
              "    <tr>\n",
              "      <th>fr_da_rech30</th>\n",
              "      <td>-0.002504</td>\n",
              "      <td>-0.000027</td>\n",
              "      <td>-0.000241</td>\n",
              "      <td>0.000892</td>\n",
              "      <td>-0.001499</td>\n",
              "      <td>-0.001570</td>\n",
              "      <td>-0.002558</td>\n",
              "      <td>-0.002345</td>\n",
              "      <td>-0.003626</td>\n",
              "      <td>-0.000074</td>\n",
              "      <td>-0.003230</td>\n",
              "      <td>-0.002732</td>\n",
              "      <td>-0.001715</td>\n",
              "      <td>-0.001578</td>\n",
              "      <td>-0.001479</td>\n",
              "      <td>0.000742</td>\n",
              "      <td>-0.002795</td>\n",
              "      <td>-0.000081</td>\n",
              "      <td>-0.001566</td>\n",
              "      <td>-0.002289</td>\n",
              "      <td>-0.001893</td>\n",
              "      <td>0.005203</td>\n",
              "      <td>1.000000</td>\n",
              "      <td>0.000770</td>\n",
              "      <td>0.005505</td>\n",
              "      <td>-0.003212</td>\n",
              "      <td>-0.003395</td>\n",
              "      <td>-0.001070</td>\n",
              "      <td>-0.001141</td>\n",
              "      <td>-0.001623</td>\n",
              "      <td>-0.001593</td>\n",
              "      <td>-0.001069</td>\n",
              "      <td>-0.001623</td>\n",
              "      <td>0.001709</td>\n",
              "      <td>-0.000725</td>\n",
              "      <td>NaN</td>\n",
              "    </tr>\n",
              "    <tr>\n",
              "      <th>cnt_da_rech90</th>\n",
              "      <td>-0.001324</td>\n",
              "      <td>0.002999</td>\n",
              "      <td>0.004595</td>\n",
              "      <td>0.001121</td>\n",
              "      <td>0.038814</td>\n",
              "      <td>0.031155</td>\n",
              "      <td>0.072255</td>\n",
              "      <td>0.056282</td>\n",
              "      <td>-0.003538</td>\n",
              "      <td>-0.001859</td>\n",
              "      <td>0.014779</td>\n",
              "      <td>0.011981</td>\n",
              "      <td>0.001574</td>\n",
              "      <td>0.019213</td>\n",
              "      <td>0.016727</td>\n",
              "      <td>-0.003064</td>\n",
              "      <td>0.004090</td>\n",
              "      <td>-0.006727</td>\n",
              "      <td>0.012465</td>\n",
              "      <td>0.017533</td>\n",
              "      <td>0.007077</td>\n",
              "      <td>0.002153</td>\n",
              "      <td>0.000770</td>\n",
              "      <td>1.000000</td>\n",
              "      <td>0.348885</td>\n",
              "      <td>0.017976</td>\n",
              "      <td>0.026249</td>\n",
              "      <td>-0.001855</td>\n",
              "      <td>-0.003351</td>\n",
              "      <td>0.000907</td>\n",
              "      <td>0.020909</td>\n",
              "      <td>0.038019</td>\n",
              "      <td>-0.003094</td>\n",
              "      <td>0.013430</td>\n",
              "      <td>0.024046</td>\n",
              "      <td>NaN</td>\n",
              "    </tr>\n",
              "    <tr>\n",
              "      <th>fr_da_rech90</th>\n",
              "      <td>-0.002827</td>\n",
              "      <td>-0.005418</td>\n",
              "      <td>-0.002233</td>\n",
              "      <td>0.005395</td>\n",
              "      <td>0.020673</td>\n",
              "      <td>0.016437</td>\n",
              "      <td>0.046761</td>\n",
              "      <td>0.036886</td>\n",
              "      <td>-0.002395</td>\n",
              "      <td>-0.000203</td>\n",
              "      <td>0.016042</td>\n",
              "      <td>0.006989</td>\n",
              "      <td>-0.001925</td>\n",
              "      <td>0.017255</td>\n",
              "      <td>0.013734</td>\n",
              "      <td>-0.001412</td>\n",
              "      <td>0.002865</td>\n",
              "      <td>-0.003822</td>\n",
              "      <td>0.013136</td>\n",
              "      <td>0.019677</td>\n",
              "      <td>0.008492</td>\n",
              "      <td>0.000088</td>\n",
              "      <td>0.005505</td>\n",
              "      <td>0.348885</td>\n",
              "      <td>1.000000</td>\n",
              "      <td>0.010021</td>\n",
              "      <td>0.014935</td>\n",
              "      <td>-0.000754</td>\n",
              "      <td>-0.002234</td>\n",
              "      <td>0.001993</td>\n",
              "      <td>0.011501</td>\n",
              "      <td>0.021785</td>\n",
              "      <td>-0.000949</td>\n",
              "      <td>0.000354</td>\n",
              "      <td>0.001226</td>\n",
              "      <td>NaN</td>\n",
              "    </tr>\n",
              "    <tr>\n",
              "      <th>cnt_loans30</th>\n",
              "      <td>0.001725</td>\n",
              "      <td>0.196283</td>\n",
              "      <td>0.001765</td>\n",
              "      <td>-0.001826</td>\n",
              "      <td>0.366116</td>\n",
              "      <td>0.340387</td>\n",
              "      <td>0.180203</td>\n",
              "      <td>0.171595</td>\n",
              "      <td>0.001193</td>\n",
              "      <td>0.000380</td>\n",
              "      <td>-0.027612</td>\n",
              "      <td>0.765802</td>\n",
              "      <td>0.002666</td>\n",
              "      <td>0.491864</td>\n",
              "      <td>-0.029789</td>\n",
              "      <td>-0.000211</td>\n",
              "      <td>0.689002</td>\n",
              "      <td>-0.119083</td>\n",
              "      <td>0.442766</td>\n",
              "      <td>-0.060766</td>\n",
              "      <td>-0.043381</td>\n",
              "      <td>0.001852</td>\n",
              "      <td>-0.003212</td>\n",
              "      <td>0.017976</td>\n",
              "      <td>0.010021</td>\n",
              "      <td>1.000000</td>\n",
              "      <td>0.957742</td>\n",
              "      <td>0.000251</td>\n",
              "      <td>-0.093146</td>\n",
              "      <td>0.015595</td>\n",
              "      <td>0.852905</td>\n",
              "      <td>0.143590</td>\n",
              "      <td>-0.097871</td>\n",
              "      <td>0.067842</td>\n",
              "      <td>0.033369</td>\n",
              "      <td>NaN</td>\n",
              "    </tr>\n",
              "    <tr>\n",
              "      <th>amnt_loans30</th>\n",
              "      <td>0.002387</td>\n",
              "      <td>0.197272</td>\n",
              "      <td>0.002170</td>\n",
              "      <td>-0.001726</td>\n",
              "      <td>0.471492</td>\n",
              "      <td>0.447869</td>\n",
              "      <td>0.233453</td>\n",
              "      <td>0.231906</td>\n",
              "      <td>0.000903</td>\n",
              "      <td>0.000536</td>\n",
              "      <td>0.008502</td>\n",
              "      <td>0.752296</td>\n",
              "      <td>0.002470</td>\n",
              "      <td>0.531079</td>\n",
              "      <td>0.007125</td>\n",
              "      <td>0.000134</td>\n",
              "      <td>0.707558</td>\n",
              "      <td>-0.123664</td>\n",
              "      <td>0.508599</td>\n",
              "      <td>-0.025307</td>\n",
              "      <td>-0.033878</td>\n",
              "      <td>0.001487</td>\n",
              "      <td>-0.003395</td>\n",
              "      <td>0.026249</td>\n",
              "      <td>0.014935</td>\n",
              "      <td>0.957742</td>\n",
              "      <td>1.000000</td>\n",
              "      <td>-0.000073</td>\n",
              "      <td>-0.078531</td>\n",
              "      <td>0.014625</td>\n",
              "      <td>0.897961</td>\n",
              "      <td>0.329170</td>\n",
              "      <td>-0.087989</td>\n",
              "      <td>0.060425</td>\n",
              "      <td>0.030901</td>\n",
              "      <td>NaN</td>\n",
              "    </tr>\n",
              "    <tr>\n",
              "      <th>maxamnt_loans30</th>\n",
              "      <td>0.000698</td>\n",
              "      <td>0.000248</td>\n",
              "      <td>-0.000755</td>\n",
              "      <td>-0.002764</td>\n",
              "      <td>-0.000028</td>\n",
              "      <td>0.000025</td>\n",
              "      <td>-0.000864</td>\n",
              "      <td>-0.001411</td>\n",
              "      <td>0.000928</td>\n",
              "      <td>0.000503</td>\n",
              "      <td>0.001000</td>\n",
              "      <td>0.000109</td>\n",
              "      <td>-0.001100</td>\n",
              "      <td>0.001633</td>\n",
              "      <td>0.001985</td>\n",
              "      <td>-0.002176</td>\n",
              "      <td>-0.000573</td>\n",
              "      <td>0.001635</td>\n",
              "      <td>0.001152</td>\n",
              "      <td>0.001016</td>\n",
              "      <td>0.001884</td>\n",
              "      <td>-0.000394</td>\n",
              "      <td>-0.001070</td>\n",
              "      <td>-0.001855</td>\n",
              "      <td>-0.000754</td>\n",
              "      <td>0.000251</td>\n",
              "      <td>-0.000073</td>\n",
              "      <td>1.000000</td>\n",
              "      <td>0.007782</td>\n",
              "      <td>0.003987</td>\n",
              "      <td>-0.001850</td>\n",
              "      <td>-0.000487</td>\n",
              "      <td>0.009330</td>\n",
              "      <td>-0.001512</td>\n",
              "      <td>-0.000915</td>\n",
              "      <td>NaN</td>\n",
              "    </tr>\n",
              "    <tr>\n",
              "      <th>medianamnt_loans30</th>\n",
              "      <td>-0.002005</td>\n",
              "      <td>0.044589</td>\n",
              "      <td>0.000986</td>\n",
              "      <td>0.004664</td>\n",
              "      <td>-0.011610</td>\n",
              "      <td>-0.005591</td>\n",
              "      <td>-0.016482</td>\n",
              "      <td>-0.009467</td>\n",
              "      <td>0.001835</td>\n",
              "      <td>0.000061</td>\n",
              "      <td>0.028370</td>\n",
              "      <td>-0.067011</td>\n",
              "      <td>-0.000331</td>\n",
              "      <td>-0.034460</td>\n",
              "      <td>0.032477</td>\n",
              "      <td>-0.002289</td>\n",
              "      <td>-0.053637</td>\n",
              "      <td>0.020626</td>\n",
              "      <td>-0.022133</td>\n",
              "      <td>0.036475</td>\n",
              "      <td>0.030534</td>\n",
              "      <td>0.000049</td>\n",
              "      <td>-0.001141</td>\n",
              "      <td>-0.003351</td>\n",
              "      <td>-0.002234</td>\n",
              "      <td>-0.093146</td>\n",
              "      <td>-0.078531</td>\n",
              "      <td>0.007782</td>\n",
              "      <td>1.000000</td>\n",
              "      <td>-0.003670</td>\n",
              "      <td>-0.067580</td>\n",
              "      <td>0.058378</td>\n",
              "      <td>0.911604</td>\n",
              "      <td>-0.006007</td>\n",
              "      <td>0.003178</td>\n",
              "      <td>NaN</td>\n",
              "    </tr>\n",
              "    <tr>\n",
              "      <th>cnt_loans90</th>\n",
              "      <td>0.002241</td>\n",
              "      <td>0.004733</td>\n",
              "      <td>0.001859</td>\n",
              "      <td>-0.000611</td>\n",
              "      <td>0.008962</td>\n",
              "      <td>0.009446</td>\n",
              "      <td>0.004012</td>\n",
              "      <td>0.005141</td>\n",
              "      <td>-0.000225</td>\n",
              "      <td>-0.000972</td>\n",
              "      <td>0.000093</td>\n",
              "      <td>0.014703</td>\n",
              "      <td>0.003368</td>\n",
              "      <td>0.009419</td>\n",
              "      <td>-0.001143</td>\n",
              "      <td>0.001342</td>\n",
              "      <td>0.015754</td>\n",
              "      <td>-0.002756</td>\n",
              "      <td>0.011306</td>\n",
              "      <td>-0.000123</td>\n",
              "      <td>-0.000926</td>\n",
              "      <td>-0.001986</td>\n",
              "      <td>-0.001623</td>\n",
              "      <td>0.000907</td>\n",
              "      <td>0.001993</td>\n",
              "      <td>0.015595</td>\n",
              "      <td>0.014625</td>\n",
              "      <td>0.003987</td>\n",
              "      <td>-0.003670</td>\n",
              "      <td>1.000000</td>\n",
              "      <td>0.017697</td>\n",
              "      <td>0.001450</td>\n",
              "      <td>-0.002571</td>\n",
              "      <td>0.000587</td>\n",
              "      <td>-0.000476</td>\n",
              "      <td>NaN</td>\n",
              "    </tr>\n",
              "    <tr>\n",
              "      <th>amnt_loans90</th>\n",
              "      <td>0.000781</td>\n",
              "      <td>0.199788</td>\n",
              "      <td>-0.000155</td>\n",
              "      <td>-0.002319</td>\n",
              "      <td>0.563496</td>\n",
              "      <td>0.567204</td>\n",
              "      <td>0.298943</td>\n",
              "      <td>0.327436</td>\n",
              "      <td>0.000870</td>\n",
              "      <td>0.000519</td>\n",
              "      <td>0.014067</td>\n",
              "      <td>0.685257</td>\n",
              "      <td>0.002634</td>\n",
              "      <td>0.484761</td>\n",
              "      <td>0.014546</td>\n",
              "      <td>0.000736</td>\n",
              "      <td>0.783419</td>\n",
              "      <td>-0.132035</td>\n",
              "      <td>0.562609</td>\n",
              "      <td>-0.023450</td>\n",
              "      <td>-0.036412</td>\n",
              "      <td>0.003369</td>\n",
              "      <td>-0.001593</td>\n",
              "      <td>0.020909</td>\n",
              "      <td>0.011501</td>\n",
              "      <td>0.852905</td>\n",
              "      <td>0.897961</td>\n",
              "      <td>-0.001850</td>\n",
              "      <td>-0.067580</td>\n",
              "      <td>0.017697</td>\n",
              "      <td>1.000000</td>\n",
              "      <td>0.323417</td>\n",
              "      <td>-0.095160</td>\n",
              "      <td>0.052142</td>\n",
              "      <td>0.029653</td>\n",
              "      <td>NaN</td>\n",
              "    </tr>\n",
              "    <tr>\n",
              "      <th>maxamnt_loans90</th>\n",
              "      <td>0.001742</td>\n",
              "      <td>0.084144</td>\n",
              "      <td>0.003286</td>\n",
              "      <td>-0.001191</td>\n",
              "      <td>0.400199</td>\n",
              "      <td>0.397251</td>\n",
              "      <td>0.234211</td>\n",
              "      <td>0.251029</td>\n",
              "      <td>-0.001123</td>\n",
              "      <td>0.001524</td>\n",
              "      <td>0.148460</td>\n",
              "      <td>0.174104</td>\n",
              "      <td>-0.001890</td>\n",
              "      <td>0.257705</td>\n",
              "      <td>0.159613</td>\n",
              "      <td>-0.002141</td>\n",
              "      <td>0.244602</td>\n",
              "      <td>-0.045780</td>\n",
              "      <td>0.321739</td>\n",
              "      <td>0.134139</td>\n",
              "      <td>0.027130</td>\n",
              "      <td>-0.000647</td>\n",
              "      <td>-0.001069</td>\n",
              "      <td>0.038019</td>\n",
              "      <td>0.021785</td>\n",
              "      <td>0.143590</td>\n",
              "      <td>0.329170</td>\n",
              "      <td>-0.000487</td>\n",
              "      <td>0.058378</td>\n",
              "      <td>0.001450</td>\n",
              "      <td>0.323417</td>\n",
              "      <td>1.000000</td>\n",
              "      <td>0.032256</td>\n",
              "      <td>0.013376</td>\n",
              "      <td>0.029679</td>\n",
              "      <td>NaN</td>\n",
              "    </tr>\n",
              "    <tr>\n",
              "      <th>medianamnt_loans90</th>\n",
              "      <td>-0.002615</td>\n",
              "      <td>0.035747</td>\n",
              "      <td>0.001210</td>\n",
              "      <td>0.002771</td>\n",
              "      <td>-0.037305</td>\n",
              "      <td>-0.034686</td>\n",
              "      <td>-0.035489</td>\n",
              "      <td>-0.034122</td>\n",
              "      <td>0.002771</td>\n",
              "      <td>-0.002239</td>\n",
              "      <td>0.021004</td>\n",
              "      <td>-0.071451</td>\n",
              "      <td>-0.001292</td>\n",
              "      <td>-0.042244</td>\n",
              "      <td>0.022692</td>\n",
              "      <td>-0.001927</td>\n",
              "      <td>-0.072481</td>\n",
              "      <td>0.016964</td>\n",
              "      <td>-0.042386</td>\n",
              "      <td>0.031696</td>\n",
              "      <td>0.032453</td>\n",
              "      <td>-0.001365</td>\n",
              "      <td>-0.001623</td>\n",
              "      <td>-0.003094</td>\n",
              "      <td>-0.000949</td>\n",
              "      <td>-0.097871</td>\n",
              "      <td>-0.087989</td>\n",
              "      <td>0.009330</td>\n",
              "      <td>0.911604</td>\n",
              "      <td>-0.002571</td>\n",
              "      <td>-0.095160</td>\n",
              "      <td>0.032256</td>\n",
              "      <td>1.000000</td>\n",
              "      <td>-0.013388</td>\n",
              "      <td>-0.010443</td>\n",
              "      <td>NaN</td>\n",
              "    </tr>\n",
              "    <tr>\n",
              "      <th>payback30</th>\n",
              "      <td>-0.000040</td>\n",
              "      <td>0.048336</td>\n",
              "      <td>0.002922</td>\n",
              "      <td>0.001940</td>\n",
              "      <td>0.026915</td>\n",
              "      <td>0.019400</td>\n",
              "      <td>0.072974</td>\n",
              "      <td>0.067110</td>\n",
              "      <td>-0.002233</td>\n",
              "      <td>0.000077</td>\n",
              "      <td>-0.027369</td>\n",
              "      <td>0.043617</td>\n",
              "      <td>0.001455</td>\n",
              "      <td>0.000112</td>\n",
              "      <td>-0.018398</td>\n",
              "      <td>0.001516</td>\n",
              "      <td>0.011943</td>\n",
              "      <td>0.036817</td>\n",
              "      <td>-0.026409</td>\n",
              "      <td>-0.035640</td>\n",
              "      <td>-0.031760</td>\n",
              "      <td>-0.000471</td>\n",
              "      <td>0.001709</td>\n",
              "      <td>0.013430</td>\n",
              "      <td>0.000354</td>\n",
              "      <td>0.067842</td>\n",
              "      <td>0.060425</td>\n",
              "      <td>-0.001512</td>\n",
              "      <td>-0.006007</td>\n",
              "      <td>0.000587</td>\n",
              "      <td>0.052142</td>\n",
              "      <td>0.013376</td>\n",
              "      <td>-0.013388</td>\n",
              "      <td>1.000000</td>\n",
              "      <td>0.830363</td>\n",
              "      <td>NaN</td>\n",
              "    </tr>\n",
              "    <tr>\n",
              "      <th>payback90</th>\n",
              "      <td>0.002411</td>\n",
              "      <td>0.049183</td>\n",
              "      <td>0.002671</td>\n",
              "      <td>0.002203</td>\n",
              "      <td>0.047175</td>\n",
              "      <td>0.040800</td>\n",
              "      <td>0.095147</td>\n",
              "      <td>0.099501</td>\n",
              "      <td>-0.001583</td>\n",
              "      <td>0.000417</td>\n",
              "      <td>-0.014260</td>\n",
              "      <td>0.017362</td>\n",
              "      <td>0.000998</td>\n",
              "      <td>-0.012596</td>\n",
              "      <td>-0.002861</td>\n",
              "      <td>0.001811</td>\n",
              "      <td>-0.003141</td>\n",
              "      <td>0.077529</td>\n",
              "      <td>-0.029997</td>\n",
              "      <td>-0.023022</td>\n",
              "      <td>-0.031210</td>\n",
              "      <td>0.000382</td>\n",
              "      <td>-0.000725</td>\n",
              "      <td>0.024046</td>\n",
              "      <td>0.001226</td>\n",
              "      <td>0.033369</td>\n",
              "      <td>0.030901</td>\n",
              "      <td>-0.000915</td>\n",
              "      <td>0.003178</td>\n",
              "      <td>-0.000476</td>\n",
              "      <td>0.029653</td>\n",
              "      <td>0.029679</td>\n",
              "      <td>-0.010443</td>\n",
              "      <td>0.830363</td>\n",
              "      <td>1.000000</td>\n",
              "      <td>NaN</td>\n",
              "    </tr>\n",
              "    <tr>\n",
              "      <th>pcircle</th>\n",
              "      <td>NaN</td>\n",
              "      <td>NaN</td>\n",
              "      <td>NaN</td>\n",
              "      <td>NaN</td>\n",
              "      <td>NaN</td>\n",
              "      <td>NaN</td>\n",
              "      <td>NaN</td>\n",
              "      <td>NaN</td>\n",
              "      <td>NaN</td>\n",
              "      <td>NaN</td>\n",
              "      <td>NaN</td>\n",
              "      <td>NaN</td>\n",
              "      <td>NaN</td>\n",
              "      <td>NaN</td>\n",
              "      <td>NaN</td>\n",
              "      <td>NaN</td>\n",
              "      <td>NaN</td>\n",
              "      <td>NaN</td>\n",
              "      <td>NaN</td>\n",
              "      <td>NaN</td>\n",
              "      <td>NaN</td>\n",
              "      <td>NaN</td>\n",
              "      <td>NaN</td>\n",
              "      <td>NaN</td>\n",
              "      <td>NaN</td>\n",
              "      <td>NaN</td>\n",
              "      <td>NaN</td>\n",
              "      <td>NaN</td>\n",
              "      <td>NaN</td>\n",
              "      <td>NaN</td>\n",
              "      <td>NaN</td>\n",
              "      <td>NaN</td>\n",
              "      <td>NaN</td>\n",
              "      <td>NaN</td>\n",
              "      <td>NaN</td>\n",
              "      <td>NaN</td>\n",
              "    </tr>\n",
              "  </tbody>\n",
              "</table>\n",
              "</div>"
            ],
            "text/plain": [
              "                      Unnamed: 0     label  ...  payback90  pcircle\n",
              "Unnamed: 0              1.000000  0.000403  ...   0.002411      NaN\n",
              "label                   0.000403  1.000000  ...   0.049183      NaN\n",
              "msisdn                  0.000121  0.001976  ...   0.002671      NaN\n",
              "aon                    -0.002048 -0.003785  ...   0.002203      NaN\n",
              "daily_decr30            0.002739  0.168298  ...   0.047175      NaN\n",
              "daily_decr90            0.003077  0.166150  ...   0.040800      NaN\n",
              "rental30               -0.003906  0.058085  ...   0.095147      NaN\n",
              "rental90               -0.003459  0.075521  ...   0.099501      NaN\n",
              "last_rech_date_ma      -0.001853  0.003728  ...  -0.001583      NaN\n",
              "last_rech_date_da      -0.001133  0.001711  ...   0.000417      NaN\n",
              "last_rech_amt_ma       -0.001064  0.131804  ...  -0.014260      NaN\n",
              "cnt_ma_rech30           0.003320  0.237331  ...   0.017362      NaN\n",
              "fr_ma_rech30            0.003181  0.001330  ...   0.000998      NaN\n",
              "sumamnt_ma_rech30       0.000123  0.202828  ...  -0.012596      NaN\n",
              "medianamnt_ma_rech30   -0.001371  0.141490  ...  -0.002861      NaN\n",
              "medianmarechprebal30    0.001258 -0.004829  ...   0.001811      NaN\n",
              "cnt_ma_rech90           0.002329  0.236392  ...  -0.003141      NaN\n",
              "fr_ma_rech90           -0.000249  0.084385  ...   0.077529      NaN\n",
              "sumamnt_ma_rech90       0.000523  0.205793  ...  -0.029997      NaN\n",
              "medianamnt_ma_rech90   -0.000298  0.120855  ...  -0.023022      NaN\n",
              "medianmarechprebal90   -0.001947  0.039300  ...  -0.031210      NaN\n",
              "cnt_da_rech30           0.000888  0.003827  ...   0.000382      NaN\n",
              "fr_da_rech30           -0.002504 -0.000027  ...  -0.000725      NaN\n",
              "cnt_da_rech90          -0.001324  0.002999  ...   0.024046      NaN\n",
              "fr_da_rech90           -0.002827 -0.005418  ...   0.001226      NaN\n",
              "cnt_loans30             0.001725  0.196283  ...   0.033369      NaN\n",
              "amnt_loans30            0.002387  0.197272  ...   0.030901      NaN\n",
              "maxamnt_loans30         0.000698  0.000248  ...  -0.000915      NaN\n",
              "medianamnt_loans30     -0.002005  0.044589  ...   0.003178      NaN\n",
              "cnt_loans90             0.002241  0.004733  ...  -0.000476      NaN\n",
              "amnt_loans90            0.000781  0.199788  ...   0.029653      NaN\n",
              "maxamnt_loans90         0.001742  0.084144  ...   0.029679      NaN\n",
              "medianamnt_loans90     -0.002615  0.035747  ...  -0.010443      NaN\n",
              "payback30              -0.000040  0.048336  ...   0.830363      NaN\n",
              "payback90               0.002411  0.049183  ...   1.000000      NaN\n",
              "pcircle                      NaN       NaN  ...        NaN      NaN\n",
              "\n",
              "[36 rows x 36 columns]"
            ]
          },
          "execution_count": 28,
          "metadata": {},
          "output_type": "execute_result"
        }
      ],
      "source": [
        "df.corr()"
      ]
    },
    {
      "cell_type": "code",
      "execution_count": null,
      "metadata": {
        "colab": {
          "base_uri": "https://localhost:8080/",
          "height": 563
        },
        "id": "GnhpwAYSjTns",
        "outputId": "b592b1f9-e427-432b-9000-68ccaa84b0f2"
      },
      "outputs": [
        {
          "data": {
            "text/plain": [
              "<matplotlib.axes._subplots.AxesSubplot at 0x7fcaf0affd50>"
            ]
          },
          "execution_count": 29,
          "metadata": {},
          "output_type": "execute_result"
        },
        {
          "data": {
            "image/png": "[encoded data removed]",
            "text/plain": [
              "<Figure size 1584x504 with 2 Axes>"
            ]
          },
          "metadata": {
            "needs_background": "light"
          },
          "output_type": "display_data"
        }
      ],
      "source": [
        "plt.figure(figsize=(22,7))\n",
        "sns.heatmap(df.corr(),annot=True,linewidths=0.1,linecolor=\"black\",fmt=\"0.2f\")"
      ]
    },
    {
      "cell_type": "code",
      "execution_count": null,
      "metadata": {
        "colab": {
          "base_uri": "https://localhost:8080/"
        },
        "id": "V5MX2wq8jTnt",
        "outputId": "e7a314bd-2384-4390-cdbe-1bb0d1b22d77"
      },
      "outputs": [
        {
          "data": {
            "text/plain": [
              "Unnamed: 0               0.000000\n",
              "label                   -2.270254\n",
              "msisdn                   0.000719\n",
              "aon                     10.392949\n",
              "daily_decr30             3.946230\n",
              "daily_decr90             4.252565\n",
              "rental30                 4.521929\n",
              "rental90                 4.437681\n",
              "last_rech_date_ma       14.790974\n",
              "last_rech_date_da       14.814857\n",
              "last_rech_amt_ma         3.781149\n",
              "cnt_ma_rech30            3.283842\n",
              "fr_ma_rech30            14.772833\n",
              "sumamnt_ma_rech30        6.386787\n",
              "medianamnt_ma_rech30     3.512324\n",
              "medianmarechprebal30    14.779875\n",
              "cnt_ma_rech90            3.425254\n",
              "fr_ma_rech90             2.285423\n",
              "sumamnt_ma_rech90        4.897950\n",
              "medianamnt_ma_rech90     3.752706\n",
              "medianmarechprebal90    44.880503\n",
              "cnt_da_rech30           17.818364\n",
              "fr_da_rech30            14.776430\n",
              "cnt_da_rech90           27.267278\n",
              "fr_da_rech90            28.988083\n",
              "cnt_loans30              2.713421\n",
              "amnt_loans30             2.975719\n",
              "maxamnt_loans30         17.658052\n",
              "medianamnt_loans30       4.551043\n",
              "cnt_loans90             16.594408\n",
              "amnt_loans90             3.150006\n",
              "maxamnt_loans90          1.678304\n",
              "medianamnt_loans90       4.895720\n",
              "payback30                8.310695\n",
              "payback90                6.899951\n",
              "pcircle                  0.000000\n",
              "dtype: float64"
            ]
          },
          "execution_count": 30,
          "metadata": {},
          "output_type": "execute_result"
        }
      ],
      "source": [
        "df.skew()"
      ]
    },
    {
      "cell_type": "markdown",
      "metadata": {
        "id": "6sYemWWrjTnt"
      },
      "source": [
        "# Outliers Check:"
      ]
    },
    {
      "cell_type": "code",
      "execution_count": null,
      "metadata": {
        "colab": {
          "base_uri": "https://localhost:8080/"
        },
        "id": "3vQqfIRGjTnu",
        "outputId": "dd5ae3ce-56cc-4ff2-d57d-1ca6a8592cf5"
      },
      "outputs": [
        {
          "data": {
            "text/plain": [
              "Unnamed: 0                       int64\n",
              "label                            int64\n",
              "msisdn                         float64\n",
              "aon                            float64\n",
              "daily_decr30                   float64\n",
              "daily_decr90                   float64\n",
              "rental30                       float64\n",
              "rental90                       float64\n",
              "last_rech_date_ma              float64\n",
              "last_rech_date_da              float64\n",
              "last_rech_amt_ma                 int64\n",
              "cnt_ma_rech30                    int64\n",
              "fr_ma_rech30                   float64\n",
              "sumamnt_ma_rech30                int64\n",
              "medianamnt_ma_rech30           float64\n",
              "medianmarechprebal30           float64\n",
              "cnt_ma_rech90                    int64\n",
              "fr_ma_rech90                     int64\n",
              "sumamnt_ma_rech90                int64\n",
              "medianamnt_ma_rech90           float64\n",
              "medianmarechprebal90           float64\n",
              "cnt_da_rech30                  float64\n",
              "fr_da_rech30                   float64\n",
              "cnt_da_rech90                    int64\n",
              "fr_da_rech90                     int64\n",
              "cnt_loans30                      int64\n",
              "amnt_loans30                     int64\n",
              "maxamnt_loans30                float64\n",
              "medianamnt_loans30             float64\n",
              "cnt_loans90                    float64\n",
              "amnt_loans90                     int64\n",
              "maxamnt_loans90                  int64\n",
              "medianamnt_loans90             float64\n",
              "payback30                      float64\n",
              "payback90                      float64\n",
              "pcircle                        float64\n",
              "pdate                   datetime64[ns]\n",
              "dtype: object"
            ]
          },
          "execution_count": 31,
          "metadata": {},
          "output_type": "execute_result"
        }
      ],
      "source": [
        "df.dtypes"
      ]
    },
    {
      "cell_type": "code",
      "execution_count": null,
      "metadata": {
        "colab": {
          "base_uri": "https://localhost:8080/",
          "height": 283
        },
        "id": "UKWWzDgPjTnu",
        "outputId": "575000c6-8c4b-4058-d3f4-30d13e653712"
      },
      "outputs": [
        {
          "data": {
            "text/plain": [
              "<matplotlib.axes._subplots.AxesSubplot at 0x7fcadcf191d0>"
            ]
          },
          "execution_count": 32,
          "metadata": {},
          "output_type": "execute_result"
        },
        {
          "data": {
            "image/png": "[encoded data removed]",
            "text/plain": [
              "<Figure size 432x288 with 1 Axes>"
            ]
          },
          "metadata": {
            "needs_background": "light"
          },
          "output_type": "display_data"
        }
      ],
      "source": [
        "df['cnt_loans90'].plot.box()"
      ]
    },
    {
      "cell_type": "code",
      "execution_count": null,
      "metadata": {
        "colab": {
          "base_uri": "https://localhost:8080/",
          "height": 283
        },
        "id": "5DLEUnt_jTnu",
        "outputId": "068d9aad-418d-499c-c1b3-d6caec7f0ce2"
      },
      "outputs": [
        {
          "data": {
            "text/plain": [
              "<matplotlib.axes._subplots.AxesSubplot at 0x7fcadcf2d210>"
            ]
          },
          "execution_count": 33,
          "metadata": {},
          "output_type": "execute_result"
        },
        {
          "data": {
            "image/png": "[encoded data removed]",
            "text/plain": [
              "<Figure size 432x288 with 1 Axes>"
            ]
          },
          "metadata": {
            "needs_background": "light"
          },
          "output_type": "display_data"
        }
      ],
      "source": [
        "df['maxamnt_loans90'].plot.box()"
      ]
    },
    {
      "cell_type": "code",
      "execution_count": null,
      "metadata": {
        "colab": {
          "base_uri": "https://localhost:8080/",
          "height": 282
        },
        "id": "bJoT2IUjjTnv",
        "outputId": "8b73fb0e-e2e4-401d-cf90-d915c0e8cfdd",
        "scrolled": true
      },
      "outputs": [
        {
          "data": {
            "text/plain": [
              "<matplotlib.axes._subplots.AxesSubplot at 0x7fcaeb84afd0>"
            ]
          },
          "execution_count": 34,
          "metadata": {},
          "output_type": "execute_result"
        },
        {
          "data": {
            "image/png": "[encoded data removed]",
            "text/plain": [
              "<Figure size 432x288 with 1 Axes>"
            ]
          },
          "metadata": {
            "needs_background": "light"
          },
          "output_type": "display_data"
        }
      ],
      "source": [
        "df['medianmarechprebal90'].plot.box()"
      ]
    },
    {
      "cell_type": "code",
      "execution_count": null,
      "metadata": {
        "id": "SOwcq49gjTnw"
      },
      "outputs": [],
      "source": [
        "df=df.drop(\"pdate\",axis=1)"
      ]
    },
    {
      "cell_type": "markdown",
      "metadata": {
        "id": "VEFg4SPVjTnw"
      },
      "source": [
        "# Autometic Outlier Removal"
      ]
    },
    {
      "cell_type": "code",
      "execution_count": null,
      "metadata": {
        "id": "eFHR8tZIjTnx"
      },
      "outputs": [],
      "source": [
        "from sklearn.model_selection import train_test_split\n",
        "from sklearn.linear_model import LinearRegression\n",
        "from sklearn.neighbors import LocalOutlierFactor\n",
        "from sklearn.metrics import mean_absolute_error"
      ]
    },
    {
      "cell_type": "code",
      "execution_count": null,
      "metadata": {
        "id": "dw34WnyOjTnx"
      },
      "outputs": [],
      "source": [
        "data = df.values"
      ]
    },
    {
      "cell_type": "code",
      "execution_count": null,
      "metadata": {
        "id": "6DH-N_l7jTny"
      },
      "outputs": [],
      "source": [
        "X, Y = data[:, :-1], data[:, -1]"
      ]
    },
    {
      "cell_type": "code",
      "execution_count": null,
      "metadata": {
        "id": "LkX4LDsqjTny"
      },
      "outputs": [],
      "source": [
        "X_train, X_test, Y_train, Y_test = train_test_split(X, Y, test_size=0.33, random_state=1)"
      ]
    },
    {
      "cell_type": "code",
      "execution_count": null,
      "metadata": {
        "colab": {
          "base_uri": "https://localhost:8080/"
        },
        "id": "9zCEMt5jjTnz",
        "outputId": "32e5d9ff-c3ea-4294-bb8b-01fd11e09ce0"
      },
      "outputs": [
        {
          "name": "stdout",
          "output_type": "stream",
          "text": [
            "(140427, 35) (140427,)\n"
          ]
        }
      ],
      "source": [
        "print(X_train.shape, Y_train.shape)"
      ]
    },
    {
      "cell_type": "code",
      "execution_count": null,
      "metadata": {
        "id": "zKpEClIijTnz"
      },
      "outputs": [],
      "source": [
        "lof = LocalOutlierFactor()"
      ]
    },
    {
      "cell_type": "code",
      "execution_count": null,
      "metadata": {
        "id": "k-vBxHEejTn0"
      },
      "outputs": [],
      "source": [
        "yhat = lof.fit_predict(X_train)\n",
        "\n"
      ]
    },
    {
      "cell_type": "code",
      "execution_count": null,
      "metadata": {
        "id": "6rXnTm7HjTn0"
      },
      "outputs": [],
      "source": [
        "mask = yhat != -1"
      ]
    },
    {
      "cell_type": "code",
      "execution_count": null,
      "metadata": {
        "id": "oHTlZ2W8jTn0"
      },
      "outputs": [],
      "source": [
        "X_train, Y_train = X_train[mask, :], Y_train[mask]"
      ]
    },
    {
      "cell_type": "code",
      "execution_count": null,
      "metadata": {
        "colab": {
          "base_uri": "https://localhost:8080/"
        },
        "id": "hwTsG2VqjTn0",
        "outputId": "1e9506bf-3b12-4f05-dcf0-3284b2b7e98c"
      },
      "outputs": [
        {
          "name": "stdout",
          "output_type": "stream",
          "text": [
            "(138465, 35) (138465,)\n"
          ]
        }
      ],
      "source": [
        "print(X_train.shape, Y_train.shape)"
      ]
    },
    {
      "cell_type": "code",
      "execution_count": null,
      "metadata": {
        "id": "54ydpMK4jTn1"
      },
      "outputs": [],
      "source": [
        "model = LinearRegression()"
      ]
    },
    {
      "cell_type": "code",
      "execution_count": null,
      "metadata": {
        "colab": {
          "base_uri": "https://localhost:8080/"
        },
        "id": "sTfghLzIjTn1",
        "outputId": "a4f720a3-bd14-4c3c-c3d6-05361d181b73"
      },
      "outputs": [
        {
          "data": {
            "text/plain": [
              "LinearRegression()"
            ]
          },
          "execution_count": 47,
          "metadata": {},
          "output_type": "execute_result"
        }
      ],
      "source": [
        "model.fit(X_train, Y_train)"
      ]
    },
    {
      "cell_type": "code",
      "execution_count": null,
      "metadata": {
        "id": "Ky5TN1xGjTn2"
      },
      "outputs": [],
      "source": [
        "yhat = model.predict(X_test)"
      ]
    },
    {
      "cell_type": "code",
      "execution_count": null,
      "metadata": {
        "colab": {
          "base_uri": "https://localhost:8080/"
        },
        "id": "z463SdFyjTn2",
        "outputId": "c20b2071-0202-41b1-f5cc-3b0ae08c6a6d"
      },
      "outputs": [
        {
          "name": "stdout",
          "output_type": "stream",
          "text": [
            "MAE: 0.000\n"
          ]
        }
      ],
      "source": [
        "mae = mean_absolute_error(Y_test, yhat)\n",
        "print('MAE: %.3f' % mae)"
      ]
    },
    {
      "cell_type": "code",
      "execution_count": null,
      "metadata": {
        "colab": {
          "base_uri": "https://localhost:8080/"
        },
        "id": "8eDhmUvxjTn2",
        "outputId": "e8b40e50-bdf3-4bd1-93d4-49c3d7cc9df8"
      },
      "outputs": [
        {
          "data": {
            "text/plain": [
              "1.3971672114336986"
            ]
          },
          "execution_count": 50,
          "metadata": {},
          "output_type": "execute_result"
        }
      ],
      "source": [
        "dataloss=((140427-138465)/140427)*100\n",
        "dataloss"
      ]
    },
    {
      "cell_type": "markdown",
      "metadata": {
        "id": "S4G7dPvljTn3"
      },
      "source": [
        "data loss is less than 10 so we can go ahed"
      ]
    },
    {
      "cell_type": "code",
      "execution_count": null,
      "metadata": {
        "id": "LWky5l8_jTn3"
      },
      "outputs": [],
      "source": [
        "features=df.drop(\"label\",axis=1)\n",
        "target=df[\"label\"]"
      ]
    },
    {
      "cell_type": "code",
      "execution_count": null,
      "metadata": {
        "id": "lOdLK-iPjTn3"
      },
      "outputs": [],
      "source": [
        "x=features\n",
        "y=target"
      ]
    },
    {
      "cell_type": "code",
      "execution_count": null,
      "metadata": {
        "id": "SsLx5JZdjTn4"
      },
      "outputs": [],
      "source": [
        "xtrain,xtest,ytrain,ytest=train_test_split(x,y,test_size=0.30,random_state=55)"
      ]
    },
    {
      "cell_type": "code",
      "execution_count": null,
      "metadata": {
        "colab": {
          "base_uri": "https://localhost:8080/"
        },
        "id": "End7EpN3jTn4",
        "outputId": "10e2e603-2e14-4813-f540-64ef1bb07fb9"
      },
      "outputs": [
        {
          "name": "stdout",
          "output_type": "stream",
          "text": [
            "0.9025096218073094\n",
            "[[ 2254  5568]\n",
            " [  562 54494]]\n",
            "              precision    recall  f1-score   support\n",
            "\n",
            "           0       0.80      0.29      0.42      7822\n",
            "           1       0.91      0.99      0.95     55056\n",
            "\n",
            "    accuracy                           0.90     62878\n",
            "   macro avg       0.85      0.64      0.69     62878\n",
            "weighted avg       0.89      0.90      0.88     62878\n",
            "\n"
          ]
        }
      ],
      "source": [
        "from sklearn.metrics import accuracy_score,confusion_matrix,classification_report\n",
        "from sklearn.ensemble import AdaBoostClassifier\n",
        "ad=AdaBoostClassifier()\n",
        "ad.fit(xtrain,ytrain)\n",
        "ad_pred=ad.predict(xtest)\n",
        "print(accuracy_score(ytest,ad_pred))\n",
        "print(confusion_matrix(ytest,ad_pred))\n",
        "print(classification_report(ytest,ad_pred))"
      ]
    },
    {
      "cell_type": "code",
      "execution_count": null,
      "metadata": {
        "colab": {
          "base_uri": "https://localhost:8080/"
        },
        "id": "OutAXUkdjTn4",
        "outputId": "a3c25bf8-5c44-47fd-ecc7-847e6fde06d4"
      },
      "outputs": [
        {
          "name": "stdout",
          "output_type": "stream",
          "text": [
            "0.863656604853844\n",
            "[[ 3788  4034]\n",
            " [ 4539 50517]]\n",
            "              precision    recall  f1-score   support\n",
            "\n",
            "           0       0.45      0.48      0.47      7822\n",
            "           1       0.93      0.92      0.92     55056\n",
            "\n",
            "    accuracy                           0.86     62878\n",
            "   macro avg       0.69      0.70      0.70     62878\n",
            "weighted avg       0.87      0.86      0.87     62878\n",
            "\n"
          ]
        }
      ],
      "source": [
        "from sklearn.tree import DecisionTreeClassifier\n",
        "dtc=DecisionTreeClassifier()\n",
        "dtc.fit(xtrain,ytrain)\n",
        "dtc.score(xtrain,ytrain)\n",
        "preddtc=dtc.predict(xtest)\n",
        "print(accuracy_score(ytest,preddtc))\n",
        "print(confusion_matrix(ytest,preddtc))\n",
        "print(classification_report(ytest,preddtc))"
      ]
    },
    {
      "cell_type": "code",
      "execution_count": null,
      "metadata": {
        "colab": {
          "base_uri": "https://localhost:8080/"
        },
        "id": "DUsuRpRdjTn5",
        "outputId": "ddbb5511-d2ab-4515-ac5e-9a3c2f10f021"
      },
      "outputs": [
        {
          "name": "stdout",
          "output_type": "stream",
          "text": [
            "0.8624002035688157\n",
            "[[ 1378  6444]\n",
            " [ 2208 52848]]\n",
            "              precision    recall  f1-score   support\n",
            "\n",
            "           0       0.38      0.18      0.24      7822\n",
            "           1       0.89      0.96      0.92     55056\n",
            "\n",
            "    accuracy                           0.86     62878\n",
            "   macro avg       0.64      0.57      0.58     62878\n",
            "weighted avg       0.83      0.86      0.84     62878\n",
            "\n"
          ]
        }
      ],
      "source": [
        "from sklearn.neighbors import KNeighborsClassifier\n",
        "knn=KNeighborsClassifier(n_neighbors=5)\n",
        "knn.fit(xtrain,ytrain)\n",
        "knn.score(xtrain,ytrain)\n",
        "predknn=knn.predict(xtest)\n",
        "print(accuracy_score(ytest,predknn))\n",
        "print(confusion_matrix(ytest,predknn))\n",
        "print(classification_report(ytest,predknn))"
      ]
    },
    {
      "cell_type": "code",
      "execution_count": null,
      "metadata": {
        "id": "cVhMKQmNjTn6"
      },
      "outputs": [],
      "source": [
        "model=[DecisionTreeClassifier(),KNeighborsClassifier(),AdaBoostClassifier()]"
      ]
    },
    {
      "cell_type": "code",
      "execution_count": null,
      "metadata": {
        "colab": {
          "base_uri": "https://localhost:8080/"
        },
        "id": "iUXv-nEDjTn6",
        "outputId": "ae7742c0-036d-4aab-8ceb-126cfda5cacc"
      },
      "outputs": [
        {
          "name": "stdout",
          "output_type": "stream",
          "text": [
            "Accuracy score of DecisionTreeClassifier() is:\n",
            "0.8635452781577022\n",
            "[[ 3815  4007]\n",
            " [ 4573 50483]]\n",
            "              precision    recall  f1-score   support\n",
            "\n",
            "           0       0.45      0.49      0.47      7822\n",
            "           1       0.93      0.92      0.92     55056\n",
            "\n",
            "    accuracy                           0.86     62878\n",
            "   macro avg       0.69      0.70      0.70     62878\n",
            "weighted avg       0.87      0.86      0.87     62878\n",
            "\n",
            "\n",
            "\n",
            "Accuracy score of SVC() is:\n",
            "0.8756003689684786\n",
            "[[    0  7822]\n",
            " [    0 55056]]\n",
            "              precision    recall  f1-score   support\n",
            "\n",
            "           0       0.00      0.00      0.00      7822\n",
            "           1       0.88      1.00      0.93     55056\n",
            "\n",
            "    accuracy                           0.88     62878\n",
            "   macro avg       0.44      0.50      0.47     62878\n",
            "weighted avg       0.77      0.88      0.82     62878\n",
            "\n",
            "\n",
            "\n"
          ]
        },
        {
          "name": "stderr",
          "output_type": "stream",
          "text": [
            "/usr/local/lib/python3.7/dist-packages/sklearn/metrics/_classification.py:1308: UndefinedMetricWarning: Precision and F-score are ill-defined and being set to 0.0 in labels with no predicted samples. Use `zero_division` parameter to control this behavior.\n",
            "  _warn_prf(average, modifier, msg_start, len(result))\n",
            "/usr/local/lib/python3.7/dist-packages/sklearn/metrics/_classification.py:1308: UndefinedMetricWarning: Precision and F-score are ill-defined and being set to 0.0 in labels with no predicted samples. Use `zero_division` parameter to control this behavior.\n",
            "  _warn_prf(average, modifier, msg_start, len(result))\n",
            "/usr/local/lib/python3.7/dist-packages/sklearn/metrics/_classification.py:1308: UndefinedMetricWarning: Precision and F-score are ill-defined and being set to 0.0 in labels with no predicted samples. Use `zero_division` parameter to control this behavior.\n",
            "  _warn_prf(average, modifier, msg_start, len(result))\n"
          ]
        },
        {
          "name": "stdout",
          "output_type": "stream",
          "text": [
            "Accuracy score of KNeighborsClassifier() is:\n",
            "0.8624002035688157\n",
            "[[ 1378  6444]\n",
            " [ 2208 52848]]\n",
            "              precision    recall  f1-score   support\n",
            "\n",
            "           0       0.38      0.18      0.24      7822\n",
            "           1       0.89      0.96      0.92     55056\n",
            "\n",
            "    accuracy                           0.86     62878\n",
            "   macro avg       0.64      0.57      0.58     62878\n",
            "weighted avg       0.83      0.86      0.84     62878\n",
            "\n",
            "\n",
            "\n",
            "Accuracy score of AdaBoostClassifier() is:\n",
            "0.9025096218073094\n",
            "[[ 2254  5568]\n",
            " [  562 54494]]\n",
            "              precision    recall  f1-score   support\n",
            "\n",
            "           0       0.80      0.29      0.42      7822\n",
            "           1       0.91      0.99      0.95     55056\n",
            "\n",
            "    accuracy                           0.90     62878\n",
            "   macro avg       0.85      0.64      0.69     62878\n",
            "weighted avg       0.89      0.90      0.88     62878\n",
            "\n",
            "\n",
            "\n"
          ]
        }
      ],
      "source": [
        "for m in model:\n",
        "    m.fit(xtrain,ytrain)\n",
        "    m.score(xtrain,ytrain)\n",
        "    predm=m.predict(xtest)\n",
        "    print('Accuracy score of',m,'is:')\n",
        "    print(accuracy_score(ytest,predm))\n",
        "    print(confusion_matrix(ytest,predm))\n",
        "    print(classification_report(ytest,predm))\n",
        "    print('\\n')"
      ]
    },
    {
      "cell_type": "code",
      "execution_count": null,
      "metadata": {
        "colab": {
          "base_uri": "https://localhost:8080/"
        },
        "id": "ecC7n0dHjTn6",
        "outputId": "23cfdef1-21ac-4200-d7dc-b11da0b83f00"
      },
      "outputs": [
        {
          "data": {
            "text/plain": [
              "array([1, 1, 1, ..., 1, 1, 0])"
            ]
          },
          "execution_count": 62,
          "metadata": {},
          "output_type": "execute_result"
        }
      ],
      "source": [
        "import joblib\n",
        "joblib.dump(ad,'micro.obj')\n",
        "ad_from_joblib=joblib.load('micro.obj')\n",
        "ad_from_joblib.predict(xtest)"
      ]
    },
    {
      "cell_type": "code",
      "execution_count": null,
      "metadata": {
        "colab": {
          "base_uri": "https://localhost:8080/"
        },
        "id": "58Cv1XKJjTn7",
        "outputId": "2f7c0938-480f-44ad-c5f8-dbe44614fe01"
      },
      "outputs": [
        {
          "data": {
            "text/plain": [
              "array([1, 1, 1, ..., 1, 1, 0])"
            ]
          },
          "execution_count": 63,
          "metadata": {},
          "output_type": "execute_result"
        }
      ],
      "source": [
        "import pickle\n",
        "filename = 'pickleadfile.pkl'\n",
        "pickle.dump(ad, open(filename, 'wb'))\n",
        "loaded_model = pickle.load(open(filename,'rb'))\n",
        "loaded_model.predict(xtest)"
      ]
    },
    {
      "cell_type": "code",
      "execution_count": null,
      "metadata": {
        "colab": {
          "base_uri": "https://localhost:8080/"
        },
        "id": "eVKyhWbcjTn7",
        "outputId": "582eec1a-2aa0-4d65-a9fc-5aee08c864cf"
      },
      "outputs": [
        {
          "name": "stdout",
          "output_type": "stream",
          "text": [
            "[0.90431547 0.90388607 0.90603306 0.90173907 0.90281257 0.90560366\n",
            " 0.9023116  0.90474487 0.9057468  0.90474487 0.90302727 0.902741\n",
            " 0.902741   0.90344976 0.90438019]\n",
            "0.9038851491206642\n",
            "0.0012836628943687421\n"
          ]
        }
      ],
      "source": [
        "from sklearn.model_selection import cross_val_score\n",
        "score=cross_val_score(ad,x,y,cv=15)\n",
        "print(score)\n",
        "print(score.mean())\n",
        "print(score.std())"
      ]
    },
    {
      "cell_type": "code",
      "execution_count": null,
      "metadata": {
        "colab": {
          "base_uri": "https://localhost:8080/"
        },
        "id": "oQ3I6HkEjTn7",
        "outputId": "b634bfab-45e1-4106-bf9a-826be5c23fb0"
      },
      "outputs": [
        {
          "name": "stdout",
          "output_type": "stream",
          "text": [
            "[0.90431547 0.90388607 0.90603306 0.90173907 0.90281257 0.90560366\n",
            " 0.9023116  0.90474487 0.9057468  0.90474487 0.90302727 0.902741\n",
            " 0.902741   0.90344976 0.90438019]\n",
            "0.9038851491206642\n",
            "0.0012836628943687421\n"
          ]
        }
      ],
      "source": [
        "from sklearn.model_selection import KFold\n",
        "kfold=KFold(5)\n",
        "print(score)\n",
        "print(score.mean())\n",
        "print(score.std())"
      ]
    },
    {
      "cell_type": "code",
      "execution_count": null,
      "metadata": {
        "id": "b2kKQ_-qjTn7"
      },
      "outputs": [],
      "source": []
    }
  ],
  "metadata": {
    "colab": {
      "collapsed_sections": [
        "-PItwzY6jTnl"
      ],
      "name": "Micro-Credit Defaulter Model.ipynb",
      "provenance": []
    },
    "kernelspec": {
      "display_name": "Python 3",
      "language": "python",
      "name": "python3"
    },
    "language_info": {
      "codemirror_mode": {
        "name": "ipython",
        "version": 3
      },
      "file_extension": ".py",
      "mimetype": "text/x-python",
      "name": "python",
      "nbconvert_exporter": "python",
      "pygments_lexer": "ipython3",
      "version": "3.8.5"
    }
  },
  "nbformat": 4,
  "nbformat_minor": 0
}
